{
  "nbformat": 4,
  "nbformat_minor": 0,
  "metadata": {
    "colab": {
      "name": "PK1.ipynb",
      "provenance": [],
      "collapsed_sections": []
    },
    "language_info": {
      "codemirror_mode": {
        "name": "ipython",
        "version": 3
      },
      "file_extension": ".py",
      "mimetype": "text/x-python",
      "name": "python",
      "nbconvert_exporter": "python",
      "pygments_lexer": "ipython3",
      "version": "3.6.4"
    },
    "kernelspec": {
      "display_name": "Python 3",
      "language": "python",
      "name": "python3"
    }
  },
  "cells": [
    {
      "cell_type": "markdown",
      "metadata": {
        "id": "eJsQXAqq9zV9",
        "colab_type": "text"
      },
      "source": [
        "## Серов С.С. ИУ5-22 РК1\n",
        "\n",
        "# Задание\n",
        "\n",
        "Для заданного набора данных проведите обработку пропусков в данных. Какие способы обработки пропусков в данных для категориальных и количественных признаков Вы использовали? Какие признаки Вы будете использовать для дальнейшего построения моделей машинного обучения и почему? Для заданного набора данных произведите масштабирование данных и преобразование категориальных признаков в количественные. Какие методы Вы использовали для решения задачи и почему?\n",
        "\n",
        "Набор данных:   [kaggle.com (Marvel)](https://www.kaggle.com/fivethirtyeight/fivethirtyeight-comic-characters-dataset)\n"
      ]
    },
    {
      "cell_type": "markdown",
      "metadata": {
        "id": "rSwXPChI9yLX",
        "colab_type": "text"
      },
      "source": [
        "# Описание набора данных"
      ]
    },
    {
      "cell_type": "code",
      "metadata": {
        "id": "YZo8Hy-v-aEw",
        "colab_type": "code",
        "colab": {
          "base_uri": "https://localhost:8080/",
          "height": 462
        },
        "outputId": "7ee02fce-0e52-4d81-8215-195bf20bb1a3"
      },
      "source": [
        "from google.colab import files\n",
        "# files.upload()\n",
        "\n",
        "!ls -lha kaggle.json\n",
        "\n",
        "!pip install -q kaggle\n",
        "\n",
        "\n",
        "!mkdir -p ~/.kaggle\n",
        "!cp kaggle.json ~/.kaggle/\n",
        "\n",
        "# This permissions change avoids a warning on Kaggle tool startup.\n",
        "!chmod 600 ~/.kaggle/kaggle.json\n",
        "\n",
        "\n",
        "!kaggle datasets list\n",
        "\n",
        "!kaggle datasets download -d fivethirtyeight/fivethirtyeight-comic-characters-dataset"
      ],
      "execution_count": 92,
      "outputs": [
        {
          "output_type": "stream",
          "text": [
            "-rw-r--r-- 1 root root 68 Apr  3 16:26 kaggle.json\n",
            "Warning: Looks like you're using an outdated API Version, please consider updating (server 1.5.6 / client 1.5.4)\n",
            "ref                                                            title                                                size  lastUpdated          downloadCount  \n",
            "-------------------------------------------------------------  --------------------------------------------------  -----  -------------------  -------------  \n",
            "allen-institute-for-ai/CORD-19-research-challenge              COVID-19 Open Research Dataset Challenge (CORD-19)  729MB  2020-03-27 23:46:53          41093  \n",
            "ryanxjhan/cbc-news-coronavirus-articles-march-26               CBC News Coronavirus/COVID-19 Articles (NLP)          6MB  2020-03-27 23:23:07            245  \n",
            "vitaliymalcev/russian-passenger-air-service-20072020           Russian passenger air service 2007-2020             239KB  2020-04-02 22:27:03            158  \n",
            "danevans/world-bank-wdi-212-health-systems                     World Bank WDI 2.12 - Health Systems                  6KB  2020-03-29 19:00:14            310  \n",
            "sobhanmoosavi/us-accidents                                     US Accidents (3.0 million records)                  199MB  2020-01-17 04:45:09          12153  \n",
            "fireballbyedimyrnmom/us-counties-covid-19-dataset              US counties COVID 19 dataset                        206KB  2020-04-03 11:21:53            514  \n",
            "eswarchandt/amazon-music-reviews                               Amazon Musicual Instruments Reviews                   5MB  2020-03-29 02:59:52            125  \n",
            "trtmio/project-coviewed-subreddit-coronavirus-news-corpus      Project COVIEWED Coronavirus News Corpus              8MB  2020-03-31 11:32:45             22  \n",
            "monogenea/birdsongs-from-europe                                Bird songs from Europe (xeno-canto)                   7GB  2020-03-23 15:35:20             28  \n",
            "dheerajmpai/hospitals-and-beds-in-india                        Hospitals and beds in India (Statewise)               5KB  2020-03-27 14:05:50            187  \n",
            "lakritidis/identifying-influential-bloggers-techcrunch         Identifying Influential Bloggers: Techcrunch        112MB  2020-03-30 19:22:09             34  \n",
            "bappekim/air-pollution-in-seoul                                Air Pollution in Seoul                               20MB  2020-03-29 07:42:23            147  \n",
            "roche-data-science-coalition/uncover                           UNCOVER COVID-19 Challenge                          154MB  2020-04-01 15:17:39            599  \n",
            "sudalairajkumar/novel-corona-virus-2019-dataset                Novel Corona Virus 2019 Dataset                     661KB  2020-04-03 05:56:48         104553  \n",
            "kimjihoo/coronavirusdataset                                    Data Science for COVID-19 (DS4C)                      3MB  2020-03-30 19:54:12          24580  \n",
            "unanimad/dataisbeautiful                                       Reddit - Data is Beautiful                           11MB  2020-04-01 12:10:09           1456  \n",
            "jessemostipak/hotel-booking-demand                             Hotel booking demand                                  1MB  2020-02-13 01:27:20          12311  \n",
            "rubenssjr/brasilian-houses-to-rent                             brazilian_houses_to_rent                            282KB  2020-03-25 22:51:17           1554  \n",
            "paultimothymooney/covid19-containment-and-mitigation-measures  COVID-19 containment and mitigation measures        216KB  2020-04-03 11:08:32           1217  \n",
            "clmentbisaillon/fake-and-real-news-dataset                     Fake and real news dataset                           41MB  2020-03-26 18:51:15            605  \n",
            "fivethirtyeight-comic-characters-dataset.zip: Skipping, found more recently modified local copy (use --force to force download)\n"
          ],
          "name": "stdout"
        }
      ]
    },
    {
      "cell_type": "code",
      "metadata": {
        "id": "OvVQJVmTAFQb",
        "colab_type": "code",
        "colab": {
          "base_uri": "https://localhost:8080/",
          "height": 54
        },
        "outputId": "2dba6348-12bd-4413-9a87-d5fadba9856d"
      },
      "source": [
        "# !unzip /content/fivethirtyeight-comic-characters-dataset.zip\n",
        "!head marvel-wikia-data.csv"
      ],
      "execution_count": 93,
      "outputs": [
        {
          "output_type": "stream",
          "text": [
            "673702,Yologarch (Earth-616),\\/Yologarch_(Earth-616),,Bad Characters,,,,,Living Characters,,,"
          ],
          "name": "stdout"
        }
      ]
    },
    {
      "cell_type": "code",
      "metadata": {
        "id": "CLBJ3vqe9yLa",
        "colab_type": "code",
        "outputId": "3b1d081d-5ad8-4ff8-819d-af537e7a6541",
        "colab": {
          "base_uri": "https://localhost:8080/",
          "height": 479
        }
      },
      "source": [
        "import numpy as np\n",
        "import pandas as pd\n",
        "import seaborn as sns\n",
        "import matplotlib.pyplot as plt\n",
        "from sklearn.datasets import load_wine\n",
        "%matplotlib inline \n",
        "\n",
        "data = pd.read_csv('marvel-wikia-data.csv', sep=\",\")\n",
        "# data = pd.get_dummies(data)\n",
        "data.head()"
      ],
      "execution_count": 94,
      "outputs": [
        {
          "output_type": "execute_result",
          "data": {
            "text/html": [
              "<div>\n",
              "<style scoped>\n",
              "    .dataframe tbody tr th:only-of-type {\n",
              "        vertical-align: middle;\n",
              "    }\n",
              "\n",
              "    .dataframe tbody tr th {\n",
              "        vertical-align: top;\n",
              "    }\n",
              "\n",
              "    .dataframe thead th {\n",
              "        text-align: right;\n",
              "    }\n",
              "</style>\n",
              "<table border=\"1\" class=\"dataframe\">\n",
              "  <thead>\n",
              "    <tr style=\"text-align: right;\">\n",
              "      <th></th>\n",
              "      <th>page_id</th>\n",
              "      <th>name</th>\n",
              "      <th>urlslug</th>\n",
              "      <th>ID</th>\n",
              "      <th>ALIGN</th>\n",
              "      <th>EYE</th>\n",
              "      <th>HAIR</th>\n",
              "      <th>SEX</th>\n",
              "      <th>GSM</th>\n",
              "      <th>ALIVE</th>\n",
              "      <th>APPEARANCES</th>\n",
              "      <th>FIRST APPEARANCE</th>\n",
              "      <th>Year</th>\n",
              "    </tr>\n",
              "  </thead>\n",
              "  <tbody>\n",
              "    <tr>\n",
              "      <th>0</th>\n",
              "      <td>1678</td>\n",
              "      <td>Spider-Man (Peter Parker)</td>\n",
              "      <td>\\/Spider-Man_(Peter_Parker)</td>\n",
              "      <td>Secret Identity</td>\n",
              "      <td>Good Characters</td>\n",
              "      <td>Hazel Eyes</td>\n",
              "      <td>Brown Hair</td>\n",
              "      <td>Male Characters</td>\n",
              "      <td>NaN</td>\n",
              "      <td>Living Characters</td>\n",
              "      <td>4043.0</td>\n",
              "      <td>Aug-62</td>\n",
              "      <td>1962.0</td>\n",
              "    </tr>\n",
              "    <tr>\n",
              "      <th>1</th>\n",
              "      <td>7139</td>\n",
              "      <td>Captain America (Steven Rogers)</td>\n",
              "      <td>\\/Captain_America_(Steven_Rogers)</td>\n",
              "      <td>Public Identity</td>\n",
              "      <td>Good Characters</td>\n",
              "      <td>Blue Eyes</td>\n",
              "      <td>White Hair</td>\n",
              "      <td>Male Characters</td>\n",
              "      <td>NaN</td>\n",
              "      <td>Living Characters</td>\n",
              "      <td>3360.0</td>\n",
              "      <td>Mar-41</td>\n",
              "      <td>1941.0</td>\n",
              "    </tr>\n",
              "    <tr>\n",
              "      <th>2</th>\n",
              "      <td>64786</td>\n",
              "      <td>Wolverine (James \\\"Logan\\\" Howlett)</td>\n",
              "      <td>\\/Wolverine_(James_%22Logan%22_Howlett)</td>\n",
              "      <td>Public Identity</td>\n",
              "      <td>Neutral Characters</td>\n",
              "      <td>Blue Eyes</td>\n",
              "      <td>Black Hair</td>\n",
              "      <td>Male Characters</td>\n",
              "      <td>NaN</td>\n",
              "      <td>Living Characters</td>\n",
              "      <td>3061.0</td>\n",
              "      <td>Oct-74</td>\n",
              "      <td>1974.0</td>\n",
              "    </tr>\n",
              "    <tr>\n",
              "      <th>3</th>\n",
              "      <td>1868</td>\n",
              "      <td>Iron Man (Anthony \\\"Tony\\\" Stark)</td>\n",
              "      <td>\\/Iron_Man_(Anthony_%22Tony%22_Stark)</td>\n",
              "      <td>Public Identity</td>\n",
              "      <td>Good Characters</td>\n",
              "      <td>Blue Eyes</td>\n",
              "      <td>Black Hair</td>\n",
              "      <td>Male Characters</td>\n",
              "      <td>NaN</td>\n",
              "      <td>Living Characters</td>\n",
              "      <td>2961.0</td>\n",
              "      <td>Mar-63</td>\n",
              "      <td>1963.0</td>\n",
              "    </tr>\n",
              "    <tr>\n",
              "      <th>4</th>\n",
              "      <td>2460</td>\n",
              "      <td>Thor (Thor Odinson)</td>\n",
              "      <td>\\/Thor_(Thor_Odinson)</td>\n",
              "      <td>No Dual Identity</td>\n",
              "      <td>Good Characters</td>\n",
              "      <td>Blue Eyes</td>\n",
              "      <td>Blond Hair</td>\n",
              "      <td>Male Characters</td>\n",
              "      <td>NaN</td>\n",
              "      <td>Living Characters</td>\n",
              "      <td>2258.0</td>\n",
              "      <td>Nov-50</td>\n",
              "      <td>1950.0</td>\n",
              "    </tr>\n",
              "  </tbody>\n",
              "</table>\n",
              "</div>"
            ],
            "text/plain": [
              "   page_id                                 name  ... FIRST APPEARANCE    Year\n",
              "0     1678            Spider-Man (Peter Parker)  ...           Aug-62  1962.0\n",
              "1     7139      Captain America (Steven Rogers)  ...           Mar-41  1941.0\n",
              "2    64786  Wolverine (James \\\"Logan\\\" Howlett)  ...           Oct-74  1974.0\n",
              "3     1868    Iron Man (Anthony \\\"Tony\\\" Stark)  ...           Mar-63  1963.0\n",
              "4     2460                  Thor (Thor Odinson)  ...           Nov-50  1950.0\n",
              "\n",
              "[5 rows x 13 columns]"
            ]
          },
          "metadata": {
            "tags": []
          },
          "execution_count": 94
        }
      ]
    },
    {
      "cell_type": "code",
      "metadata": {
        "id": "b4Am1i-g9yLl",
        "colab_type": "code",
        "outputId": "949738ff-ad7a-4867-eca5-e1819b831de7",
        "colab": {
          "base_uri": "https://localhost:8080/",
          "height": 34
        }
      },
      "source": [
        "data.shape"
      ],
      "execution_count": 95,
      "outputs": [
        {
          "output_type": "execute_result",
          "data": {
            "text/plain": [
              "(16376, 13)"
            ]
          },
          "metadata": {
            "tags": []
          },
          "execution_count": 95
        }
      ]
    },
    {
      "cell_type": "code",
      "metadata": {
        "id": "QWAmCCgA9yLt",
        "colab_type": "code",
        "outputId": "1df9a8ee-3b3a-4682-8684-22215ce5bbba",
        "colab": {
          "base_uri": "https://localhost:8080/",
          "height": 255
        }
      },
      "source": [
        "# Список колонок с типами данных\n",
        "data.dtypes"
      ],
      "execution_count": 96,
      "outputs": [
        {
          "output_type": "execute_result",
          "data": {
            "text/plain": [
              "page_id               int64\n",
              "name                 object\n",
              "urlslug              object\n",
              "ID                   object\n",
              "ALIGN                object\n",
              "EYE                  object\n",
              "HAIR                 object\n",
              "SEX                  object\n",
              "GSM                  object\n",
              "ALIVE                object\n",
              "APPEARANCES         float64\n",
              "FIRST APPEARANCE     object\n",
              "Year                float64\n",
              "dtype: object"
            ]
          },
          "metadata": {
            "tags": []
          },
          "execution_count": 96
        }
      ]
    },
    {
      "cell_type": "code",
      "metadata": {
        "id": "lubxZvkVCgoh",
        "colab_type": "code",
        "colab": {
          "base_uri": "https://localhost:8080/",
          "height": 255
        },
        "outputId": "b0d8dafc-e154-4710-b3b0-44cafd039f06"
      },
      "source": [
        "# Количество пустых значений\n",
        "data.isnull().sum()"
      ],
      "execution_count": 97,
      "outputs": [
        {
          "output_type": "execute_result",
          "data": {
            "text/plain": [
              "page_id                 0\n",
              "name                    0\n",
              "urlslug                 0\n",
              "ID                   3770\n",
              "ALIGN                2812\n",
              "EYE                  9767\n",
              "HAIR                 4264\n",
              "SEX                   854\n",
              "GSM                 16286\n",
              "ALIVE                   3\n",
              "APPEARANCES          1096\n",
              "FIRST APPEARANCE      815\n",
              "Year                  815\n",
              "dtype: int64"
            ]
          },
          "metadata": {
            "tags": []
          },
          "execution_count": 97
        }
      ]
    },
    {
      "cell_type": "code",
      "metadata": {
        "id": "u5H4V0l29yLz",
        "colab_type": "code",
        "outputId": "3767e88c-2d5f-4f77-a85f-e92a821ceb90",
        "colab": {
          "base_uri": "https://localhost:8080/",
          "height": 297
        }
      },
      "source": [
        "# Основные статистические характеристки набора данных\n",
        "data.describe()"
      ],
      "execution_count": 98,
      "outputs": [
        {
          "output_type": "execute_result",
          "data": {
            "text/html": [
              "<div>\n",
              "<style scoped>\n",
              "    .dataframe tbody tr th:only-of-type {\n",
              "        vertical-align: middle;\n",
              "    }\n",
              "\n",
              "    .dataframe tbody tr th {\n",
              "        vertical-align: top;\n",
              "    }\n",
              "\n",
              "    .dataframe thead th {\n",
              "        text-align: right;\n",
              "    }\n",
              "</style>\n",
              "<table border=\"1\" class=\"dataframe\">\n",
              "  <thead>\n",
              "    <tr style=\"text-align: right;\">\n",
              "      <th></th>\n",
              "      <th>page_id</th>\n",
              "      <th>APPEARANCES</th>\n",
              "      <th>Year</th>\n",
              "    </tr>\n",
              "  </thead>\n",
              "  <tbody>\n",
              "    <tr>\n",
              "      <th>count</th>\n",
              "      <td>16376.000000</td>\n",
              "      <td>15280.000000</td>\n",
              "      <td>15561.000000</td>\n",
              "    </tr>\n",
              "    <tr>\n",
              "      <th>mean</th>\n",
              "      <td>300232.082377</td>\n",
              "      <td>17.033377</td>\n",
              "      <td>1984.951803</td>\n",
              "    </tr>\n",
              "    <tr>\n",
              "      <th>std</th>\n",
              "      <td>253460.403399</td>\n",
              "      <td>96.372959</td>\n",
              "      <td>19.663571</td>\n",
              "    </tr>\n",
              "    <tr>\n",
              "      <th>min</th>\n",
              "      <td>1025.000000</td>\n",
              "      <td>1.000000</td>\n",
              "      <td>1939.000000</td>\n",
              "    </tr>\n",
              "    <tr>\n",
              "      <th>25%</th>\n",
              "      <td>28309.500000</td>\n",
              "      <td>1.000000</td>\n",
              "      <td>1974.000000</td>\n",
              "    </tr>\n",
              "    <tr>\n",
              "      <th>50%</th>\n",
              "      <td>282578.000000</td>\n",
              "      <td>3.000000</td>\n",
              "      <td>1990.000000</td>\n",
              "    </tr>\n",
              "    <tr>\n",
              "      <th>75%</th>\n",
              "      <td>509077.000000</td>\n",
              "      <td>8.000000</td>\n",
              "      <td>2000.000000</td>\n",
              "    </tr>\n",
              "    <tr>\n",
              "      <th>max</th>\n",
              "      <td>755278.000000</td>\n",
              "      <td>4043.000000</td>\n",
              "      <td>2013.000000</td>\n",
              "    </tr>\n",
              "  </tbody>\n",
              "</table>\n",
              "</div>"
            ],
            "text/plain": [
              "             page_id   APPEARANCES          Year\n",
              "count   16376.000000  15280.000000  15561.000000\n",
              "mean   300232.082377     17.033377   1984.951803\n",
              "std    253460.403399     96.372959     19.663571\n",
              "min      1025.000000      1.000000   1939.000000\n",
              "25%     28309.500000      1.000000   1974.000000\n",
              "50%    282578.000000      3.000000   1990.000000\n",
              "75%    509077.000000      8.000000   2000.000000\n",
              "max    755278.000000   4043.000000   2013.000000"
            ]
          },
          "metadata": {
            "tags": []
          },
          "execution_count": 98
        }
      ]
    },
    {
      "cell_type": "code",
      "metadata": {
        "id": "Rjk52SxkCyTq",
        "colab_type": "code",
        "colab": {
          "base_uri": "https://localhost:8080/",
          "height": 34
        },
        "outputId": "4f9e25a6-874b-43b5-f5b7-22459d152ce1"
      },
      "source": [
        "total_count = data.shape[0]\n",
        "print('Строк в наборе : {}'.format(total_count))"
      ],
      "execution_count": 99,
      "outputs": [
        {
          "output_type": "stream",
          "text": [
            "Строк в наборе : 16376\n"
          ],
          "name": "stdout"
        }
      ]
    },
    {
      "cell_type": "markdown",
      "metadata": {
        "id": "519oNVY9DDbV",
        "colab_type": "text"
      },
      "source": [
        "# Обработка пропусков\n",
        "\n",
        "#### Удаление колонок, содержащих пустые значения\n"
      ]
    },
    {
      "cell_type": "code",
      "metadata": {
        "id": "LLHLOjeZDMuD",
        "colab_type": "code",
        "colab": {
          "base_uri": "https://localhost:8080/",
          "height": 34
        },
        "outputId": "1e8fc91d-c233-4a6d-fdd4-05fa020a49b9"
      },
      "source": [
        "data_new_1 = data.dropna(axis=1, how='any')\n",
        "(data.shape, data_new_1.shape)"
      ],
      "execution_count": 100,
      "outputs": [
        {
          "output_type": "execute_result",
          "data": {
            "text/plain": [
              "((16376, 13), (16376, 3))"
            ]
          },
          "metadata": {
            "tags": []
          },
          "execution_count": 100
        }
      ]
    },
    {
      "cell_type": "markdown",
      "metadata": {
        "id": "bmOoeRaMDPTS",
        "colab_type": "text"
      },
      "source": [
        "#### Удаление строк, содержащих пустые значения\n",
        "\n"
      ]
    },
    {
      "cell_type": "code",
      "metadata": {
        "id": "U86VT-MhDUF0",
        "colab_type": "code",
        "colab": {
          "base_uri": "https://localhost:8080/",
          "height": 34
        },
        "outputId": "07067c5c-5de0-48ac-9656-d2d39f656712"
      },
      "source": [
        "data_new_2 = data.dropna(axis=0, how='any')\n",
        "(data.shape, data_new_2.shape)"
      ],
      "execution_count": 101,
      "outputs": [
        {
          "output_type": "execute_result",
          "data": {
            "text/plain": [
              "((16376, 13), (58, 13))"
            ]
          },
          "metadata": {
            "tags": []
          },
          "execution_count": 101
        }
      ]
    },
    {
      "cell_type": "markdown",
      "metadata": {
        "id": "lIjPUjw8Dmrx",
        "colab_type": "text"
      },
      "source": [
        "#### Заполнение всех пропущенных значений нулями"
      ]
    },
    {
      "cell_type": "code",
      "metadata": {
        "id": "gGmlsYYuDWXA",
        "colab_type": "code",
        "colab": {
          "base_uri": "https://localhost:8080/",
          "height": 479
        },
        "outputId": "508efbf0-a38e-4a0d-b995-0ab3aaf88fa8"
      },
      "source": [
        "data_new_3 = data.fillna(0)\n",
        "data_new_3.head()"
      ],
      "execution_count": 102,
      "outputs": [
        {
          "output_type": "execute_result",
          "data": {
            "text/html": [
              "<div>\n",
              "<style scoped>\n",
              "    .dataframe tbody tr th:only-of-type {\n",
              "        vertical-align: middle;\n",
              "    }\n",
              "\n",
              "    .dataframe tbody tr th {\n",
              "        vertical-align: top;\n",
              "    }\n",
              "\n",
              "    .dataframe thead th {\n",
              "        text-align: right;\n",
              "    }\n",
              "</style>\n",
              "<table border=\"1\" class=\"dataframe\">\n",
              "  <thead>\n",
              "    <tr style=\"text-align: right;\">\n",
              "      <th></th>\n",
              "      <th>page_id</th>\n",
              "      <th>name</th>\n",
              "      <th>urlslug</th>\n",
              "      <th>ID</th>\n",
              "      <th>ALIGN</th>\n",
              "      <th>EYE</th>\n",
              "      <th>HAIR</th>\n",
              "      <th>SEX</th>\n",
              "      <th>GSM</th>\n",
              "      <th>ALIVE</th>\n",
              "      <th>APPEARANCES</th>\n",
              "      <th>FIRST APPEARANCE</th>\n",
              "      <th>Year</th>\n",
              "    </tr>\n",
              "  </thead>\n",
              "  <tbody>\n",
              "    <tr>\n",
              "      <th>0</th>\n",
              "      <td>1678</td>\n",
              "      <td>Spider-Man (Peter Parker)</td>\n",
              "      <td>\\/Spider-Man_(Peter_Parker)</td>\n",
              "      <td>Secret Identity</td>\n",
              "      <td>Good Characters</td>\n",
              "      <td>Hazel Eyes</td>\n",
              "      <td>Brown Hair</td>\n",
              "      <td>Male Characters</td>\n",
              "      <td>0</td>\n",
              "      <td>Living Characters</td>\n",
              "      <td>4043.0</td>\n",
              "      <td>Aug-62</td>\n",
              "      <td>1962.0</td>\n",
              "    </tr>\n",
              "    <tr>\n",
              "      <th>1</th>\n",
              "      <td>7139</td>\n",
              "      <td>Captain America (Steven Rogers)</td>\n",
              "      <td>\\/Captain_America_(Steven_Rogers)</td>\n",
              "      <td>Public Identity</td>\n",
              "      <td>Good Characters</td>\n",
              "      <td>Blue Eyes</td>\n",
              "      <td>White Hair</td>\n",
              "      <td>Male Characters</td>\n",
              "      <td>0</td>\n",
              "      <td>Living Characters</td>\n",
              "      <td>3360.0</td>\n",
              "      <td>Mar-41</td>\n",
              "      <td>1941.0</td>\n",
              "    </tr>\n",
              "    <tr>\n",
              "      <th>2</th>\n",
              "      <td>64786</td>\n",
              "      <td>Wolverine (James \\\"Logan\\\" Howlett)</td>\n",
              "      <td>\\/Wolverine_(James_%22Logan%22_Howlett)</td>\n",
              "      <td>Public Identity</td>\n",
              "      <td>Neutral Characters</td>\n",
              "      <td>Blue Eyes</td>\n",
              "      <td>Black Hair</td>\n",
              "      <td>Male Characters</td>\n",
              "      <td>0</td>\n",
              "      <td>Living Characters</td>\n",
              "      <td>3061.0</td>\n",
              "      <td>Oct-74</td>\n",
              "      <td>1974.0</td>\n",
              "    </tr>\n",
              "    <tr>\n",
              "      <th>3</th>\n",
              "      <td>1868</td>\n",
              "      <td>Iron Man (Anthony \\\"Tony\\\" Stark)</td>\n",
              "      <td>\\/Iron_Man_(Anthony_%22Tony%22_Stark)</td>\n",
              "      <td>Public Identity</td>\n",
              "      <td>Good Characters</td>\n",
              "      <td>Blue Eyes</td>\n",
              "      <td>Black Hair</td>\n",
              "      <td>Male Characters</td>\n",
              "      <td>0</td>\n",
              "      <td>Living Characters</td>\n",
              "      <td>2961.0</td>\n",
              "      <td>Mar-63</td>\n",
              "      <td>1963.0</td>\n",
              "    </tr>\n",
              "    <tr>\n",
              "      <th>4</th>\n",
              "      <td>2460</td>\n",
              "      <td>Thor (Thor Odinson)</td>\n",
              "      <td>\\/Thor_(Thor_Odinson)</td>\n",
              "      <td>No Dual Identity</td>\n",
              "      <td>Good Characters</td>\n",
              "      <td>Blue Eyes</td>\n",
              "      <td>Blond Hair</td>\n",
              "      <td>Male Characters</td>\n",
              "      <td>0</td>\n",
              "      <td>Living Characters</td>\n",
              "      <td>2258.0</td>\n",
              "      <td>Nov-50</td>\n",
              "      <td>1950.0</td>\n",
              "    </tr>\n",
              "  </tbody>\n",
              "</table>\n",
              "</div>"
            ],
            "text/plain": [
              "   page_id                                 name  ... FIRST APPEARANCE    Year\n",
              "0     1678            Spider-Man (Peter Parker)  ...           Aug-62  1962.0\n",
              "1     7139      Captain America (Steven Rogers)  ...           Mar-41  1941.0\n",
              "2    64786  Wolverine (James \\\"Logan\\\" Howlett)  ...           Oct-74  1974.0\n",
              "3     1868    Iron Man (Anthony \\\"Tony\\\" Stark)  ...           Mar-63  1963.0\n",
              "4     2460                  Thor (Thor Odinson)  ...           Nov-50  1950.0\n",
              "\n",
              "[5 rows x 13 columns]"
            ]
          },
          "metadata": {
            "tags": []
          },
          "execution_count": 102
        }
      ]
    },
    {
      "cell_type": "markdown",
      "metadata": {
        "id": "dP6xgBiKFtzS",
        "colab_type": "text"
      },
      "source": [
        "# Построение гистограммы"
      ]
    },
    {
      "cell_type": "code",
      "metadata": {
        "id": "W6j2r5WGFxE3",
        "colab_type": "code",
        "colab": {
          "base_uri": "https://localhost:8080/",
          "height": 623
        },
        "outputId": "2f7d4983-793a-48a7-8ac9-b16943e863df"
      },
      "source": [
        "# для колонки Year\n",
        "fig, ax = plt.subplots(figsize=(10,10)) \n",
        "sns.distplot(data['Year'])"
      ],
      "execution_count": 103,
      "outputs": [
        {
          "output_type": "execute_result",
          "data": {
            "text/plain": [
              "<matplotlib.axes._subplots.AxesSubplot at 0x7fdc9d836048>"
            ]
          },
          "metadata": {
            "tags": []
          },
          "execution_count": 103
        },
        {
          "output_type": "display_data",
          "data": {
            "image/png": "[encoded data removed]",
            "text/plain": [
              "<Figure size 720x720 with 1 Axes>"
            ]
          },
          "metadata": {
            "tags": []
          }
        }
      ]
    },
    {
      "cell_type": "markdown",
      "metadata": {
        "id": "auJwcRyVD03d",
        "colab_type": "text"
      },
      "source": [
        "# Импьютация\n",
        "#### Числовые данные\n",
        "##### Выберем числовые колонки с пропущенными значениями"
      ]
    },
    {
      "cell_type": "code",
      "metadata": {
        "id": "HYkqpZh6D9GL",
        "colab_type": "code",
        "colab": {
          "base_uri": "https://localhost:8080/",
          "height": 51
        },
        "outputId": "adc9a33f-9669-4bff-9d67-8021b42dfe11"
      },
      "source": [
        "# Выберем числовые колонки с пропущенными значениями\n",
        "# Цикл по колонкам датасета\n",
        "num_cols = []\n",
        "for col in data.columns:\n",
        "    # Количество пустых значений \n",
        "    temp_null_count = data[data[col].isnull()].shape[0]\n",
        "    dt = str(data[col].dtype)\n",
        "    if temp_null_count>0 and (dt=='float64' or dt=='int64'):\n",
        "        num_cols.append(col)\n",
        "        temp_perc = round((temp_null_count / total_count) * 100.0, 2)\n",
        "        print('Колонка {}. Тип данных {}. Количество пустых значений {}, {}%.'.format(col, dt, temp_null_count, temp_perc))"
      ],
      "execution_count": 104,
      "outputs": [
        {
          "output_type": "stream",
          "text": [
            "Колонка APPEARANCES. Тип данных float64. Количество пустых значений 1096, 6.69%.\n",
            "Колонка Year. Тип данных float64. Количество пустых значений 815, 4.98%.\n"
          ],
          "name": "stdout"
        }
      ]
    },
    {
      "cell_type": "code",
      "metadata": {
        "id": "8dJIVwONGPWT",
        "colab_type": "code",
        "colab": {
          "base_uri": "https://localhost:8080/",
          "height": 419
        },
        "outputId": "3f9abca3-c57f-4cbc-dddf-4d176c78c90a"
      },
      "source": [
        "# Фильтр по колонкам с пропущенными значениями\n",
        "data_num = data[num_cols]\n",
        "data_num"
      ],
      "execution_count": 105,
      "outputs": [
        {
          "output_type": "execute_result",
          "data": {
            "text/html": [
              "<div>\n",
              "<style scoped>\n",
              "    .dataframe tbody tr th:only-of-type {\n",
              "        vertical-align: middle;\n",
              "    }\n",
              "\n",
              "    .dataframe tbody tr th {\n",
              "        vertical-align: top;\n",
              "    }\n",
              "\n",
              "    .dataframe thead th {\n",
              "        text-align: right;\n",
              "    }\n",
              "</style>\n",
              "<table border=\"1\" class=\"dataframe\">\n",
              "  <thead>\n",
              "    <tr style=\"text-align: right;\">\n",
              "      <th></th>\n",
              "      <th>APPEARANCES</th>\n",
              "      <th>Year</th>\n",
              "    </tr>\n",
              "  </thead>\n",
              "  <tbody>\n",
              "    <tr>\n",
              "      <th>0</th>\n",
              "      <td>4043.0</td>\n",
              "      <td>1962.0</td>\n",
              "    </tr>\n",
              "    <tr>\n",
              "      <th>1</th>\n",
              "      <td>3360.0</td>\n",
              "      <td>1941.0</td>\n",
              "    </tr>\n",
              "    <tr>\n",
              "      <th>2</th>\n",
              "      <td>3061.0</td>\n",
              "      <td>1974.0</td>\n",
              "    </tr>\n",
              "    <tr>\n",
              "      <th>3</th>\n",
              "      <td>2961.0</td>\n",
              "      <td>1963.0</td>\n",
              "    </tr>\n",
              "    <tr>\n",
              "      <th>4</th>\n",
              "      <td>2258.0</td>\n",
              "      <td>1950.0</td>\n",
              "    </tr>\n",
              "    <tr>\n",
              "      <th>...</th>\n",
              "      <td>...</td>\n",
              "      <td>...</td>\n",
              "    </tr>\n",
              "    <tr>\n",
              "      <th>16371</th>\n",
              "      <td>NaN</td>\n",
              "      <td>NaN</td>\n",
              "    </tr>\n",
              "    <tr>\n",
              "      <th>16372</th>\n",
              "      <td>NaN</td>\n",
              "      <td>NaN</td>\n",
              "    </tr>\n",
              "    <tr>\n",
              "      <th>16373</th>\n",
              "      <td>NaN</td>\n",
              "      <td>NaN</td>\n",
              "    </tr>\n",
              "    <tr>\n",
              "      <th>16374</th>\n",
              "      <td>NaN</td>\n",
              "      <td>NaN</td>\n",
              "    </tr>\n",
              "    <tr>\n",
              "      <th>16375</th>\n",
              "      <td>NaN</td>\n",
              "      <td>NaN</td>\n",
              "    </tr>\n",
              "  </tbody>\n",
              "</table>\n",
              "<p>16376 rows × 2 columns</p>\n",
              "</div>"
            ],
            "text/plain": [
              "       APPEARANCES    Year\n",
              "0           4043.0  1962.0\n",
              "1           3360.0  1941.0\n",
              "2           3061.0  1974.0\n",
              "3           2961.0  1963.0\n",
              "4           2258.0  1950.0\n",
              "...            ...     ...\n",
              "16371          NaN     NaN\n",
              "16372          NaN     NaN\n",
              "16373          NaN     NaN\n",
              "16374          NaN     NaN\n",
              "16375          NaN     NaN\n",
              "\n",
              "[16376 rows x 2 columns]"
            ]
          },
          "metadata": {
            "tags": []
          },
          "execution_count": 105
        }
      ]
    },
    {
      "cell_type": "code",
      "metadata": {
        "id": "yv4PtglsGSiX",
        "colab_type": "code",
        "colab": {
          "base_uri": "https://localhost:8080/",
          "height": 179
        },
        "outputId": "688aff0f-7cc0-4e59-d042-de3c2cbb8058"
      },
      "source": [
        "# Фильтр по пустым значениям поля APPEARANCES \n",
        "data[data['ALIVE'].isnull()]"
      ],
      "execution_count": 106,
      "outputs": [
        {
          "output_type": "execute_result",
          "data": {
            "text/html": [
              "<div>\n",
              "<style scoped>\n",
              "    .dataframe tbody tr th:only-of-type {\n",
              "        vertical-align: middle;\n",
              "    }\n",
              "\n",
              "    .dataframe tbody tr th {\n",
              "        vertical-align: top;\n",
              "    }\n",
              "\n",
              "    .dataframe thead th {\n",
              "        text-align: right;\n",
              "    }\n",
              "</style>\n",
              "<table border=\"1\" class=\"dataframe\">\n",
              "  <thead>\n",
              "    <tr style=\"text-align: right;\">\n",
              "      <th></th>\n",
              "      <th>page_id</th>\n",
              "      <th>name</th>\n",
              "      <th>urlslug</th>\n",
              "      <th>ID</th>\n",
              "      <th>ALIGN</th>\n",
              "      <th>EYE</th>\n",
              "      <th>HAIR</th>\n",
              "      <th>SEX</th>\n",
              "      <th>GSM</th>\n",
              "      <th>ALIVE</th>\n",
              "      <th>APPEARANCES</th>\n",
              "      <th>FIRST APPEARANCE</th>\n",
              "      <th>Year</th>\n",
              "    </tr>\n",
              "  </thead>\n",
              "  <tbody>\n",
              "    <tr>\n",
              "      <th>16293</th>\n",
              "      <td>541449</td>\n",
              "      <td>Mj7711</td>\n",
              "      <td>\\/User:Mj7711</td>\n",
              "      <td>NaN</td>\n",
              "      <td>NaN</td>\n",
              "      <td>NaN</td>\n",
              "      <td>NaN</td>\n",
              "      <td>NaN</td>\n",
              "      <td>NaN</td>\n",
              "      <td>NaN</td>\n",
              "      <td>NaN</td>\n",
              "      <td>NaN</td>\n",
              "      <td>NaN</td>\n",
              "    </tr>\n",
              "    <tr>\n",
              "      <th>16329</th>\n",
              "      <td>714409</td>\n",
              "      <td>Sharjeel786</td>\n",
              "      <td>\\/User:Sharjeel786</td>\n",
              "      <td>NaN</td>\n",
              "      <td>NaN</td>\n",
              "      <td>NaN</td>\n",
              "      <td>NaN</td>\n",
              "      <td>NaN</td>\n",
              "      <td>NaN</td>\n",
              "      <td>NaN</td>\n",
              "      <td>NaN</td>\n",
              "      <td>NaN</td>\n",
              "      <td>NaN</td>\n",
              "    </tr>\n",
              "    <tr>\n",
              "      <th>16347</th>\n",
              "      <td>462671</td>\n",
              "      <td>TOR\\/test</td>\n",
              "      <td>\\/User:TOR\\/test</td>\n",
              "      <td>NaN</td>\n",
              "      <td>NaN</td>\n",
              "      <td>NaN</td>\n",
              "      <td>NaN</td>\n",
              "      <td>NaN</td>\n",
              "      <td>NaN</td>\n",
              "      <td>NaN</td>\n",
              "      <td>NaN</td>\n",
              "      <td>NaN</td>\n",
              "      <td>NaN</td>\n",
              "    </tr>\n",
              "  </tbody>\n",
              "</table>\n",
              "</div>"
            ],
            "text/plain": [
              "       page_id         name  ... FIRST APPEARANCE Year\n",
              "16293   541449       Mj7711  ...              NaN  NaN\n",
              "16329   714409  Sharjeel786  ...              NaN  NaN\n",
              "16347   462671    TOR\\/test  ...              NaN  NaN\n",
              "\n",
              "[3 rows x 13 columns]"
            ]
          },
          "metadata": {
            "tags": []
          },
          "execution_count": 106
        }
      ]
    },
    {
      "cell_type": "markdown",
      "metadata": {
        "id": "vVH8wR6XJpS0",
        "colab_type": "text"
      },
      "source": [
        "#### Запоминаем индексы строк с пустыми значениями\n"
      ]
    },
    {
      "cell_type": "code",
      "metadata": {
        "id": "NAV7HLfxJr_f",
        "colab_type": "code",
        "colab": {
          "base_uri": "https://localhost:8080/",
          "height": 119
        },
        "outputId": "4c554801-7181-45e1-851e-172aed34cf63"
      },
      "source": [
        "flt_index = data[data['APPEARANCES'].isnull()].index\n",
        "flt_index"
      ],
      "execution_count": 107,
      "outputs": [
        {
          "output_type": "execute_result",
          "data": {
            "text/plain": [
              "Int64Index([15280, 15281, 15282, 15283, 15284, 15285, 15286, 15287, 15288,\n",
              "            15289,\n",
              "            ...\n",
              "            16366, 16367, 16368, 16369, 16370, 16371, 16372, 16373, 16374,\n",
              "            16375],\n",
              "           dtype='int64', length=1096)"
            ]
          },
          "metadata": {
            "tags": []
          },
          "execution_count": 107
        }
      ]
    },
    {
      "cell_type": "code",
      "metadata": {
        "id": "XOKTzZgKJyDc",
        "colab_type": "code",
        "colab": {
          "base_uri": "https://localhost:8080/",
          "height": 221
        },
        "outputId": "94ef2ca4-be20-461f-86f5-2f80cda63331"
      },
      "source": [
        "data_num[data_num.index.isin(flt_index)]['APPEARANCES']"
      ],
      "execution_count": 108,
      "outputs": [
        {
          "output_type": "execute_result",
          "data": {
            "text/plain": [
              "15280   NaN\n",
              "15281   NaN\n",
              "15282   NaN\n",
              "15283   NaN\n",
              "15284   NaN\n",
              "         ..\n",
              "16371   NaN\n",
              "16372   NaN\n",
              "16373   NaN\n",
              "16374   NaN\n",
              "16375   NaN\n",
              "Name: APPEARANCES, Length: 1096, dtype: float64"
            ]
          },
          "metadata": {
            "tags": []
          },
          "execution_count": 108
        }
      ]
    },
    {
      "cell_type": "code",
      "metadata": {
        "id": "6ih8wd3vJzey",
        "colab_type": "code",
        "colab": {
          "base_uri": "https://localhost:8080/",
          "height": 204
        },
        "outputId": "6a39c6cf-7bd0-4e39-9095-dd9b30a45b27"
      },
      "source": [
        "data_num_MasVnrArea = data_num[['APPEARANCES']]\n",
        "data_num_MasVnrArea.head()"
      ],
      "execution_count": 109,
      "outputs": [
        {
          "output_type": "execute_result",
          "data": {
            "text/html": [
              "<div>\n",
              "<style scoped>\n",
              "    .dataframe tbody tr th:only-of-type {\n",
              "        vertical-align: middle;\n",
              "    }\n",
              "\n",
              "    .dataframe tbody tr th {\n",
              "        vertical-align: top;\n",
              "    }\n",
              "\n",
              "    .dataframe thead th {\n",
              "        text-align: right;\n",
              "    }\n",
              "</style>\n",
              "<table border=\"1\" class=\"dataframe\">\n",
              "  <thead>\n",
              "    <tr style=\"text-align: right;\">\n",
              "      <th></th>\n",
              "      <th>APPEARANCES</th>\n",
              "    </tr>\n",
              "  </thead>\n",
              "  <tbody>\n",
              "    <tr>\n",
              "      <th>0</th>\n",
              "      <td>4043.0</td>\n",
              "    </tr>\n",
              "    <tr>\n",
              "      <th>1</th>\n",
              "      <td>3360.0</td>\n",
              "    </tr>\n",
              "    <tr>\n",
              "      <th>2</th>\n",
              "      <td>3061.0</td>\n",
              "    </tr>\n",
              "    <tr>\n",
              "      <th>3</th>\n",
              "      <td>2961.0</td>\n",
              "    </tr>\n",
              "    <tr>\n",
              "      <th>4</th>\n",
              "      <td>2258.0</td>\n",
              "    </tr>\n",
              "  </tbody>\n",
              "</table>\n",
              "</div>"
            ],
            "text/plain": [
              "   APPEARANCES\n",
              "0       4043.0\n",
              "1       3360.0\n",
              "2       3061.0\n",
              "3       2961.0\n",
              "4       2258.0"
            ]
          },
          "metadata": {
            "tags": []
          },
          "execution_count": 109
        }
      ]
    },
    {
      "cell_type": "code",
      "metadata": {
        "id": "R2oobH03J64H",
        "colab_type": "code",
        "colab": {}
      },
      "source": [
        "from sklearn.impute import SimpleImputer\n",
        "from sklearn.impute import MissingIndicator"
      ],
      "execution_count": 0,
      "outputs": []
    },
    {
      "cell_type": "markdown",
      "metadata": {
        "id": "9P1iL0SzJ_m1",
        "colab_type": "text"
      },
      "source": [
        "# Фильтр для проверки заполнения пустых значений"
      ]
    },
    {
      "cell_type": "code",
      "metadata": {
        "id": "vv0sYhefKB-O",
        "colab_type": "code",
        "colab": {
          "base_uri": "https://localhost:8080/",
          "height": 136
        },
        "outputId": "ff12659a-5e5a-4076-a585-f8246dfded7e"
      },
      "source": [
        "indicator = MissingIndicator()\n",
        "mask_missing_values_only = indicator.fit_transform(data_num_MasVnrArea)\n",
        "mask_missing_values_only"
      ],
      "execution_count": 111,
      "outputs": [
        {
          "output_type": "execute_result",
          "data": {
            "text/plain": [
              "array([[False],\n",
              "       [False],\n",
              "       [False],\n",
              "       ...,\n",
              "       [ True],\n",
              "       [ True],\n",
              "       [ True]])"
            ]
          },
          "metadata": {
            "tags": []
          },
          "execution_count": 111
        }
      ]
    },
    {
      "cell_type": "code",
      "metadata": {
        "id": "MIaySdrXKDid",
        "colab_type": "code",
        "colab": {}
      },
      "source": [
        "strategies=['mean', 'median','most_frequent']\n",
        "\n",
        "def test_num_impute_col(dataset, column, strategy_param):\n",
        "    temp_data = dataset[[column]]\n",
        "    \n",
        "    indicator = MissingIndicator()\n",
        "    mask_missing_values_only = indicator.fit_transform(temp_data)\n",
        "    \n",
        "    imp_num = SimpleImputer(strategy=strategy_param)\n",
        "    data_num_imp = imp_num.fit_transform(temp_data)\n",
        "    \n",
        "    filled_data = data_num_imp[mask_missing_values_only]\n",
        "    \n",
        "    return column, strategy_param, filled_data.size, filled_data[0], filled_data[filled_data.size-1]"
      ],
      "execution_count": 0,
      "outputs": []
    },
    {
      "cell_type": "code",
      "metadata": {
        "id": "iSxxrkPPKIkP",
        "colab_type": "code",
        "colab": {
          "base_uri": "https://localhost:8080/",
          "height": 173
        },
        "outputId": "aaa4c27c-6096-478d-86df-913b01ef379f"
      },
      "source": [
        "data[['ALIVE']].describe()"
      ],
      "execution_count": 113,
      "outputs": [
        {
          "output_type": "execute_result",
          "data": {
            "text/html": [
              "<div>\n",
              "<style scoped>\n",
              "    .dataframe tbody tr th:only-of-type {\n",
              "        vertical-align: middle;\n",
              "    }\n",
              "\n",
              "    .dataframe tbody tr th {\n",
              "        vertical-align: top;\n",
              "    }\n",
              "\n",
              "    .dataframe thead th {\n",
              "        text-align: right;\n",
              "    }\n",
              "</style>\n",
              "<table border=\"1\" class=\"dataframe\">\n",
              "  <thead>\n",
              "    <tr style=\"text-align: right;\">\n",
              "      <th></th>\n",
              "      <th>ALIVE</th>\n",
              "    </tr>\n",
              "  </thead>\n",
              "  <tbody>\n",
              "    <tr>\n",
              "      <th>count</th>\n",
              "      <td>16373</td>\n",
              "    </tr>\n",
              "    <tr>\n",
              "      <th>unique</th>\n",
              "      <td>2</td>\n",
              "    </tr>\n",
              "    <tr>\n",
              "      <th>top</th>\n",
              "      <td>Living Characters</td>\n",
              "    </tr>\n",
              "    <tr>\n",
              "      <th>freq</th>\n",
              "      <td>12608</td>\n",
              "    </tr>\n",
              "  </tbody>\n",
              "</table>\n",
              "</div>"
            ],
            "text/plain": [
              "                    ALIVE\n",
              "count               16373\n",
              "unique                  2\n",
              "top     Living Characters\n",
              "freq                12608"
            ]
          },
          "metadata": {
            "tags": []
          },
          "execution_count": 113
        }
      ]
    },
    {
      "cell_type": "code",
      "metadata": {
        "id": "l_wgmvevKWIB",
        "colab_type": "code",
        "colab": {
          "base_uri": "https://localhost:8080/",
          "height": 34
        },
        "outputId": "330de5a9-3f7e-4d3e-8e19-05eb09e40555"
      },
      "source": [
        "test_num_impute_col(data, 'APPEARANCES', strategies[0])"
      ],
      "execution_count": 114,
      "outputs": [
        {
          "output_type": "execute_result",
          "data": {
            "text/plain": [
              "('APPEARANCES', 'mean', 1096, 17.033376963350786, 17.033376963350786)"
            ]
          },
          "metadata": {
            "tags": []
          },
          "execution_count": 114
        }
      ]
    },
    {
      "cell_type": "code",
      "metadata": {
        "id": "A6rOW5jdKXa2",
        "colab_type": "code",
        "colab": {
          "base_uri": "https://localhost:8080/",
          "height": 34
        },
        "outputId": "b8f8e122-0cba-453f-946e-e9daae5887e4"
      },
      "source": [
        "test_num_impute_col(data, 'APPEARANCES', strategies[1])"
      ],
      "execution_count": 115,
      "outputs": [
        {
          "output_type": "execute_result",
          "data": {
            "text/plain": [
              "('APPEARANCES', 'median', 1096, 3.0, 3.0)"
            ]
          },
          "metadata": {
            "tags": []
          },
          "execution_count": 115
        }
      ]
    },
    {
      "cell_type": "code",
      "metadata": {
        "id": "dHD7B5_SLR_u",
        "colab_type": "code",
        "colab": {
          "base_uri": "https://localhost:8080/",
          "height": 34
        },
        "outputId": "a1e56d44-c210-4eb9-9661-97e981a20151"
      },
      "source": [
        "test_num_impute_col(data, 'APPEARANCES', strategies[2])"
      ],
      "execution_count": 116,
      "outputs": [
        {
          "output_type": "execute_result",
          "data": {
            "text/plain": [
              "('APPEARANCES', 'most_frequent', 1096, 1.0, 1.0)"
            ]
          },
          "metadata": {
            "tags": []
          },
          "execution_count": 116
        }
      ]
    },
    {
      "cell_type": "markdown",
      "metadata": {
        "id": "NYhddldYMMnY",
        "colab_type": "text"
      },
      "source": [
        "#### Выберем категориальные колонки с пропущенными значениями\n",
        "#### Цикл по колонкам датасета"
      ]
    },
    {
      "cell_type": "code",
      "metadata": {
        "id": "v7FNTwdEMTmA",
        "colab_type": "code",
        "colab": {
          "base_uri": "https://localhost:8080/",
          "height": 204
        },
        "outputId": "3f6c50c9-3e4c-4210-9d43-942a5f6373f5"
      },
      "source": [
        "cat_temp_data = data[['ALIGN']]\n",
        "cat_temp_data.head()"
      ],
      "execution_count": 117,
      "outputs": [
        {
          "output_type": "execute_result",
          "data": {
            "text/html": [
              "<div>\n",
              "<style scoped>\n",
              "    .dataframe tbody tr th:only-of-type {\n",
              "        vertical-align: middle;\n",
              "    }\n",
              "\n",
              "    .dataframe tbody tr th {\n",
              "        vertical-align: top;\n",
              "    }\n",
              "\n",
              "    .dataframe thead th {\n",
              "        text-align: right;\n",
              "    }\n",
              "</style>\n",
              "<table border=\"1\" class=\"dataframe\">\n",
              "  <thead>\n",
              "    <tr style=\"text-align: right;\">\n",
              "      <th></th>\n",
              "      <th>ALIGN</th>\n",
              "    </tr>\n",
              "  </thead>\n",
              "  <tbody>\n",
              "    <tr>\n",
              "      <th>0</th>\n",
              "      <td>Good Characters</td>\n",
              "    </tr>\n",
              "    <tr>\n",
              "      <th>1</th>\n",
              "      <td>Good Characters</td>\n",
              "    </tr>\n",
              "    <tr>\n",
              "      <th>2</th>\n",
              "      <td>Neutral Characters</td>\n",
              "    </tr>\n",
              "    <tr>\n",
              "      <th>3</th>\n",
              "      <td>Good Characters</td>\n",
              "    </tr>\n",
              "    <tr>\n",
              "      <th>4</th>\n",
              "      <td>Good Characters</td>\n",
              "    </tr>\n",
              "  </tbody>\n",
              "</table>\n",
              "</div>"
            ],
            "text/plain": [
              "                ALIGN\n",
              "0     Good Characters\n",
              "1     Good Characters\n",
              "2  Neutral Characters\n",
              "3     Good Characters\n",
              "4     Good Characters"
            ]
          },
          "metadata": {
            "tags": []
          },
          "execution_count": 117
        }
      ]
    },
    {
      "cell_type": "code",
      "metadata": {
        "id": "05iIk3b5MX55",
        "colab_type": "code",
        "colab": {
          "base_uri": "https://localhost:8080/",
          "height": 51
        },
        "outputId": "8ccda61d-27e6-45bb-827f-06e05eec075c"
      },
      "source": [
        "cat_temp_data['ALIGN'].unique()"
      ],
      "execution_count": 118,
      "outputs": [
        {
          "output_type": "execute_result",
          "data": {
            "text/plain": [
              "array(['Good Characters', 'Neutral Characters', 'Bad Characters', nan],\n",
              "      dtype=object)"
            ]
          },
          "metadata": {
            "tags": []
          },
          "execution_count": 118
        }
      ]
    },
    {
      "cell_type": "code",
      "metadata": {
        "id": "0VPa6TBzMaMe",
        "colab_type": "code",
        "colab": {
          "base_uri": "https://localhost:8080/",
          "height": 34
        },
        "outputId": "79ea1f44-956a-4db3-aa09-2b2b3f79309e"
      },
      "source": [
        "cat_temp_data[cat_temp_data['ALIGN'].isnull()].shape"
      ],
      "execution_count": 119,
      "outputs": [
        {
          "output_type": "execute_result",
          "data": {
            "text/plain": [
              "(2812, 1)"
            ]
          },
          "metadata": {
            "tags": []
          },
          "execution_count": 119
        }
      ]
    },
    {
      "cell_type": "markdown",
      "metadata": {
        "id": "cOyEL5CtS0b2",
        "colab_type": "text"
      },
      "source": [
        "# Импьютация наиболее частыми значениями\n"
      ]
    },
    {
      "cell_type": "code",
      "metadata": {
        "id": "KPYGT5JiSzxW",
        "colab_type": "code",
        "colab": {
          "base_uri": "https://localhost:8080/",
          "height": 136
        },
        "outputId": "c1485d22-aeec-4e41-b2e2-d3f32231e35d"
      },
      "source": [
        "imp2 = SimpleImputer(missing_values=np.nan, strategy='most_frequent')\n",
        "data_imp2 = imp2.fit_transform(cat_temp_data)\n",
        "data_imp2"
      ],
      "execution_count": 120,
      "outputs": [
        {
          "output_type": "execute_result",
          "data": {
            "text/plain": [
              "array([['Good Characters'],\n",
              "       ['Good Characters'],\n",
              "       ['Neutral Characters'],\n",
              "       ...,\n",
              "       ['Bad Characters'],\n",
              "       ['Neutral Characters'],\n",
              "       ['Bad Characters']], dtype=object)"
            ]
          },
          "metadata": {
            "tags": []
          },
          "execution_count": 120
        }
      ]
    },
    {
      "cell_type": "markdown",
      "metadata": {
        "id": "wX6F9lYwS9yt",
        "colab_type": "text"
      },
      "source": [
        "# Пустые значения отсутствуют"
      ]
    },
    {
      "cell_type": "code",
      "metadata": {
        "id": "k6oDG1idS-ou",
        "colab_type": "code",
        "colab": {
          "base_uri": "https://localhost:8080/",
          "height": 51
        },
        "outputId": "32716807-8fff-4b6f-d188-90e33bdda787"
      },
      "source": [
        "np.unique(data_imp2)"
      ],
      "execution_count": 121,
      "outputs": [
        {
          "output_type": "execute_result",
          "data": {
            "text/plain": [
              "array(['Bad Characters', 'Good Characters', 'Neutral Characters'],\n",
              "      dtype=object)"
            ]
          },
          "metadata": {
            "tags": []
          },
          "execution_count": 121
        }
      ]
    },
    {
      "cell_type": "markdown",
      "metadata": {
        "id": "VQ540SykTBkE",
        "colab_type": "text"
      },
      "source": [
        "# Импьютация константой"
      ]
    },
    {
      "cell_type": "code",
      "metadata": {
        "id": "4GytersPTDQw",
        "colab_type": "code",
        "colab": {
          "base_uri": "https://localhost:8080/",
          "height": 136
        },
        "outputId": "fa789ecf-4fe9-4200-a41b-0234c63f78c2"
      },
      "source": [
        "imp3 = SimpleImputer(missing_values=np.nan, strategy='constant', fill_value='!!!')\n",
        "data_imp3 = imp3.fit_transform(cat_temp_data)\n",
        "data_imp3"
      ],
      "execution_count": 122,
      "outputs": [
        {
          "output_type": "execute_result",
          "data": {
            "text/plain": [
              "array([['Good Characters'],\n",
              "       ['Good Characters'],\n",
              "       ['Neutral Characters'],\n",
              "       ...,\n",
              "       ['Bad Characters'],\n",
              "       ['Neutral Characters'],\n",
              "       ['Bad Characters']], dtype=object)"
            ]
          },
          "metadata": {
            "tags": []
          },
          "execution_count": 122
        }
      ]
    },
    {
      "cell_type": "code",
      "metadata": {
        "id": "UuVIvuUzTFd1",
        "colab_type": "code",
        "colab": {
          "base_uri": "https://localhost:8080/",
          "height": 51
        },
        "outputId": "acf3d325-20d8-47a6-fab2-efedc5b28aaa"
      },
      "source": [
        "np.unique(data_imp3)"
      ],
      "execution_count": 123,
      "outputs": [
        {
          "output_type": "execute_result",
          "data": {
            "text/plain": [
              "array(['!!!', 'Bad Characters', 'Good Characters', 'Neutral Characters'],\n",
              "      dtype=object)"
            ]
          },
          "metadata": {
            "tags": []
          },
          "execution_count": 123
        }
      ]
    },
    {
      "cell_type": "code",
      "metadata": {
        "id": "LFS7prD0TJki",
        "colab_type": "code",
        "colab": {
          "base_uri": "https://localhost:8080/",
          "height": 34
        },
        "outputId": "0262a9a1-53ff-43c5-8a96-bd8bd35b1a1d"
      },
      "source": [
        "data_imp3[data_imp3=='!!!'].size"
      ],
      "execution_count": 124,
      "outputs": [
        {
          "output_type": "execute_result",
          "data": {
            "text/plain": [
              "2812"
            ]
          },
          "metadata": {
            "tags": []
          },
          "execution_count": 124
        }
      ]
    },
    {
      "cell_type": "markdown",
      "metadata": {
        "id": "8T7eKnjkTMZf",
        "colab_type": "text"
      },
      "source": [
        "**Какие способы обработки пропусков в данных для категориальных и количественных признаков Вы использовали?** -- удаление строк и колонок с пустыми значениями, заполнение всех пропущенных значений нулями, импьютацию для количественных признаков и для категориальных (импьютация наиболее частыми значениями и константой)"
      ]
    },
    {
      "cell_type": "markdown",
      "metadata": {
        "id": "b3GJQ14TTPst",
        "colab_type": "text"
      },
      "source": [
        "**Какие признаки Вы будете использовать для дальнейшего построения моделей машинного обучения и почему?** -- для дальнейшего построения моделей будем использовать категориальные признаки со стратегиями \"most_frequent\" или \"constant\" для корректной работы класса SimpleImputer\n"
      ]
    },
    {
      "cell_type": "markdown",
      "metadata": {
        "id": "CdzUeh0MTZpl",
        "colab_type": "text"
      },
      "source": [
        "## Масштабирование данных"
      ]
    },
    {
      "cell_type": "code",
      "metadata": {
        "id": "eVgYged6Tajv",
        "colab_type": "code",
        "colab": {}
      },
      "source": [
        "from sklearn.preprocessing import MinMaxScaler, StandardScaler, Normalizer"
      ],
      "execution_count": 0,
      "outputs": []
    },
    {
      "cell_type": "code",
      "metadata": {
        "id": "gNsR9FyuTcf7",
        "colab_type": "code",
        "colab": {}
      },
      "source": [
        "sc1 = MinMaxScaler()\n",
        "sc1_data = sc1.fit_transform(data[['Year']])"
      ],
      "execution_count": 0,
      "outputs": []
    },
    {
      "cell_type": "code",
      "metadata": {
        "id": "o-7MPufmTd2b",
        "colab_type": "code",
        "colab": {
          "base_uri": "https://localhost:8080/",
          "height": 353
        },
        "outputId": "ebf1b1eb-cccf-4c1e-aef8-67f9dbaf2572"
      },
      "source": [
        "plt.hist(data['Year'], 50)\n",
        "plt.show()"
      ],
      "execution_count": 127,
      "outputs": [
        {
          "output_type": "stream",
          "text": [
            "/usr/local/lib/python3.6/dist-packages/numpy/lib/histograms.py:839: RuntimeWarning: invalid value encountered in greater_equal\n",
            "  keep = (tmp_a >= first_edge)\n",
            "/usr/local/lib/python3.6/dist-packages/numpy/lib/histograms.py:840: RuntimeWarning: invalid value encountered in less_equal\n",
            "  keep &= (tmp_a <= last_edge)\n"
          ],
          "name": "stderr"
        },
        {
          "output_type": "display_data",
          "data": {
            "image/png": "[encoded data removed]",
            "text/plain": [
              "<Figure size 432x288 with 1 Axes>"
            ]
          },
          "metadata": {
            "tags": []
          }
        }
      ]
    },
    {
      "cell_type": "code",
      "metadata": {
        "id": "vDFoCN6NTgnx",
        "colab_type": "code",
        "colab": {
          "base_uri": "https://localhost:8080/",
          "height": 353
        },
        "outputId": "23ae3e11-a99f-4f67-a199-b3d973cde354"
      },
      "source": [
        "plt.hist(sc1_data, 50)\n",
        "plt.show()"
      ],
      "execution_count": 128,
      "outputs": [
        {
          "output_type": "stream",
          "text": [
            "/usr/local/lib/python3.6/dist-packages/numpy/lib/histograms.py:839: RuntimeWarning: invalid value encountered in greater_equal\n",
            "  keep = (tmp_a >= first_edge)\n",
            "/usr/local/lib/python3.6/dist-packages/numpy/lib/histograms.py:840: RuntimeWarning: invalid value encountered in less_equal\n",
            "  keep &= (tmp_a <= last_edge)\n"
          ],
          "name": "stderr"
        },
        {
          "output_type": "display_data",
          "data": {
            "image/png": "[encoded data removed]",
            "text/plain": [
              "<Figure size 432x288 with 1 Axes>"
            ]
          },
          "metadata": {
            "tags": []
          }
        }
      ]
    },
    {
      "cell_type": "code",
      "metadata": {
        "id": "eAfuktTmT5pF",
        "colab_type": "code",
        "colab": {}
      },
      "source": [
        "sc2 = StandardScaler()\n",
        "sc2_data = sc2.fit_transform(data[['Year']])"
      ],
      "execution_count": 0,
      "outputs": []
    },
    {
      "cell_type": "code",
      "metadata": {
        "id": "VWL0w89XT8Dk",
        "colab_type": "code",
        "colab": {
          "base_uri": "https://localhost:8080/",
          "height": 353
        },
        "outputId": "5e9da203-52c8-47e9-c4b0-f1a7c2c19fc1"
      },
      "source": [
        "plt.hist(sc2_data, 50)\n",
        "plt.show()"
      ],
      "execution_count": 130,
      "outputs": [
        {
          "output_type": "stream",
          "text": [
            "/usr/local/lib/python3.6/dist-packages/numpy/lib/histograms.py:839: RuntimeWarning: invalid value encountered in greater_equal\n",
            "  keep = (tmp_a >= first_edge)\n",
            "/usr/local/lib/python3.6/dist-packages/numpy/lib/histograms.py:840: RuntimeWarning: invalid value encountered in less_equal\n",
            "  keep &= (tmp_a <= last_edge)\n"
          ],
          "name": "stderr"
        },
        {
          "output_type": "display_data",
          "data": {
            "image/png": "[encoded data removed]",
            "text/plain": [
              "<Figure size 432x288 with 1 Axes>"
            ]
          },
          "metadata": {
            "tags": []
          }
        }
      ]
    },
    {
      "cell_type": "code",
      "metadata": {
        "id": "6I3wpTGz2TWM",
        "colab_type": "code",
        "colab": {}
      },
      "source": [
        "sc3 = Normalizer()\n",
        "sc3_data = sc3.fit_transform(data_new_2[['Year']])"
      ],
      "execution_count": 0,
      "outputs": []
    },
    {
      "cell_type": "code",
      "metadata": {
        "id": "uK4q1QMi4fLC",
        "colab_type": "code",
        "colab": {
          "base_uri": "https://localhost:8080/",
          "height": 266
        },
        "outputId": "9ab4d4c6-bc05-4e23-c0e0-417b0026a3bc"
      },
      "source": [
        "plt.hist(sc3_data, 50)\n",
        "plt.show()"
      ],
      "execution_count": 132,
      "outputs": [
        {
          "output_type": "display_data",
          "data": {
            "image/png": "[encoded data removed]",
            "text/plain": [
              "<Figure size 432x288 with 1 Axes>"
            ]
          },
          "metadata": {
            "tags": []
          }
        }
      ]
    },
    {
      "cell_type": "code",
      "metadata": {
        "id": "ay1Ln7_iUAgH",
        "colab_type": "code",
        "colab": {
          "base_uri": "https://localhost:8080/",
          "height": 419
        },
        "outputId": "301d1849-fd4d-4470-9b8b-f51ec38fbc24"
      },
      "source": [
        "cat_enc = pd.DataFrame({'c1':data_imp2.T[0]})\n",
        "cat_enc"
      ],
      "execution_count": 133,
      "outputs": [
        {
          "output_type": "execute_result",
          "data": {
            "text/html": [
              "<div>\n",
              "<style scoped>\n",
              "    .dataframe tbody tr th:only-of-type {\n",
              "        vertical-align: middle;\n",
              "    }\n",
              "\n",
              "    .dataframe tbody tr th {\n",
              "        vertical-align: top;\n",
              "    }\n",
              "\n",
              "    .dataframe thead th {\n",
              "        text-align: right;\n",
              "    }\n",
              "</style>\n",
              "<table border=\"1\" class=\"dataframe\">\n",
              "  <thead>\n",
              "    <tr style=\"text-align: right;\">\n",
              "      <th></th>\n",
              "      <th>c1</th>\n",
              "    </tr>\n",
              "  </thead>\n",
              "  <tbody>\n",
              "    <tr>\n",
              "      <th>0</th>\n",
              "      <td>Good Characters</td>\n",
              "    </tr>\n",
              "    <tr>\n",
              "      <th>1</th>\n",
              "      <td>Good Characters</td>\n",
              "    </tr>\n",
              "    <tr>\n",
              "      <th>2</th>\n",
              "      <td>Neutral Characters</td>\n",
              "    </tr>\n",
              "    <tr>\n",
              "      <th>3</th>\n",
              "      <td>Good Characters</td>\n",
              "    </tr>\n",
              "    <tr>\n",
              "      <th>4</th>\n",
              "      <td>Good Characters</td>\n",
              "    </tr>\n",
              "    <tr>\n",
              "      <th>...</th>\n",
              "      <td>...</td>\n",
              "    </tr>\n",
              "    <tr>\n",
              "      <th>16371</th>\n",
              "      <td>Bad Characters</td>\n",
              "    </tr>\n",
              "    <tr>\n",
              "      <th>16372</th>\n",
              "      <td>Good Characters</td>\n",
              "    </tr>\n",
              "    <tr>\n",
              "      <th>16373</th>\n",
              "      <td>Bad Characters</td>\n",
              "    </tr>\n",
              "    <tr>\n",
              "      <th>16374</th>\n",
              "      <td>Neutral Characters</td>\n",
              "    </tr>\n",
              "    <tr>\n",
              "      <th>16375</th>\n",
              "      <td>Bad Characters</td>\n",
              "    </tr>\n",
              "  </tbody>\n",
              "</table>\n",
              "<p>16376 rows × 1 columns</p>\n",
              "</div>"
            ],
            "text/plain": [
              "                       c1\n",
              "0         Good Characters\n",
              "1         Good Characters\n",
              "2      Neutral Characters\n",
              "3         Good Characters\n",
              "4         Good Characters\n",
              "...                   ...\n",
              "16371      Bad Characters\n",
              "16372     Good Characters\n",
              "16373      Bad Characters\n",
              "16374  Neutral Characters\n",
              "16375      Bad Characters\n",
              "\n",
              "[16376 rows x 1 columns]"
            ]
          },
          "metadata": {
            "tags": []
          },
          "execution_count": 133
        }
      ]
    },
    {
      "cell_type": "code",
      "metadata": {
        "id": "Gy4OHGNoejNW",
        "colab_type": "code",
        "colab": {}
      },
      "source": [
        "from sklearn.preprocessing import LabelEncoder, OneHotEncoder"
      ],
      "execution_count": 0,
      "outputs": []
    },
    {
      "cell_type": "code",
      "metadata": {
        "id": "nGzF5ko7elHi",
        "colab_type": "code",
        "colab": {}
      },
      "source": [
        "le = LabelEncoder()\n",
        "cat_enc_le = le.fit_transform(cat_enc['c1'])"
      ],
      "execution_count": 0,
      "outputs": []
    },
    {
      "cell_type": "code",
      "metadata": {
        "id": "kwLJBWKPepPZ",
        "colab_type": "code",
        "colab": {
          "base_uri": "https://localhost:8080/",
          "height": 51
        },
        "outputId": "9697a913-cce1-4979-9d6f-6b95ea573931"
      },
      "source": [
        "cat_enc['c1'].unique()"
      ],
      "execution_count": 136,
      "outputs": [
        {
          "output_type": "execute_result",
          "data": {
            "text/plain": [
              "array(['Good Characters', 'Neutral Characters', 'Bad Characters'],\n",
              "      dtype=object)"
            ]
          },
          "metadata": {
            "tags": []
          },
          "execution_count": 136
        }
      ]
    },
    {
      "cell_type": "code",
      "metadata": {
        "id": "tLMPVFD5eqw7",
        "colab_type": "code",
        "colab": {
          "base_uri": "https://localhost:8080/",
          "height": 34
        },
        "outputId": "19519e2e-0f10-42a1-823c-d67348ada897"
      },
      "source": [
        "np.unique(cat_enc_le)"
      ],
      "execution_count": 137,
      "outputs": [
        {
          "output_type": "execute_result",
          "data": {
            "text/plain": [
              "array([0, 1, 2])"
            ]
          },
          "metadata": {
            "tags": []
          },
          "execution_count": 137
        }
      ]
    },
    {
      "cell_type": "code",
      "metadata": {
        "id": "g5-W3gures03",
        "colab_type": "code",
        "colab": {
          "base_uri": "https://localhost:8080/",
          "height": 51
        },
        "outputId": "7db00670-1709-40d8-b1d9-4213c4570965"
      },
      "source": [
        "le.inverse_transform([ 0,  1,  2])"
      ],
      "execution_count": 138,
      "outputs": [
        {
          "output_type": "execute_result",
          "data": {
            "text/plain": [
              "array(['Bad Characters', 'Good Characters', 'Neutral Characters'],\n",
              "      dtype=object)"
            ]
          },
          "metadata": {
            "tags": []
          },
          "execution_count": 138
        }
      ]
    },
    {
      "cell_type": "code",
      "metadata": {
        "id": "AijAj93ce1Tr",
        "colab_type": "code",
        "colab": {}
      },
      "source": [
        "ohe = OneHotEncoder()\n",
        "cat_enc_ohe = ohe.fit_transform(cat_enc[['c1']])"
      ],
      "execution_count": 0,
      "outputs": []
    },
    {
      "cell_type": "code",
      "metadata": {
        "id": "SijO-9Z7e3Mb",
        "colab_type": "code",
        "colab": {
          "base_uri": "https://localhost:8080/",
          "height": 34
        },
        "outputId": "2ef74349-63a9-4e7d-946a-357a25a736ea"
      },
      "source": [
        "cat_enc.shape"
      ],
      "execution_count": 140,
      "outputs": [
        {
          "output_type": "execute_result",
          "data": {
            "text/plain": [
              "(16376, 1)"
            ]
          },
          "metadata": {
            "tags": []
          },
          "execution_count": 140
        }
      ]
    },
    {
      "cell_type": "code",
      "metadata": {
        "id": "dAll_65Pe3ts",
        "colab_type": "code",
        "colab": {
          "base_uri": "https://localhost:8080/",
          "height": 34
        },
        "outputId": "e84db59f-fd66-4d24-adda-b487a7af7268"
      },
      "source": [
        "cat_enc_ohe.shape"
      ],
      "execution_count": 141,
      "outputs": [
        {
          "output_type": "execute_result",
          "data": {
            "text/plain": [
              "(16376, 3)"
            ]
          },
          "metadata": {
            "tags": []
          },
          "execution_count": 141
        }
      ]
    },
    {
      "cell_type": "code",
      "metadata": {
        "id": "vcE9BXBDe5Ul",
        "colab_type": "code",
        "colab": {
          "base_uri": "https://localhost:8080/",
          "height": 51
        },
        "outputId": "e718347d-aac4-4406-cd55-2e30fb0de6d6"
      },
      "source": [
        "cat_enc_ohe"
      ],
      "execution_count": 142,
      "outputs": [
        {
          "output_type": "execute_result",
          "data": {
            "text/plain": [
              "<16376x3 sparse matrix of type '<class 'numpy.float64'>'\n",
              "\twith 16376 stored elements in Compressed Sparse Row format>"
            ]
          },
          "metadata": {
            "tags": []
          },
          "execution_count": 142
        }
      ]
    },
    {
      "cell_type": "code",
      "metadata": {
        "id": "O0tC3AT5e6_1",
        "colab_type": "code",
        "colab": {
          "base_uri": "https://localhost:8080/",
          "height": 68
        },
        "outputId": "f47e8cf6-2600-41c5-9bc9-9480b5b4dd00"
      },
      "source": [
        "cat_enc_ohe.todense()[0:3]"
      ],
      "execution_count": 143,
      "outputs": [
        {
          "output_type": "execute_result",
          "data": {
            "text/plain": [
              "matrix([[0., 1., 0.],\n",
              "        [0., 1., 0.],\n",
              "        [0., 0., 1.]])"
            ]
          },
          "metadata": {
            "tags": []
          },
          "execution_count": 143
        }
      ]
    },
    {
      "cell_type": "code",
      "metadata": {
        "id": "rWevLQOQe9tP",
        "colab_type": "code",
        "colab": {
          "base_uri": "https://localhost:8080/",
          "height": 142
        },
        "outputId": "d4482cd8-5eb0-4f54-97b2-1168454fc11b"
      },
      "source": [
        "cat_enc.head(3)"
      ],
      "execution_count": 144,
      "outputs": [
        {
          "output_type": "execute_result",
          "data": {
            "text/html": [
              "<div>\n",
              "<style scoped>\n",
              "    .dataframe tbody tr th:only-of-type {\n",
              "        vertical-align: middle;\n",
              "    }\n",
              "\n",
              "    .dataframe tbody tr th {\n",
              "        vertical-align: top;\n",
              "    }\n",
              "\n",
              "    .dataframe thead th {\n",
              "        text-align: right;\n",
              "    }\n",
              "</style>\n",
              "<table border=\"1\" class=\"dataframe\">\n",
              "  <thead>\n",
              "    <tr style=\"text-align: right;\">\n",
              "      <th></th>\n",
              "      <th>c1</th>\n",
              "    </tr>\n",
              "  </thead>\n",
              "  <tbody>\n",
              "    <tr>\n",
              "      <th>0</th>\n",
              "      <td>Good Characters</td>\n",
              "    </tr>\n",
              "    <tr>\n",
              "      <th>1</th>\n",
              "      <td>Good Characters</td>\n",
              "    </tr>\n",
              "    <tr>\n",
              "      <th>2</th>\n",
              "      <td>Neutral Characters</td>\n",
              "    </tr>\n",
              "  </tbody>\n",
              "</table>\n",
              "</div>"
            ],
            "text/plain": [
              "                   c1\n",
              "0     Good Characters\n",
              "1     Good Characters\n",
              "2  Neutral Characters"
            ]
          },
          "metadata": {
            "tags": []
          },
          "execution_count": 144
        }
      ]
    },
    {
      "cell_type": "code",
      "metadata": {
        "id": "-ZFEC3YOfAZf",
        "colab_type": "code",
        "colab": {
          "base_uri": "https://localhost:8080/",
          "height": 204
        },
        "outputId": "cba66ad0-6857-4420-bc68-571ea45ed379"
      },
      "source": [
        "pd.get_dummies(cat_enc).head()"
      ],
      "execution_count": 145,
      "outputs": [
        {
          "output_type": "execute_result",
          "data": {
            "text/html": [
              "<div>\n",
              "<style scoped>\n",
              "    .dataframe tbody tr th:only-of-type {\n",
              "        vertical-align: middle;\n",
              "    }\n",
              "\n",
              "    .dataframe tbody tr th {\n",
              "        vertical-align: top;\n",
              "    }\n",
              "\n",
              "    .dataframe thead th {\n",
              "        text-align: right;\n",
              "    }\n",
              "</style>\n",
              "<table border=\"1\" class=\"dataframe\">\n",
              "  <thead>\n",
              "    <tr style=\"text-align: right;\">\n",
              "      <th></th>\n",
              "      <th>c1_Bad Characters</th>\n",
              "      <th>c1_Good Characters</th>\n",
              "      <th>c1_Neutral Characters</th>\n",
              "    </tr>\n",
              "  </thead>\n",
              "  <tbody>\n",
              "    <tr>\n",
              "      <th>0</th>\n",
              "      <td>0</td>\n",
              "      <td>1</td>\n",
              "      <td>0</td>\n",
              "    </tr>\n",
              "    <tr>\n",
              "      <th>1</th>\n",
              "      <td>0</td>\n",
              "      <td>1</td>\n",
              "      <td>0</td>\n",
              "    </tr>\n",
              "    <tr>\n",
              "      <th>2</th>\n",
              "      <td>0</td>\n",
              "      <td>0</td>\n",
              "      <td>1</td>\n",
              "    </tr>\n",
              "    <tr>\n",
              "      <th>3</th>\n",
              "      <td>0</td>\n",
              "      <td>1</td>\n",
              "      <td>0</td>\n",
              "    </tr>\n",
              "    <tr>\n",
              "      <th>4</th>\n",
              "      <td>0</td>\n",
              "      <td>1</td>\n",
              "      <td>0</td>\n",
              "    </tr>\n",
              "  </tbody>\n",
              "</table>\n",
              "</div>"
            ],
            "text/plain": [
              "   c1_Bad Characters  c1_Good Characters  c1_Neutral Characters\n",
              "0                  0                   1                      0\n",
              "1                  0                   1                      0\n",
              "2                  0                   0                      1\n",
              "3                  0                   1                      0\n",
              "4                  0                   1                      0"
            ]
          },
          "metadata": {
            "tags": []
          },
          "execution_count": 145
        }
      ]
    },
    {
      "cell_type": "code",
      "metadata": {
        "id": "N2KQvLPdfFo7",
        "colab_type": "code",
        "colab": {
          "base_uri": "https://localhost:8080/",
          "height": 204
        },
        "outputId": "e6e332a6-b627-4a96-a312-53fe13624cc9"
      },
      "source": [
        "pd.get_dummies(cat_temp_data, dummy_na=True).head()"
      ],
      "execution_count": 146,
      "outputs": [
        {
          "output_type": "execute_result",
          "data": {
            "text/html": [
              "<div>\n",
              "<style scoped>\n",
              "    .dataframe tbody tr th:only-of-type {\n",
              "        vertical-align: middle;\n",
              "    }\n",
              "\n",
              "    .dataframe tbody tr th {\n",
              "        vertical-align: top;\n",
              "    }\n",
              "\n",
              "    .dataframe thead th {\n",
              "        text-align: right;\n",
              "    }\n",
              "</style>\n",
              "<table border=\"1\" class=\"dataframe\">\n",
              "  <thead>\n",
              "    <tr style=\"text-align: right;\">\n",
              "      <th></th>\n",
              "      <th>ALIGN_Bad Characters</th>\n",
              "      <th>ALIGN_Good Characters</th>\n",
              "      <th>ALIGN_Neutral Characters</th>\n",
              "      <th>ALIGN_nan</th>\n",
              "    </tr>\n",
              "  </thead>\n",
              "  <tbody>\n",
              "    <tr>\n",
              "      <th>0</th>\n",
              "      <td>0</td>\n",
              "      <td>1</td>\n",
              "      <td>0</td>\n",
              "      <td>0</td>\n",
              "    </tr>\n",
              "    <tr>\n",
              "      <th>1</th>\n",
              "      <td>0</td>\n",
              "      <td>1</td>\n",
              "      <td>0</td>\n",
              "      <td>0</td>\n",
              "    </tr>\n",
              "    <tr>\n",
              "      <th>2</th>\n",
              "      <td>0</td>\n",
              "      <td>0</td>\n",
              "      <td>1</td>\n",
              "      <td>0</td>\n",
              "    </tr>\n",
              "    <tr>\n",
              "      <th>3</th>\n",
              "      <td>0</td>\n",
              "      <td>1</td>\n",
              "      <td>0</td>\n",
              "      <td>0</td>\n",
              "    </tr>\n",
              "    <tr>\n",
              "      <th>4</th>\n",
              "      <td>0</td>\n",
              "      <td>1</td>\n",
              "      <td>0</td>\n",
              "      <td>0</td>\n",
              "    </tr>\n",
              "  </tbody>\n",
              "</table>\n",
              "</div>"
            ],
            "text/plain": [
              "   ALIGN_Bad Characters  ...  ALIGN_nan\n",
              "0                     0  ...          0\n",
              "1                     0  ...          0\n",
              "2                     0  ...          0\n",
              "3                     0  ...          0\n",
              "4                     0  ...          0\n",
              "\n",
              "[5 rows x 4 columns]"
            ]
          },
          "metadata": {
            "tags": []
          },
          "execution_count": 146
        }
      ]
    }
  ]
}