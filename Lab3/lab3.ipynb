{
  "nbformat": 4,
  "nbformat_minor": 0,
  "metadata": {
    "kernelspec": {
      "display_name": "Python 3",
      "language": "python",
      "name": "python3"
    },
    "language_info": {
      "codemirror_mode": {
        "name": "ipython",
        "version": 3
      },
      "file_extension": ".py",
      "mimetype": "text/x-python",
      "name": "python",
      "nbconvert_exporter": "python",
      "pygments_lexer": "ipython3",
      "version": "3.7.4"
    },
    "colab": {
      "name": "lab3.ipynb",
      "provenance": []
    }
  },
  "cells": [
    {
      "cell_type": "markdown",
      "metadata": {
        "id": "M-se7Vkj84jW",
        "colab_type": "text"
      },
      "source": [
        "### Цель лабораторной работы: \n",
        "изучение способов предварительной обработки данных для дальнейшего формирования моделей.\n",
        "### Задание:\n",
        "Выбрать набор данных (датасет), содержащий категориальные признаки и пропуски в данных. Для выполне\n",
        "ния следующих пунктов можно использовать несколько различных наборов данных (один для обработки пр\n",
        "опусков, другой для категориальных признаков и т.д.)\n",
        "Для выбранного датасета (датасетов) на основе материалов лекции решить следующие задачи:\n",
        "обработку пропусков в данных;\n",
        "кодирование категориальных признаков;\n",
        "масштабирование данных."
      ]
    },
    {
      "cell_type": "code",
      "metadata": {
        "id": "xVzGctnw84jY",
        "colab_type": "code",
        "colab": {}
      },
      "source": [
        "import numpy as np\n",
        "import pandas as pd\n",
        "import seaborn as sns\n",
        "import matplotlib.pyplot as plt\n",
        "%matplotlib inline \n",
        "sns.set(style=\"ticks\")"
      ],
      "execution_count": 0,
      "outputs": []
    },
    {
      "cell_type": "code",
      "metadata": {
        "id": "ed1TErFh84jr",
        "colab_type": "code",
        "colab": {}
      },
      "source": [
        "# Набор 1\n",
        "data = pd.read_csv('googleplaystore.csv', sep=\",\")\n",
        "# Набор 2\n",
        "data1 = pd.read_csv('googleplaystore_user_reviews.csv', sep=\",\")"
      ],
      "execution_count": 0,
      "outputs": []
    },
    {
      "cell_type": "code",
      "metadata": {
        "id": "-F0Vx1uh84j8",
        "colab_type": "code",
        "colab": {},
        "outputId": "077ff3ae-f245-4214-c2e2-329a5834483d"
      },
      "source": [
        "# Набор 1\n",
        "data.shape"
      ],
      "execution_count": 0,
      "outputs": [
        {
          "output_type": "execute_result",
          "data": {
            "text/plain": [
              "(10841, 13)"
            ]
          },
          "metadata": {
            "tags": []
          },
          "execution_count": 156
        }
      ]
    },
    {
      "cell_type": "code",
      "metadata": {
        "id": "BnoLrMOp84kO",
        "colab_type": "code",
        "colab": {},
        "outputId": "f4ef02cf-54c4-4bb8-aacd-3f1c3059e236"
      },
      "source": [
        "# Набор 2\n",
        "data1.shape"
      ],
      "execution_count": 0,
      "outputs": [
        {
          "output_type": "execute_result",
          "data": {
            "text/plain": [
              "(64295, 5)"
            ]
          },
          "metadata": {
            "tags": []
          },
          "execution_count": 157
        }
      ]
    },
    {
      "cell_type": "code",
      "metadata": {
        "id": "ifGfElI084kd",
        "colab_type": "code",
        "colab": {},
        "outputId": "e8764212-2149-43bf-d896-ba8c2c785fb0"
      },
      "source": [
        "# Набор 1\n",
        "data.dtypes"
      ],
      "execution_count": 0,
      "outputs": [
        {
          "output_type": "execute_result",
          "data": {
            "text/plain": [
              "App                object\n",
              "Category           object\n",
              "Rating            float64\n",
              "Reviews            object\n",
              "Size               object\n",
              "Installs           object\n",
              "Type               object\n",
              "Price              object\n",
              "Content Rating     object\n",
              "Genres             object\n",
              "Last Updated       object\n",
              "Current Ver        object\n",
              "Android Ver        object\n",
              "dtype: object"
            ]
          },
          "metadata": {
            "tags": []
          },
          "execution_count": 158
        }
      ]
    },
    {
      "cell_type": "code",
      "metadata": {
        "id": "Wt1snl0O84km",
        "colab_type": "code",
        "colab": {},
        "outputId": "205d6b3a-85bf-43b9-ac98-65c24bd14ad8"
      },
      "source": [
        "# Набор 2\n",
        "data1.dtypes"
      ],
      "execution_count": 0,
      "outputs": [
        {
          "output_type": "execute_result",
          "data": {
            "text/plain": [
              "App                        object\n",
              "Translated_Review          object\n",
              "Sentiment                  object\n",
              "Sentiment_Polarity        float64\n",
              "Sentiment_Subjectivity    float64\n",
              "dtype: object"
            ]
          },
          "metadata": {
            "tags": []
          },
          "execution_count": 159
        }
      ]
    },
    {
      "cell_type": "code",
      "metadata": {
        "id": "SoSlon6084ko",
        "colab_type": "code",
        "colab": {},
        "outputId": "19100f02-b568-4bee-aedb-bc3dfa7f2893"
      },
      "source": [
        "# пропуски в наборе 1\n",
        "data.isnull().sum()"
      ],
      "execution_count": 0,
      "outputs": [
        {
          "output_type": "execute_result",
          "data": {
            "text/plain": [
              "App                  0\n",
              "Category             0\n",
              "Rating            1474\n",
              "Reviews              0\n",
              "Size                 0\n",
              "Installs             0\n",
              "Type                 1\n",
              "Price                0\n",
              "Content Rating       1\n",
              "Genres               0\n",
              "Last Updated         0\n",
              "Current Ver          8\n",
              "Android Ver          3\n",
              "dtype: int64"
            ]
          },
          "metadata": {
            "tags": []
          },
          "execution_count": 160
        }
      ]
    },
    {
      "cell_type": "code",
      "metadata": {
        "id": "ixRRx7eC84kp",
        "colab_type": "code",
        "colab": {},
        "outputId": "98e0e280-739b-4fce-d180-dd7970a9f4d9"
      },
      "source": [
        "# пропуски в наборе 2\n",
        "data1.isnull().sum()"
      ],
      "execution_count": 0,
      "outputs": [
        {
          "output_type": "execute_result",
          "data": {
            "text/plain": [
              "App                           0\n",
              "Translated_Review         26868\n",
              "Sentiment                 26863\n",
              "Sentiment_Polarity        26863\n",
              "Sentiment_Subjectivity    26863\n",
              "dtype: int64"
            ]
          },
          "metadata": {
            "tags": []
          },
          "execution_count": 161
        }
      ]
    },
    {
      "cell_type": "code",
      "metadata": {
        "id": "fhw7BMV284ks",
        "colab_type": "code",
        "colab": {},
        "outputId": "1300eaf3-098b-44ed-967c-564311486566"
      },
      "source": [
        "# Набор 1\n",
        "data.head()"
      ],
      "execution_count": 0,
      "outputs": [
        {
          "output_type": "execute_result",
          "data": {
            "text/html": [
              "<div>\n",
              "<style scoped>\n",
              "    .dataframe tbody tr th:only-of-type {\n",
              "        vertical-align: middle;\n",
              "    }\n",
              "\n",
              "    .dataframe tbody tr th {\n",
              "        vertical-align: top;\n",
              "    }\n",
              "\n",
              "    .dataframe thead th {\n",
              "        text-align: right;\n",
              "    }\n",
              "</style>\n",
              "<table border=\"1\" class=\"dataframe\">\n",
              "  <thead>\n",
              "    <tr style=\"text-align: right;\">\n",
              "      <th></th>\n",
              "      <th>App</th>\n",
              "      <th>Category</th>\n",
              "      <th>Rating</th>\n",
              "      <th>Reviews</th>\n",
              "      <th>Size</th>\n",
              "      <th>Installs</th>\n",
              "      <th>Type</th>\n",
              "      <th>Price</th>\n",
              "      <th>Content Rating</th>\n",
              "      <th>Genres</th>\n",
              "      <th>Last Updated</th>\n",
              "      <th>Current Ver</th>\n",
              "      <th>Android Ver</th>\n",
              "    </tr>\n",
              "  </thead>\n",
              "  <tbody>\n",
              "    <tr>\n",
              "      <th>0</th>\n",
              "      <td>Photo Editor &amp; Candy Camera &amp; Grid &amp; ScrapBook</td>\n",
              "      <td>ART_AND_DESIGN</td>\n",
              "      <td>4.1</td>\n",
              "      <td>159</td>\n",
              "      <td>19M</td>\n",
              "      <td>10,000+</td>\n",
              "      <td>Free</td>\n",
              "      <td>0</td>\n",
              "      <td>Everyone</td>\n",
              "      <td>Art &amp; Design</td>\n",
              "      <td>January 7, 2018</td>\n",
              "      <td>1.0.0</td>\n",
              "      <td>4.0.3 and up</td>\n",
              "    </tr>\n",
              "    <tr>\n",
              "      <th>1</th>\n",
              "      <td>Coloring book moana</td>\n",
              "      <td>ART_AND_DESIGN</td>\n",
              "      <td>3.9</td>\n",
              "      <td>967</td>\n",
              "      <td>14M</td>\n",
              "      <td>500,000+</td>\n",
              "      <td>Free</td>\n",
              "      <td>0</td>\n",
              "      <td>Everyone</td>\n",
              "      <td>Art &amp; Design;Pretend Play</td>\n",
              "      <td>January 15, 2018</td>\n",
              "      <td>2.0.0</td>\n",
              "      <td>4.0.3 and up</td>\n",
              "    </tr>\n",
              "    <tr>\n",
              "      <th>2</th>\n",
              "      <td>U Launcher Lite – FREE Live Cool Themes, Hide ...</td>\n",
              "      <td>ART_AND_DESIGN</td>\n",
              "      <td>4.7</td>\n",
              "      <td>87510</td>\n",
              "      <td>8.7M</td>\n",
              "      <td>5,000,000+</td>\n",
              "      <td>Free</td>\n",
              "      <td>0</td>\n",
              "      <td>Everyone</td>\n",
              "      <td>Art &amp; Design</td>\n",
              "      <td>August 1, 2018</td>\n",
              "      <td>1.2.4</td>\n",
              "      <td>4.0.3 and up</td>\n",
              "    </tr>\n",
              "    <tr>\n",
              "      <th>3</th>\n",
              "      <td>Sketch - Draw &amp; Paint</td>\n",
              "      <td>ART_AND_DESIGN</td>\n",
              "      <td>4.5</td>\n",
              "      <td>215644</td>\n",
              "      <td>25M</td>\n",
              "      <td>50,000,000+</td>\n",
              "      <td>Free</td>\n",
              "      <td>0</td>\n",
              "      <td>Teen</td>\n",
              "      <td>Art &amp; Design</td>\n",
              "      <td>June 8, 2018</td>\n",
              "      <td>Varies with device</td>\n",
              "      <td>4.2 and up</td>\n",
              "    </tr>\n",
              "    <tr>\n",
              "      <th>4</th>\n",
              "      <td>Pixel Draw - Number Art Coloring Book</td>\n",
              "      <td>ART_AND_DESIGN</td>\n",
              "      <td>4.3</td>\n",
              "      <td>967</td>\n",
              "      <td>2.8M</td>\n",
              "      <td>100,000+</td>\n",
              "      <td>Free</td>\n",
              "      <td>0</td>\n",
              "      <td>Everyone</td>\n",
              "      <td>Art &amp; Design;Creativity</td>\n",
              "      <td>June 20, 2018</td>\n",
              "      <td>1.1</td>\n",
              "      <td>4.4 and up</td>\n",
              "    </tr>\n",
              "  </tbody>\n",
              "</table>\n",
              "</div>"
            ],
            "text/plain": [
              "                                                 App        Category  Rating  \\\n",
              "0     Photo Editor & Candy Camera & Grid & ScrapBook  ART_AND_DESIGN     4.1   \n",
              "1                                Coloring book moana  ART_AND_DESIGN     3.9   \n",
              "2  U Launcher Lite – FREE Live Cool Themes, Hide ...  ART_AND_DESIGN     4.7   \n",
              "3                              Sketch - Draw & Paint  ART_AND_DESIGN     4.5   \n",
              "4              Pixel Draw - Number Art Coloring Book  ART_AND_DESIGN     4.3   \n",
              "\n",
              "  Reviews  Size     Installs  Type Price Content Rating  \\\n",
              "0     159   19M      10,000+  Free     0       Everyone   \n",
              "1     967   14M     500,000+  Free     0       Everyone   \n",
              "2   87510  8.7M   5,000,000+  Free     0       Everyone   \n",
              "3  215644   25M  50,000,000+  Free     0           Teen   \n",
              "4     967  2.8M     100,000+  Free     0       Everyone   \n",
              "\n",
              "                      Genres      Last Updated         Current Ver  \\\n",
              "0               Art & Design   January 7, 2018               1.0.0   \n",
              "1  Art & Design;Pretend Play  January 15, 2018               2.0.0   \n",
              "2               Art & Design    August 1, 2018               1.2.4   \n",
              "3               Art & Design      June 8, 2018  Varies with device   \n",
              "4    Art & Design;Creativity     June 20, 2018                 1.1   \n",
              "\n",
              "    Android Ver  \n",
              "0  4.0.3 and up  \n",
              "1  4.0.3 and up  \n",
              "2  4.0.3 and up  \n",
              "3    4.2 and up  \n",
              "4    4.4 and up  "
            ]
          },
          "metadata": {
            "tags": []
          },
          "execution_count": 349
        }
      ]
    },
    {
      "cell_type": "code",
      "metadata": {
        "id": "qn14CEs784k4",
        "colab_type": "code",
        "colab": {},
        "outputId": "ab4bd5b6-94b8-4bf9-9ff2-adf57d7e5df5"
      },
      "source": [
        "# Набор 2\n",
        "data1.head()"
      ],
      "execution_count": 0,
      "outputs": [
        {
          "output_type": "execute_result",
          "data": {
            "text/html": [
              "<div>\n",
              "<style scoped>\n",
              "    .dataframe tbody tr th:only-of-type {\n",
              "        vertical-align: middle;\n",
              "    }\n",
              "\n",
              "    .dataframe tbody tr th {\n",
              "        vertical-align: top;\n",
              "    }\n",
              "\n",
              "    .dataframe thead th {\n",
              "        text-align: right;\n",
              "    }\n",
              "</style>\n",
              "<table border=\"1\" class=\"dataframe\">\n",
              "  <thead>\n",
              "    <tr style=\"text-align: right;\">\n",
              "      <th></th>\n",
              "      <th>App</th>\n",
              "      <th>Translated_Review</th>\n",
              "      <th>Sentiment</th>\n",
              "      <th>Sentiment_Polarity</th>\n",
              "      <th>Sentiment_Subjectivity</th>\n",
              "    </tr>\n",
              "  </thead>\n",
              "  <tbody>\n",
              "    <tr>\n",
              "      <th>0</th>\n",
              "      <td>10 Best Foods for You</td>\n",
              "      <td>I like eat delicious food. That's I'm cooking ...</td>\n",
              "      <td>Positive</td>\n",
              "      <td>1.00</td>\n",
              "      <td>0.533333</td>\n",
              "    </tr>\n",
              "    <tr>\n",
              "      <th>1</th>\n",
              "      <td>10 Best Foods for You</td>\n",
              "      <td>This help eating healthy exercise regular basis</td>\n",
              "      <td>Positive</td>\n",
              "      <td>0.25</td>\n",
              "      <td>0.288462</td>\n",
              "    </tr>\n",
              "    <tr>\n",
              "      <th>2</th>\n",
              "      <td>10 Best Foods for You</td>\n",
              "      <td>NaN</td>\n",
              "      <td>NaN</td>\n",
              "      <td>NaN</td>\n",
              "      <td>NaN</td>\n",
              "    </tr>\n",
              "    <tr>\n",
              "      <th>3</th>\n",
              "      <td>10 Best Foods for You</td>\n",
              "      <td>Works great especially going grocery store</td>\n",
              "      <td>Positive</td>\n",
              "      <td>0.40</td>\n",
              "      <td>0.875000</td>\n",
              "    </tr>\n",
              "    <tr>\n",
              "      <th>4</th>\n",
              "      <td>10 Best Foods for You</td>\n",
              "      <td>Best idea us</td>\n",
              "      <td>Positive</td>\n",
              "      <td>1.00</td>\n",
              "      <td>0.300000</td>\n",
              "    </tr>\n",
              "  </tbody>\n",
              "</table>\n",
              "</div>"
            ],
            "text/plain": [
              "                     App                                  Translated_Review  \\\n",
              "0  10 Best Foods for You  I like eat delicious food. That's I'm cooking ...   \n",
              "1  10 Best Foods for You    This help eating healthy exercise regular basis   \n",
              "2  10 Best Foods for You                                                NaN   \n",
              "3  10 Best Foods for You         Works great especially going grocery store   \n",
              "4  10 Best Foods for You                                       Best idea us   \n",
              "\n",
              "  Sentiment  Sentiment_Polarity  Sentiment_Subjectivity  \n",
              "0  Positive                1.00                0.533333  \n",
              "1  Positive                0.25                0.288462  \n",
              "2       NaN                 NaN                     NaN  \n",
              "3  Positive                0.40                0.875000  \n",
              "4  Positive                1.00                0.300000  "
            ]
          },
          "metadata": {
            "tags": []
          },
          "execution_count": 350
        }
      ]
    },
    {
      "cell_type": "code",
      "metadata": {
        "id": "rdkoqI2q84lB",
        "colab_type": "code",
        "colab": {},
        "outputId": "bafed967-114c-4401-d937-4ed23f946862"
      },
      "source": [
        "\n",
        "total_count = data.shape[0]\n",
        "print('Строки в наборе 1: {}'.format(total_count))"
      ],
      "execution_count": 0,
      "outputs": [
        {
          "output_type": "stream",
          "text": [
            "Строки в наборе 1: 10841\n"
          ],
          "name": "stdout"
        }
      ]
    },
    {
      "cell_type": "code",
      "metadata": {
        "id": "4camwIXL84lH",
        "colab_type": "code",
        "colab": {},
        "outputId": "9dbfa8bc-15df-4571-ab2b-f5f03ce73b9e"
      },
      "source": [
        "total_count1 = data1.shape[0]\n",
        "print('Строки в наборе 2: {}'.format(total_count1))"
      ],
      "execution_count": 0,
      "outputs": [
        {
          "output_type": "stream",
          "text": [
            "Строки в наборе 2: 64295\n"
          ],
          "name": "stdout"
        }
      ]
    },
    {
      "cell_type": "markdown",
      "metadata": {
        "id": "o2RuSPSQ84lJ",
        "colab_type": "text"
      },
      "source": [
        "## Обработка пропусков"
      ]
    },
    {
      "cell_type": "code",
      "metadata": {
        "id": "tm6AD23F84lJ",
        "colab_type": "code",
        "colab": {},
        "outputId": "8fb409b6-a1c6-4cf7-e130-7f364999c975"
      },
      "source": [
        "# Удаление колонок, содержащих пустые значения в наборе 1\n",
        "data_new_1 = data.dropna(axis=1, how='any')\n",
        "(data.shape, data_new_1.shape)"
      ],
      "execution_count": 0,
      "outputs": [
        {
          "output_type": "execute_result",
          "data": {
            "text/plain": [
              "((10841, 13), (10841, 8))"
            ]
          },
          "metadata": {
            "tags": []
          },
          "execution_count": 165
        }
      ]
    },
    {
      "cell_type": "code",
      "metadata": {
        "id": "CYxT64YM84lL",
        "colab_type": "code",
        "colab": {},
        "outputId": "619e455f-7cc0-4d95-8172-1ae0ccf7a0b2"
      },
      "source": [
        "# Удаление колонок, содержащих пустые значения в наборе 2\n",
        "data_new_11 = data1.dropna(axis=1, how='any')\n",
        "(data1.shape, data_new_11.shape)"
      ],
      "execution_count": 0,
      "outputs": [
        {
          "output_type": "execute_result",
          "data": {
            "text/plain": [
              "((64295, 5), (64295, 1))"
            ]
          },
          "metadata": {
            "tags": []
          },
          "execution_count": 166
        }
      ]
    },
    {
      "cell_type": "code",
      "metadata": {
        "id": "ao-nBKpP84lW",
        "colab_type": "code",
        "colab": {},
        "outputId": "3c8eb5a6-a8e4-4541-ed37-f523cdc7a88a"
      },
      "source": [
        "# Удаление строк, содержащих пустые значения в наборе 1\n",
        "data_new_2 = data.dropna(axis=0, how='any')\n",
        "(data.shape, data_new_2.shape)"
      ],
      "execution_count": 0,
      "outputs": [
        {
          "output_type": "execute_result",
          "data": {
            "text/plain": [
              "((10841, 13), (9360, 13))"
            ]
          },
          "metadata": {
            "tags": []
          },
          "execution_count": 167
        }
      ]
    },
    {
      "cell_type": "code",
      "metadata": {
        "id": "cyeUcG7p84lY",
        "colab_type": "code",
        "colab": {},
        "outputId": "c78f726b-2a85-4c14-983f-177acf2ead87"
      },
      "source": [
        "data.head()"
      ],
      "execution_count": 0,
      "outputs": [
        {
          "output_type": "execute_result",
          "data": {
            "text/html": [
              "<div>\n",
              "<style scoped>\n",
              "    .dataframe tbody tr th:only-of-type {\n",
              "        vertical-align: middle;\n",
              "    }\n",
              "\n",
              "    .dataframe tbody tr th {\n",
              "        vertical-align: top;\n",
              "    }\n",
              "\n",
              "    .dataframe thead th {\n",
              "        text-align: right;\n",
              "    }\n",
              "</style>\n",
              "<table border=\"1\" class=\"dataframe\">\n",
              "  <thead>\n",
              "    <tr style=\"text-align: right;\">\n",
              "      <th></th>\n",
              "      <th>App</th>\n",
              "      <th>Category</th>\n",
              "      <th>Rating</th>\n",
              "      <th>Reviews</th>\n",
              "      <th>Size</th>\n",
              "      <th>Installs</th>\n",
              "      <th>Type</th>\n",
              "      <th>Price</th>\n",
              "      <th>Content Rating</th>\n",
              "      <th>Genres</th>\n",
              "      <th>Last Updated</th>\n",
              "      <th>Current Ver</th>\n",
              "      <th>Android Ver</th>\n",
              "    </tr>\n",
              "  </thead>\n",
              "  <tbody>\n",
              "    <tr>\n",
              "      <th>0</th>\n",
              "      <td>Photo Editor &amp; Candy Camera &amp; Grid &amp; ScrapBook</td>\n",
              "      <td>ART_AND_DESIGN</td>\n",
              "      <td>4.1</td>\n",
              "      <td>159</td>\n",
              "      <td>19M</td>\n",
              "      <td>10,000+</td>\n",
              "      <td>Free</td>\n",
              "      <td>0</td>\n",
              "      <td>Everyone</td>\n",
              "      <td>Art &amp; Design</td>\n",
              "      <td>January 7, 2018</td>\n",
              "      <td>1.0.0</td>\n",
              "      <td>4.0.3 and up</td>\n",
              "    </tr>\n",
              "    <tr>\n",
              "      <th>1</th>\n",
              "      <td>Coloring book moana</td>\n",
              "      <td>ART_AND_DESIGN</td>\n",
              "      <td>3.9</td>\n",
              "      <td>967</td>\n",
              "      <td>14M</td>\n",
              "      <td>500,000+</td>\n",
              "      <td>Free</td>\n",
              "      <td>0</td>\n",
              "      <td>Everyone</td>\n",
              "      <td>Art &amp; Design;Pretend Play</td>\n",
              "      <td>January 15, 2018</td>\n",
              "      <td>2.0.0</td>\n",
              "      <td>4.0.3 and up</td>\n",
              "    </tr>\n",
              "    <tr>\n",
              "      <th>2</th>\n",
              "      <td>U Launcher Lite – FREE Live Cool Themes, Hide ...</td>\n",
              "      <td>ART_AND_DESIGN</td>\n",
              "      <td>4.7</td>\n",
              "      <td>87510</td>\n",
              "      <td>8.7M</td>\n",
              "      <td>5,000,000+</td>\n",
              "      <td>Free</td>\n",
              "      <td>0</td>\n",
              "      <td>Everyone</td>\n",
              "      <td>Art &amp; Design</td>\n",
              "      <td>August 1, 2018</td>\n",
              "      <td>1.2.4</td>\n",
              "      <td>4.0.3 and up</td>\n",
              "    </tr>\n",
              "    <tr>\n",
              "      <th>3</th>\n",
              "      <td>Sketch - Draw &amp; Paint</td>\n",
              "      <td>ART_AND_DESIGN</td>\n",
              "      <td>4.5</td>\n",
              "      <td>215644</td>\n",
              "      <td>25M</td>\n",
              "      <td>50,000,000+</td>\n",
              "      <td>Free</td>\n",
              "      <td>0</td>\n",
              "      <td>Teen</td>\n",
              "      <td>Art &amp; Design</td>\n",
              "      <td>June 8, 2018</td>\n",
              "      <td>Varies with device</td>\n",
              "      <td>4.2 and up</td>\n",
              "    </tr>\n",
              "    <tr>\n",
              "      <th>4</th>\n",
              "      <td>Pixel Draw - Number Art Coloring Book</td>\n",
              "      <td>ART_AND_DESIGN</td>\n",
              "      <td>4.3</td>\n",
              "      <td>967</td>\n",
              "      <td>2.8M</td>\n",
              "      <td>100,000+</td>\n",
              "      <td>Free</td>\n",
              "      <td>0</td>\n",
              "      <td>Everyone</td>\n",
              "      <td>Art &amp; Design;Creativity</td>\n",
              "      <td>June 20, 2018</td>\n",
              "      <td>1.1</td>\n",
              "      <td>4.4 and up</td>\n",
              "    </tr>\n",
              "  </tbody>\n",
              "</table>\n",
              "</div>"
            ],
            "text/plain": [
              "                                                 App        Category  Rating  \\\n",
              "0     Photo Editor & Candy Camera & Grid & ScrapBook  ART_AND_DESIGN     4.1   \n",
              "1                                Coloring book moana  ART_AND_DESIGN     3.9   \n",
              "2  U Launcher Lite – FREE Live Cool Themes, Hide ...  ART_AND_DESIGN     4.7   \n",
              "3                              Sketch - Draw & Paint  ART_AND_DESIGN     4.5   \n",
              "4              Pixel Draw - Number Art Coloring Book  ART_AND_DESIGN     4.3   \n",
              "\n",
              "  Reviews  Size     Installs  Type Price Content Rating  \\\n",
              "0     159   19M      10,000+  Free     0       Everyone   \n",
              "1     967   14M     500,000+  Free     0       Everyone   \n",
              "2   87510  8.7M   5,000,000+  Free     0       Everyone   \n",
              "3  215644   25M  50,000,000+  Free     0           Teen   \n",
              "4     967  2.8M     100,000+  Free     0       Everyone   \n",
              "\n",
              "                      Genres      Last Updated         Current Ver  \\\n",
              "0               Art & Design   January 7, 2018               1.0.0   \n",
              "1  Art & Design;Pretend Play  January 15, 2018               2.0.0   \n",
              "2               Art & Design    August 1, 2018               1.2.4   \n",
              "3               Art & Design      June 8, 2018  Varies with device   \n",
              "4    Art & Design;Creativity     June 20, 2018                 1.1   \n",
              "\n",
              "    Android Ver  \n",
              "0  4.0.3 and up  \n",
              "1  4.0.3 and up  \n",
              "2  4.0.3 and up  \n",
              "3    4.2 and up  \n",
              "4    4.4 and up  "
            ]
          },
          "metadata": {
            "tags": []
          },
          "execution_count": 168
        }
      ]
    },
    {
      "cell_type": "code",
      "metadata": {
        "id": "ISWeYIuq84lb",
        "colab_type": "code",
        "colab": {},
        "outputId": "fb4da92a-2354-49d3-e715-f2e4299a2bf3"
      },
      "source": [
        "# Удаление строк, содержащих пустые значения в наборе 2\n",
        "data_new_21 = data1.dropna(axis=0, how='any')\n",
        "(data1.shape, data_new_21.shape)"
      ],
      "execution_count": 0,
      "outputs": [
        {
          "output_type": "execute_result",
          "data": {
            "text/plain": [
              "((64295, 5), (37427, 5))"
            ]
          },
          "metadata": {
            "tags": []
          },
          "execution_count": 169
        }
      ]
    },
    {
      "cell_type": "code",
      "metadata": {
        "id": "W5QrLuUZ84ld",
        "colab_type": "code",
        "colab": {},
        "outputId": "b3064910-66e3-4687-b8df-9d33d5f33e7f"
      },
      "source": [
        "data1.head()"
      ],
      "execution_count": 0,
      "outputs": [
        {
          "output_type": "execute_result",
          "data": {
            "text/html": [
              "<div>\n",
              "<style scoped>\n",
              "    .dataframe tbody tr th:only-of-type {\n",
              "        vertical-align: middle;\n",
              "    }\n",
              "\n",
              "    .dataframe tbody tr th {\n",
              "        vertical-align: top;\n",
              "    }\n",
              "\n",
              "    .dataframe thead th {\n",
              "        text-align: right;\n",
              "    }\n",
              "</style>\n",
              "<table border=\"1\" class=\"dataframe\">\n",
              "  <thead>\n",
              "    <tr style=\"text-align: right;\">\n",
              "      <th></th>\n",
              "      <th>App</th>\n",
              "      <th>Translated_Review</th>\n",
              "      <th>Sentiment</th>\n",
              "      <th>Sentiment_Polarity</th>\n",
              "      <th>Sentiment_Subjectivity</th>\n",
              "    </tr>\n",
              "  </thead>\n",
              "  <tbody>\n",
              "    <tr>\n",
              "      <th>0</th>\n",
              "      <td>10 Best Foods for You</td>\n",
              "      <td>I like eat delicious food. That's I'm cooking ...</td>\n",
              "      <td>Positive</td>\n",
              "      <td>1.00</td>\n",
              "      <td>0.533333</td>\n",
              "    </tr>\n",
              "    <tr>\n",
              "      <th>1</th>\n",
              "      <td>10 Best Foods for You</td>\n",
              "      <td>This help eating healthy exercise regular basis</td>\n",
              "      <td>Positive</td>\n",
              "      <td>0.25</td>\n",
              "      <td>0.288462</td>\n",
              "    </tr>\n",
              "    <tr>\n",
              "      <th>2</th>\n",
              "      <td>10 Best Foods for You</td>\n",
              "      <td>NaN</td>\n",
              "      <td>NaN</td>\n",
              "      <td>NaN</td>\n",
              "      <td>NaN</td>\n",
              "    </tr>\n",
              "    <tr>\n",
              "      <th>3</th>\n",
              "      <td>10 Best Foods for You</td>\n",
              "      <td>Works great especially going grocery store</td>\n",
              "      <td>Positive</td>\n",
              "      <td>0.40</td>\n",
              "      <td>0.875000</td>\n",
              "    </tr>\n",
              "    <tr>\n",
              "      <th>4</th>\n",
              "      <td>10 Best Foods for You</td>\n",
              "      <td>Best idea us</td>\n",
              "      <td>Positive</td>\n",
              "      <td>1.00</td>\n",
              "      <td>0.300000</td>\n",
              "    </tr>\n",
              "  </tbody>\n",
              "</table>\n",
              "</div>"
            ],
            "text/plain": [
              "                     App                                  Translated_Review  \\\n",
              "0  10 Best Foods for You  I like eat delicious food. That's I'm cooking ...   \n",
              "1  10 Best Foods for You    This help eating healthy exercise regular basis   \n",
              "2  10 Best Foods for You                                                NaN   \n",
              "3  10 Best Foods for You         Works great especially going grocery store   \n",
              "4  10 Best Foods for You                                       Best idea us   \n",
              "\n",
              "  Sentiment  Sentiment_Polarity  Sentiment_Subjectivity  \n",
              "0  Positive                1.00                0.533333  \n",
              "1  Positive                0.25                0.288462  \n",
              "2       NaN                 NaN                     NaN  \n",
              "3  Positive                0.40                0.875000  \n",
              "4  Positive                1.00                0.300000  "
            ]
          },
          "metadata": {
            "tags": []
          },
          "execution_count": 170
        }
      ]
    },
    {
      "cell_type": "code",
      "metadata": {
        "id": "pRKzwyG684lf",
        "colab_type": "code",
        "colab": {},
        "outputId": "efafe864-5129-4b9e-f53a-eb1cc0b0d332"
      },
      "source": [
        "# Заполнение всех пропущенных значений нулями в наборе 1\n",
        "data_new_3 = data.fillna(0)\n",
        "data_new_3.head()"
      ],
      "execution_count": 0,
      "outputs": [
        {
          "output_type": "execute_result",
          "data": {
            "text/html": [
              "<div>\n",
              "<style scoped>\n",
              "    .dataframe tbody tr th:only-of-type {\n",
              "        vertical-align: middle;\n",
              "    }\n",
              "\n",
              "    .dataframe tbody tr th {\n",
              "        vertical-align: top;\n",
              "    }\n",
              "\n",
              "    .dataframe thead th {\n",
              "        text-align: right;\n",
              "    }\n",
              "</style>\n",
              "<table border=\"1\" class=\"dataframe\">\n",
              "  <thead>\n",
              "    <tr style=\"text-align: right;\">\n",
              "      <th></th>\n",
              "      <th>App</th>\n",
              "      <th>Category</th>\n",
              "      <th>Rating</th>\n",
              "      <th>Reviews</th>\n",
              "      <th>Size</th>\n",
              "      <th>Installs</th>\n",
              "      <th>Type</th>\n",
              "      <th>Price</th>\n",
              "      <th>Content Rating</th>\n",
              "      <th>Genres</th>\n",
              "      <th>Last Updated</th>\n",
              "      <th>Current Ver</th>\n",
              "      <th>Android Ver</th>\n",
              "    </tr>\n",
              "  </thead>\n",
              "  <tbody>\n",
              "    <tr>\n",
              "      <th>0</th>\n",
              "      <td>Photo Editor &amp; Candy Camera &amp; Grid &amp; ScrapBook</td>\n",
              "      <td>ART_AND_DESIGN</td>\n",
              "      <td>4.1</td>\n",
              "      <td>159</td>\n",
              "      <td>19M</td>\n",
              "      <td>10,000+</td>\n",
              "      <td>Free</td>\n",
              "      <td>0</td>\n",
              "      <td>Everyone</td>\n",
              "      <td>Art &amp; Design</td>\n",
              "      <td>January 7, 2018</td>\n",
              "      <td>1.0.0</td>\n",
              "      <td>4.0.3 and up</td>\n",
              "    </tr>\n",
              "    <tr>\n",
              "      <th>1</th>\n",
              "      <td>Coloring book moana</td>\n",
              "      <td>ART_AND_DESIGN</td>\n",
              "      <td>3.9</td>\n",
              "      <td>967</td>\n",
              "      <td>14M</td>\n",
              "      <td>500,000+</td>\n",
              "      <td>Free</td>\n",
              "      <td>0</td>\n",
              "      <td>Everyone</td>\n",
              "      <td>Art &amp; Design;Pretend Play</td>\n",
              "      <td>January 15, 2018</td>\n",
              "      <td>2.0.0</td>\n",
              "      <td>4.0.3 and up</td>\n",
              "    </tr>\n",
              "    <tr>\n",
              "      <th>2</th>\n",
              "      <td>U Launcher Lite – FREE Live Cool Themes, Hide ...</td>\n",
              "      <td>ART_AND_DESIGN</td>\n",
              "      <td>4.7</td>\n",
              "      <td>87510</td>\n",
              "      <td>8.7M</td>\n",
              "      <td>5,000,000+</td>\n",
              "      <td>Free</td>\n",
              "      <td>0</td>\n",
              "      <td>Everyone</td>\n",
              "      <td>Art &amp; Design</td>\n",
              "      <td>August 1, 2018</td>\n",
              "      <td>1.2.4</td>\n",
              "      <td>4.0.3 and up</td>\n",
              "    </tr>\n",
              "    <tr>\n",
              "      <th>3</th>\n",
              "      <td>Sketch - Draw &amp; Paint</td>\n",
              "      <td>ART_AND_DESIGN</td>\n",
              "      <td>4.5</td>\n",
              "      <td>215644</td>\n",
              "      <td>25M</td>\n",
              "      <td>50,000,000+</td>\n",
              "      <td>Free</td>\n",
              "      <td>0</td>\n",
              "      <td>Teen</td>\n",
              "      <td>Art &amp; Design</td>\n",
              "      <td>June 8, 2018</td>\n",
              "      <td>Varies with device</td>\n",
              "      <td>4.2 and up</td>\n",
              "    </tr>\n",
              "    <tr>\n",
              "      <th>4</th>\n",
              "      <td>Pixel Draw - Number Art Coloring Book</td>\n",
              "      <td>ART_AND_DESIGN</td>\n",
              "      <td>4.3</td>\n",
              "      <td>967</td>\n",
              "      <td>2.8M</td>\n",
              "      <td>100,000+</td>\n",
              "      <td>Free</td>\n",
              "      <td>0</td>\n",
              "      <td>Everyone</td>\n",
              "      <td>Art &amp; Design;Creativity</td>\n",
              "      <td>June 20, 2018</td>\n",
              "      <td>1.1</td>\n",
              "      <td>4.4 and up</td>\n",
              "    </tr>\n",
              "  </tbody>\n",
              "</table>\n",
              "</div>"
            ],
            "text/plain": [
              "                                                 App        Category  Rating  \\\n",
              "0     Photo Editor & Candy Camera & Grid & ScrapBook  ART_AND_DESIGN     4.1   \n",
              "1                                Coloring book moana  ART_AND_DESIGN     3.9   \n",
              "2  U Launcher Lite – FREE Live Cool Themes, Hide ...  ART_AND_DESIGN     4.7   \n",
              "3                              Sketch - Draw & Paint  ART_AND_DESIGN     4.5   \n",
              "4              Pixel Draw - Number Art Coloring Book  ART_AND_DESIGN     4.3   \n",
              "\n",
              "  Reviews  Size     Installs  Type Price Content Rating  \\\n",
              "0     159   19M      10,000+  Free     0       Everyone   \n",
              "1     967   14M     500,000+  Free     0       Everyone   \n",
              "2   87510  8.7M   5,000,000+  Free     0       Everyone   \n",
              "3  215644   25M  50,000,000+  Free     0           Teen   \n",
              "4     967  2.8M     100,000+  Free     0       Everyone   \n",
              "\n",
              "                      Genres      Last Updated         Current Ver  \\\n",
              "0               Art & Design   January 7, 2018               1.0.0   \n",
              "1  Art & Design;Pretend Play  January 15, 2018               2.0.0   \n",
              "2               Art & Design    August 1, 2018               1.2.4   \n",
              "3               Art & Design      June 8, 2018  Varies with device   \n",
              "4    Art & Design;Creativity     June 20, 2018                 1.1   \n",
              "\n",
              "    Android Ver  \n",
              "0  4.0.3 and up  \n",
              "1  4.0.3 and up  \n",
              "2  4.0.3 and up  \n",
              "3    4.2 and up  \n",
              "4    4.4 and up  "
            ]
          },
          "metadata": {
            "tags": []
          },
          "execution_count": 171
        }
      ]
    },
    {
      "cell_type": "code",
      "metadata": {
        "id": "cCxxzG_D84li",
        "colab_type": "code",
        "colab": {},
        "outputId": "f5c78dbe-ac55-4f94-a78d-d1001fe984f7"
      },
      "source": [
        "# Заполнение всех пропущенных значений нулями в наборе 1\n",
        "data_new_31 = data1.fillna(0)\n",
        "data_new_31.head()"
      ],
      "execution_count": 0,
      "outputs": [
        {
          "output_type": "execute_result",
          "data": {
            "text/html": [
              "<div>\n",
              "<style scoped>\n",
              "    .dataframe tbody tr th:only-of-type {\n",
              "        vertical-align: middle;\n",
              "    }\n",
              "\n",
              "    .dataframe tbody tr th {\n",
              "        vertical-align: top;\n",
              "    }\n",
              "\n",
              "    .dataframe thead th {\n",
              "        text-align: right;\n",
              "    }\n",
              "</style>\n",
              "<table border=\"1\" class=\"dataframe\">\n",
              "  <thead>\n",
              "    <tr style=\"text-align: right;\">\n",
              "      <th></th>\n",
              "      <th>App</th>\n",
              "      <th>Translated_Review</th>\n",
              "      <th>Sentiment</th>\n",
              "      <th>Sentiment_Polarity</th>\n",
              "      <th>Sentiment_Subjectivity</th>\n",
              "    </tr>\n",
              "  </thead>\n",
              "  <tbody>\n",
              "    <tr>\n",
              "      <th>0</th>\n",
              "      <td>10 Best Foods for You</td>\n",
              "      <td>I like eat delicious food. That's I'm cooking ...</td>\n",
              "      <td>Positive</td>\n",
              "      <td>1.00</td>\n",
              "      <td>0.533333</td>\n",
              "    </tr>\n",
              "    <tr>\n",
              "      <th>1</th>\n",
              "      <td>10 Best Foods for You</td>\n",
              "      <td>This help eating healthy exercise regular basis</td>\n",
              "      <td>Positive</td>\n",
              "      <td>0.25</td>\n",
              "      <td>0.288462</td>\n",
              "    </tr>\n",
              "    <tr>\n",
              "      <th>2</th>\n",
              "      <td>10 Best Foods for You</td>\n",
              "      <td>0</td>\n",
              "      <td>0</td>\n",
              "      <td>0.00</td>\n",
              "      <td>0.000000</td>\n",
              "    </tr>\n",
              "    <tr>\n",
              "      <th>3</th>\n",
              "      <td>10 Best Foods for You</td>\n",
              "      <td>Works great especially going grocery store</td>\n",
              "      <td>Positive</td>\n",
              "      <td>0.40</td>\n",
              "      <td>0.875000</td>\n",
              "    </tr>\n",
              "    <tr>\n",
              "      <th>4</th>\n",
              "      <td>10 Best Foods for You</td>\n",
              "      <td>Best idea us</td>\n",
              "      <td>Positive</td>\n",
              "      <td>1.00</td>\n",
              "      <td>0.300000</td>\n",
              "    </tr>\n",
              "  </tbody>\n",
              "</table>\n",
              "</div>"
            ],
            "text/plain": [
              "                     App                                  Translated_Review  \\\n",
              "0  10 Best Foods for You  I like eat delicious food. That's I'm cooking ...   \n",
              "1  10 Best Foods for You    This help eating healthy exercise regular basis   \n",
              "2  10 Best Foods for You                                                  0   \n",
              "3  10 Best Foods for You         Works great especially going grocery store   \n",
              "4  10 Best Foods for You                                       Best idea us   \n",
              "\n",
              "  Sentiment  Sentiment_Polarity  Sentiment_Subjectivity  \n",
              "0  Positive                1.00                0.533333  \n",
              "1  Positive                0.25                0.288462  \n",
              "2         0                0.00                0.000000  \n",
              "3  Positive                0.40                0.875000  \n",
              "4  Positive                1.00                0.300000  "
            ]
          },
          "metadata": {
            "tags": []
          },
          "execution_count": 172
        }
      ]
    },
    {
      "cell_type": "markdown",
      "metadata": {
        "id": "lfGo47Wo84lk",
        "colab_type": "text"
      },
      "source": [
        "## Импьютация"
      ]
    },
    {
      "cell_type": "markdown",
      "metadata": {
        "id": "lHfMspcU84lk",
        "colab_type": "text"
      },
      "source": [
        "### Числовые данные"
      ]
    },
    {
      "cell_type": "code",
      "metadata": {
        "id": "VeHldvX284lo",
        "colab_type": "code",
        "colab": {},
        "outputId": "632e0a50-3568-4a3f-83ad-7a9fbff06cbc"
      },
      "source": [
        "# Выберем числовые колонки с пропущенными значениями\n",
        "# Цикл по колонкам датасета набора 1\n",
        "num_cols = []\n",
        "for col in data.columns:\n",
        "    # Количество пустых значений \n",
        "    temp_null_count = data[data[col].isnull()].shape[0]\n",
        "    dt = str(data[col].dtype)\n",
        "    if temp_null_count>0 and (dt=='float64' or dt=='int64'):\n",
        "        num_cols.append(col)\n",
        "        temp_perc = round((temp_null_count / total_count) * 100.0, 2)\n",
        "        print('Колонка {}. Тип данных {}. Количество пустых значений {}, {}%.'.format(col, dt, temp_null_count, temp_perc))"
      ],
      "execution_count": 0,
      "outputs": [
        {
          "output_type": "stream",
          "text": [
            "Колонка Rating. Тип данных float64. Количество пустых значений 1474, 13.6%.\n"
          ],
          "name": "stdout"
        }
      ]
    },
    {
      "cell_type": "code",
      "metadata": {
        "id": "aKyRa9ID84lq",
        "colab_type": "code",
        "colab": {},
        "outputId": "a85cce36-cc95-48a4-d9af-a090c3d6551c"
      },
      "source": [
        "# Выберем числовые колонки с пропущенными значениями\n",
        "# Цикл по колонкам датасета набора 2\n",
        "num_cols1 = []\n",
        "for col in data1.columns:\n",
        "    # Количество пустых значений \n",
        "    temp_null_count1 = data1[data1[col].isnull()].shape[0]\n",
        "    dt1 = str(data1[col].dtype)\n",
        "    if temp_null_count1>0 and (dt1=='float64' or dt1=='int64'):\n",
        "        num_cols1.append(col)\n",
        "        temp_perc1 = round((temp_null_count1 / total_count1) * 100.0, 2)\n",
        "        print('Колонка {}. Тип данных {}. Количество пустых значений {}, {}%.'.format(col, dt1, temp_null_count1, temp_perc1))"
      ],
      "execution_count": 0,
      "outputs": [
        {
          "output_type": "stream",
          "text": [
            "Колонка Sentiment_Polarity. Тип данных float64. Количество пустых значений 26863, 41.78%.\n",
            "Колонка Sentiment_Subjectivity. Тип данных float64. Количество пустых значений 26863, 41.78%.\n"
          ],
          "name": "stdout"
        }
      ]
    },
    {
      "cell_type": "code",
      "metadata": {
        "id": "G4SwDEcC84ls",
        "colab_type": "code",
        "colab": {},
        "outputId": "0a89fc70-4d94-433a-baf0-fd440c638eb7"
      },
      "source": [
        "# Фильтр по колонкам с пропущенными значениями  набора 1\n",
        "data_num = data[num_cols]\n",
        "data_num"
      ],
      "execution_count": 0,
      "outputs": [
        {
          "output_type": "execute_result",
          "data": {
            "text/html": [
              "<div>\n",
              "<style scoped>\n",
              "    .dataframe tbody tr th:only-of-type {\n",
              "        vertical-align: middle;\n",
              "    }\n",
              "\n",
              "    .dataframe tbody tr th {\n",
              "        vertical-align: top;\n",
              "    }\n",
              "\n",
              "    .dataframe thead th {\n",
              "        text-align: right;\n",
              "    }\n",
              "</style>\n",
              "<table border=\"1\" class=\"dataframe\">\n",
              "  <thead>\n",
              "    <tr style=\"text-align: right;\">\n",
              "      <th></th>\n",
              "      <th>Rating</th>\n",
              "    </tr>\n",
              "  </thead>\n",
              "  <tbody>\n",
              "    <tr>\n",
              "      <th>0</th>\n",
              "      <td>4.1</td>\n",
              "    </tr>\n",
              "    <tr>\n",
              "      <th>1</th>\n",
              "      <td>3.9</td>\n",
              "    </tr>\n",
              "    <tr>\n",
              "      <th>2</th>\n",
              "      <td>4.7</td>\n",
              "    </tr>\n",
              "    <tr>\n",
              "      <th>3</th>\n",
              "      <td>4.5</td>\n",
              "    </tr>\n",
              "    <tr>\n",
              "      <th>4</th>\n",
              "      <td>4.3</td>\n",
              "    </tr>\n",
              "    <tr>\n",
              "      <th>...</th>\n",
              "      <td>...</td>\n",
              "    </tr>\n",
              "    <tr>\n",
              "      <th>10836</th>\n",
              "      <td>4.5</td>\n",
              "    </tr>\n",
              "    <tr>\n",
              "      <th>10837</th>\n",
              "      <td>5.0</td>\n",
              "    </tr>\n",
              "    <tr>\n",
              "      <th>10838</th>\n",
              "      <td>NaN</td>\n",
              "    </tr>\n",
              "    <tr>\n",
              "      <th>10839</th>\n",
              "      <td>4.5</td>\n",
              "    </tr>\n",
              "    <tr>\n",
              "      <th>10840</th>\n",
              "      <td>4.5</td>\n",
              "    </tr>\n",
              "  </tbody>\n",
              "</table>\n",
              "<p>10841 rows × 1 columns</p>\n",
              "</div>"
            ],
            "text/plain": [
              "       Rating\n",
              "0         4.1\n",
              "1         3.9\n",
              "2         4.7\n",
              "3         4.5\n",
              "4         4.3\n",
              "...       ...\n",
              "10836     4.5\n",
              "10837     5.0\n",
              "10838     NaN\n",
              "10839     4.5\n",
              "10840     4.5\n",
              "\n",
              "[10841 rows x 1 columns]"
            ]
          },
          "metadata": {
            "tags": []
          },
          "execution_count": 175
        }
      ]
    },
    {
      "cell_type": "code",
      "metadata": {
        "id": "8jUFgA3e84lu",
        "colab_type": "code",
        "colab": {},
        "outputId": "9ebd4504-a7bc-4eb9-a843-334ac22e6701"
      },
      "source": [
        "# Фильтр по колонкам с пропущенными значениями  набора 2\n",
        "data_num1 = data1[num_cols1]\n",
        "data_num1"
      ],
      "execution_count": 0,
      "outputs": [
        {
          "output_type": "execute_result",
          "data": {
            "text/html": [
              "<div>\n",
              "<style scoped>\n",
              "    .dataframe tbody tr th:only-of-type {\n",
              "        vertical-align: middle;\n",
              "    }\n",
              "\n",
              "    .dataframe tbody tr th {\n",
              "        vertical-align: top;\n",
              "    }\n",
              "\n",
              "    .dataframe thead th {\n",
              "        text-align: right;\n",
              "    }\n",
              "</style>\n",
              "<table border=\"1\" class=\"dataframe\">\n",
              "  <thead>\n",
              "    <tr style=\"text-align: right;\">\n",
              "      <th></th>\n",
              "      <th>Sentiment_Polarity</th>\n",
              "      <th>Sentiment_Subjectivity</th>\n",
              "    </tr>\n",
              "  </thead>\n",
              "  <tbody>\n",
              "    <tr>\n",
              "      <th>0</th>\n",
              "      <td>1.00</td>\n",
              "      <td>0.533333</td>\n",
              "    </tr>\n",
              "    <tr>\n",
              "      <th>1</th>\n",
              "      <td>0.25</td>\n",
              "      <td>0.288462</td>\n",
              "    </tr>\n",
              "    <tr>\n",
              "      <th>2</th>\n",
              "      <td>NaN</td>\n",
              "      <td>NaN</td>\n",
              "    </tr>\n",
              "    <tr>\n",
              "      <th>3</th>\n",
              "      <td>0.40</td>\n",
              "      <td>0.875000</td>\n",
              "    </tr>\n",
              "    <tr>\n",
              "      <th>4</th>\n",
              "      <td>1.00</td>\n",
              "      <td>0.300000</td>\n",
              "    </tr>\n",
              "    <tr>\n",
              "      <th>...</th>\n",
              "      <td>...</td>\n",
              "      <td>...</td>\n",
              "    </tr>\n",
              "    <tr>\n",
              "      <th>64290</th>\n",
              "      <td>NaN</td>\n",
              "      <td>NaN</td>\n",
              "    </tr>\n",
              "    <tr>\n",
              "      <th>64291</th>\n",
              "      <td>NaN</td>\n",
              "      <td>NaN</td>\n",
              "    </tr>\n",
              "    <tr>\n",
              "      <th>64292</th>\n",
              "      <td>NaN</td>\n",
              "      <td>NaN</td>\n",
              "    </tr>\n",
              "    <tr>\n",
              "      <th>64293</th>\n",
              "      <td>NaN</td>\n",
              "      <td>NaN</td>\n",
              "    </tr>\n",
              "    <tr>\n",
              "      <th>64294</th>\n",
              "      <td>NaN</td>\n",
              "      <td>NaN</td>\n",
              "    </tr>\n",
              "  </tbody>\n",
              "</table>\n",
              "<p>64295 rows × 2 columns</p>\n",
              "</div>"
            ],
            "text/plain": [
              "       Sentiment_Polarity  Sentiment_Subjectivity\n",
              "0                    1.00                0.533333\n",
              "1                    0.25                0.288462\n",
              "2                     NaN                     NaN\n",
              "3                    0.40                0.875000\n",
              "4                    1.00                0.300000\n",
              "...                   ...                     ...\n",
              "64290                 NaN                     NaN\n",
              "64291                 NaN                     NaN\n",
              "64292                 NaN                     NaN\n",
              "64293                 NaN                     NaN\n",
              "64294                 NaN                     NaN\n",
              "\n",
              "[64295 rows x 2 columns]"
            ]
          },
          "metadata": {
            "tags": []
          },
          "execution_count": 176
        }
      ]
    },
    {
      "cell_type": "code",
      "metadata": {
        "id": "I0tLtcbL84lv",
        "colab_type": "code",
        "colab": {},
        "outputId": "f8828dc0-7dcb-4f52-c0b1-3de50e943bec"
      },
      "source": [
        "# Гистограмма по признакам  набора 1 - Rating\n",
        "for col in data_num:\n",
        "    plt.hist(data[col], 50)\n",
        "    plt.xlabel(col)\n",
        "    plt.show()"
      ],
      "execution_count": 0,
      "outputs": [
        {
          "output_type": "stream",
          "text": [
            "/home/lisobol/tensorflow_env/my_tensorflow/lib/python3.7/site-packages/numpy/lib/histograms.py:839: RuntimeWarning: invalid value encountered in greater_equal\n",
            "  keep = (tmp_a >= first_edge)\n",
            "/home/lisobol/tensorflow_env/my_tensorflow/lib/python3.7/site-packages/numpy/lib/histograms.py:840: RuntimeWarning: invalid value encountered in less_equal\n",
            "  keep &= (tmp_a <= last_edge)\n"
          ],
          "name": "stderr"
        },
        {
          "output_type": "display_data",
          "data": {
            "image/png": "[encoded data removed]",
            "text/plain": [
              "<Figure size 432x288 with 1 Axes>"
            ]
          },
          "metadata": {
            "tags": []
          }
        }
      ]
    },
    {
      "cell_type": "code",
      "metadata": {
        "id": "KCzg0ziM84lx",
        "colab_type": "code",
        "colab": {},
        "outputId": "b992a495-b63f-4af2-ae88-c537a4d8d0cc"
      },
      "source": [
        "# Гистограмма по признакам  набора 1: Sentiment_Polarity, Sentiment_subjectivity\n",
        "for col in data_num1:\n",
        "    plt.hist(data1[col], 50)\n",
        "    plt.xlabel(col)\n",
        "    plt.show()"
      ],
      "execution_count": 0,
      "outputs": [
        {
          "output_type": "stream",
          "text": [
            "/home/lisobol/tensorflow_env/my_tensorflow/lib/python3.7/site-packages/numpy/lib/histograms.py:839: RuntimeWarning: invalid value encountered in greater_equal\n",
            "  keep = (tmp_a >= first_edge)\n",
            "/home/lisobol/tensorflow_env/my_tensorflow/lib/python3.7/site-packages/numpy/lib/histograms.py:840: RuntimeWarning: invalid value encountered in less_equal\n",
            "  keep &= (tmp_a <= last_edge)\n"
          ],
          "name": "stderr"
        },
        {
          "output_type": "display_data",
          "data": {
            "image/png": "[encoded data removed]",
            "text/plain": [
              "<Figure size 432x288 with 1 Axes>"
            ]
          },
          "metadata": {
            "tags": []
          }
        },
        {
          "output_type": "display_data",
          "data": {
            "image/png": "[encoded data removed]",
            "text/plain": [
              "<Figure size 432x288 with 1 Axes>"
            ]
          },
          "metadata": {
            "tags": []
          }
        }
      ]
    },
    {
      "cell_type": "code",
      "metadata": {
        "id": "02jYQ4vT84lz",
        "colab_type": "code",
        "colab": {},
        "outputId": "94d3af4a-9c5b-4eb1-ac2c-418266b1922f"
      },
      "source": [
        "# Фильтр по пустым значениям поля Rating \n",
        "data[data['Rating'].isnull()]"
      ],
      "execution_count": 0,
      "outputs": [
        {
          "output_type": "execute_result",
          "data": {
            "text/html": [
              "<div>\n",
              "<style scoped>\n",
              "    .dataframe tbody tr th:only-of-type {\n",
              "        vertical-align: middle;\n",
              "    }\n",
              "\n",
              "    .dataframe tbody tr th {\n",
              "        vertical-align: top;\n",
              "    }\n",
              "\n",
              "    .dataframe thead th {\n",
              "        text-align: right;\n",
              "    }\n",
              "</style>\n",
              "<table border=\"1\" class=\"dataframe\">\n",
              "  <thead>\n",
              "    <tr style=\"text-align: right;\">\n",
              "      <th></th>\n",
              "      <th>App</th>\n",
              "      <th>Category</th>\n",
              "      <th>Rating</th>\n",
              "      <th>Reviews</th>\n",
              "      <th>Size</th>\n",
              "      <th>Installs</th>\n",
              "      <th>Type</th>\n",
              "      <th>Price</th>\n",
              "      <th>Content Rating</th>\n",
              "      <th>Genres</th>\n",
              "      <th>Last Updated</th>\n",
              "      <th>Current Ver</th>\n",
              "      <th>Android Ver</th>\n",
              "    </tr>\n",
              "  </thead>\n",
              "  <tbody>\n",
              "    <tr>\n",
              "      <th>23</th>\n",
              "      <td>Mcqueen Coloring pages</td>\n",
              "      <td>ART_AND_DESIGN</td>\n",
              "      <td>NaN</td>\n",
              "      <td>61</td>\n",
              "      <td>7.0M</td>\n",
              "      <td>100,000+</td>\n",
              "      <td>Free</td>\n",
              "      <td>0</td>\n",
              "      <td>Everyone</td>\n",
              "      <td>Art &amp; Design;Action &amp; Adventure</td>\n",
              "      <td>March 7, 2018</td>\n",
              "      <td>1.0.0</td>\n",
              "      <td>4.1 and up</td>\n",
              "    </tr>\n",
              "    <tr>\n",
              "      <th>113</th>\n",
              "      <td>Wrinkles and rejuvenation</td>\n",
              "      <td>BEAUTY</td>\n",
              "      <td>NaN</td>\n",
              "      <td>182</td>\n",
              "      <td>5.7M</td>\n",
              "      <td>100,000+</td>\n",
              "      <td>Free</td>\n",
              "      <td>0</td>\n",
              "      <td>Everyone 10+</td>\n",
              "      <td>Beauty</td>\n",
              "      <td>September 20, 2017</td>\n",
              "      <td>8.0</td>\n",
              "      <td>3.0 and up</td>\n",
              "    </tr>\n",
              "    <tr>\n",
              "      <th>123</th>\n",
              "      <td>Manicure - nail design</td>\n",
              "      <td>BEAUTY</td>\n",
              "      <td>NaN</td>\n",
              "      <td>119</td>\n",
              "      <td>3.7M</td>\n",
              "      <td>50,000+</td>\n",
              "      <td>Free</td>\n",
              "      <td>0</td>\n",
              "      <td>Everyone</td>\n",
              "      <td>Beauty</td>\n",
              "      <td>July 23, 2018</td>\n",
              "      <td>1.3</td>\n",
              "      <td>4.1 and up</td>\n",
              "    </tr>\n",
              "    <tr>\n",
              "      <th>126</th>\n",
              "      <td>Skin Care and Natural Beauty</td>\n",
              "      <td>BEAUTY</td>\n",
              "      <td>NaN</td>\n",
              "      <td>654</td>\n",
              "      <td>7.4M</td>\n",
              "      <td>100,000+</td>\n",
              "      <td>Free</td>\n",
              "      <td>0</td>\n",
              "      <td>Teen</td>\n",
              "      <td>Beauty</td>\n",
              "      <td>July 17, 2018</td>\n",
              "      <td>1.15</td>\n",
              "      <td>4.1 and up</td>\n",
              "    </tr>\n",
              "    <tr>\n",
              "      <th>129</th>\n",
              "      <td>Secrets of beauty, youth and health</td>\n",
              "      <td>BEAUTY</td>\n",
              "      <td>NaN</td>\n",
              "      <td>77</td>\n",
              "      <td>2.9M</td>\n",
              "      <td>10,000+</td>\n",
              "      <td>Free</td>\n",
              "      <td>0</td>\n",
              "      <td>Mature 17+</td>\n",
              "      <td>Beauty</td>\n",
              "      <td>August 8, 2017</td>\n",
              "      <td>2.0</td>\n",
              "      <td>2.3 and up</td>\n",
              "    </tr>\n",
              "    <tr>\n",
              "      <th>...</th>\n",
              "      <td>...</td>\n",
              "      <td>...</td>\n",
              "      <td>...</td>\n",
              "      <td>...</td>\n",
              "      <td>...</td>\n",
              "      <td>...</td>\n",
              "      <td>...</td>\n",
              "      <td>...</td>\n",
              "      <td>...</td>\n",
              "      <td>...</td>\n",
              "      <td>...</td>\n",
              "      <td>...</td>\n",
              "      <td>...</td>\n",
              "    </tr>\n",
              "    <tr>\n",
              "      <th>10824</th>\n",
              "      <td>Cardio-FR</td>\n",
              "      <td>MEDICAL</td>\n",
              "      <td>NaN</td>\n",
              "      <td>67</td>\n",
              "      <td>82M</td>\n",
              "      <td>10,000+</td>\n",
              "      <td>Free</td>\n",
              "      <td>0</td>\n",
              "      <td>Everyone</td>\n",
              "      <td>Medical</td>\n",
              "      <td>July 31, 2018</td>\n",
              "      <td>2.2.2</td>\n",
              "      <td>4.4 and up</td>\n",
              "    </tr>\n",
              "    <tr>\n",
              "      <th>10825</th>\n",
              "      <td>Naruto &amp; Boruto FR</td>\n",
              "      <td>SOCIAL</td>\n",
              "      <td>NaN</td>\n",
              "      <td>7</td>\n",
              "      <td>7.7M</td>\n",
              "      <td>100+</td>\n",
              "      <td>Free</td>\n",
              "      <td>0</td>\n",
              "      <td>Teen</td>\n",
              "      <td>Social</td>\n",
              "      <td>February 2, 2018</td>\n",
              "      <td>1.0</td>\n",
              "      <td>4.0 and up</td>\n",
              "    </tr>\n",
              "    <tr>\n",
              "      <th>10831</th>\n",
              "      <td>payermonstationnement.fr</td>\n",
              "      <td>MAPS_AND_NAVIGATION</td>\n",
              "      <td>NaN</td>\n",
              "      <td>38</td>\n",
              "      <td>9.8M</td>\n",
              "      <td>5,000+</td>\n",
              "      <td>Free</td>\n",
              "      <td>0</td>\n",
              "      <td>Everyone</td>\n",
              "      <td>Maps &amp; Navigation</td>\n",
              "      <td>June 13, 2018</td>\n",
              "      <td>2.0.148.0</td>\n",
              "      <td>4.0 and up</td>\n",
              "    </tr>\n",
              "    <tr>\n",
              "      <th>10835</th>\n",
              "      <td>FR Forms</td>\n",
              "      <td>BUSINESS</td>\n",
              "      <td>NaN</td>\n",
              "      <td>0</td>\n",
              "      <td>9.6M</td>\n",
              "      <td>10+</td>\n",
              "      <td>Free</td>\n",
              "      <td>0</td>\n",
              "      <td>Everyone</td>\n",
              "      <td>Business</td>\n",
              "      <td>September 29, 2016</td>\n",
              "      <td>1.1.5</td>\n",
              "      <td>4.0 and up</td>\n",
              "    </tr>\n",
              "    <tr>\n",
              "      <th>10838</th>\n",
              "      <td>Parkinson Exercices FR</td>\n",
              "      <td>MEDICAL</td>\n",
              "      <td>NaN</td>\n",
              "      <td>3</td>\n",
              "      <td>9.5M</td>\n",
              "      <td>1,000+</td>\n",
              "      <td>Free</td>\n",
              "      <td>0</td>\n",
              "      <td>Everyone</td>\n",
              "      <td>Medical</td>\n",
              "      <td>January 20, 2017</td>\n",
              "      <td>1.0</td>\n",
              "      <td>2.2 and up</td>\n",
              "    </tr>\n",
              "  </tbody>\n",
              "</table>\n",
              "<p>1474 rows × 13 columns</p>\n",
              "</div>"
            ],
            "text/plain": [
              "                                       App             Category  Rating  \\\n",
              "23                  Mcqueen Coloring pages       ART_AND_DESIGN     NaN   \n",
              "113              Wrinkles and rejuvenation               BEAUTY     NaN   \n",
              "123                 Manicure - nail design               BEAUTY     NaN   \n",
              "126           Skin Care and Natural Beauty               BEAUTY     NaN   \n",
              "129    Secrets of beauty, youth and health               BEAUTY     NaN   \n",
              "...                                    ...                  ...     ...   \n",
              "10824                            Cardio-FR              MEDICAL     NaN   \n",
              "10825                   Naruto & Boruto FR               SOCIAL     NaN   \n",
              "10831             payermonstationnement.fr  MAPS_AND_NAVIGATION     NaN   \n",
              "10835                             FR Forms             BUSINESS     NaN   \n",
              "10838               Parkinson Exercices FR              MEDICAL     NaN   \n",
              "\n",
              "      Reviews  Size  Installs  Type Price Content Rating  \\\n",
              "23         61  7.0M  100,000+  Free     0       Everyone   \n",
              "113       182  5.7M  100,000+  Free     0   Everyone 10+   \n",
              "123       119  3.7M   50,000+  Free     0       Everyone   \n",
              "126       654  7.4M  100,000+  Free     0           Teen   \n",
              "129        77  2.9M   10,000+  Free     0     Mature 17+   \n",
              "...       ...   ...       ...   ...   ...            ...   \n",
              "10824      67   82M   10,000+  Free     0       Everyone   \n",
              "10825       7  7.7M      100+  Free     0           Teen   \n",
              "10831      38  9.8M    5,000+  Free     0       Everyone   \n",
              "10835       0  9.6M       10+  Free     0       Everyone   \n",
              "10838       3  9.5M    1,000+  Free     0       Everyone   \n",
              "\n",
              "                                Genres        Last Updated Current Ver  \\\n",
              "23     Art & Design;Action & Adventure       March 7, 2018       1.0.0   \n",
              "113                             Beauty  September 20, 2017         8.0   \n",
              "123                             Beauty       July 23, 2018         1.3   \n",
              "126                             Beauty       July 17, 2018        1.15   \n",
              "129                             Beauty      August 8, 2017         2.0   \n",
              "...                                ...                 ...         ...   \n",
              "10824                          Medical       July 31, 2018       2.2.2   \n",
              "10825                           Social    February 2, 2018         1.0   \n",
              "10831                Maps & Navigation       June 13, 2018   2.0.148.0   \n",
              "10835                         Business  September 29, 2016       1.1.5   \n",
              "10838                          Medical    January 20, 2017         1.0   \n",
              "\n",
              "      Android Ver  \n",
              "23     4.1 and up  \n",
              "113    3.0 and up  \n",
              "123    4.1 and up  \n",
              "126    4.1 and up  \n",
              "129    2.3 and up  \n",
              "...           ...  \n",
              "10824  4.4 and up  \n",
              "10825  4.0 and up  \n",
              "10831  4.0 and up  \n",
              "10835  4.0 and up  \n",
              "10838  2.2 and up  \n",
              "\n",
              "[1474 rows x 13 columns]"
            ]
          },
          "metadata": {
            "tags": []
          },
          "execution_count": 179
        }
      ]
    },
    {
      "cell_type": "code",
      "metadata": {
        "id": "6U8QE0Sq84l0",
        "colab_type": "code",
        "colab": {},
        "outputId": "673667ba-82a3-4625-981e-8342e498dc21"
      },
      "source": [
        "# Фильтр по пустым значениям поля Sentiment_Polarity \n",
        "data1[data1['Sentiment_Polarity'].isnull()]"
      ],
      "execution_count": 0,
      "outputs": [
        {
          "output_type": "execute_result",
          "data": {
            "text/html": [
              "<div>\n",
              "<style scoped>\n",
              "    .dataframe tbody tr th:only-of-type {\n",
              "        vertical-align: middle;\n",
              "    }\n",
              "\n",
              "    .dataframe tbody tr th {\n",
              "        vertical-align: top;\n",
              "    }\n",
              "\n",
              "    .dataframe thead th {\n",
              "        text-align: right;\n",
              "    }\n",
              "</style>\n",
              "<table border=\"1\" class=\"dataframe\">\n",
              "  <thead>\n",
              "    <tr style=\"text-align: right;\">\n",
              "      <th></th>\n",
              "      <th>App</th>\n",
              "      <th>Translated_Review</th>\n",
              "      <th>Sentiment</th>\n",
              "      <th>Sentiment_Polarity</th>\n",
              "      <th>Sentiment_Subjectivity</th>\n",
              "    </tr>\n",
              "  </thead>\n",
              "  <tbody>\n",
              "    <tr>\n",
              "      <th>2</th>\n",
              "      <td>10 Best Foods for You</td>\n",
              "      <td>NaN</td>\n",
              "      <td>NaN</td>\n",
              "      <td>NaN</td>\n",
              "      <td>NaN</td>\n",
              "    </tr>\n",
              "    <tr>\n",
              "      <th>7</th>\n",
              "      <td>10 Best Foods for You</td>\n",
              "      <td>NaN</td>\n",
              "      <td>NaN</td>\n",
              "      <td>NaN</td>\n",
              "      <td>NaN</td>\n",
              "    </tr>\n",
              "    <tr>\n",
              "      <th>15</th>\n",
              "      <td>10 Best Foods for You</td>\n",
              "      <td>NaN</td>\n",
              "      <td>NaN</td>\n",
              "      <td>NaN</td>\n",
              "      <td>NaN</td>\n",
              "    </tr>\n",
              "    <tr>\n",
              "      <th>102</th>\n",
              "      <td>10 Best Foods for You</td>\n",
              "      <td>NaN</td>\n",
              "      <td>NaN</td>\n",
              "      <td>NaN</td>\n",
              "      <td>NaN</td>\n",
              "    </tr>\n",
              "    <tr>\n",
              "      <th>107</th>\n",
              "      <td>10 Best Foods for You</td>\n",
              "      <td>NaN</td>\n",
              "      <td>NaN</td>\n",
              "      <td>NaN</td>\n",
              "      <td>NaN</td>\n",
              "    </tr>\n",
              "    <tr>\n",
              "      <th>...</th>\n",
              "      <td>...</td>\n",
              "      <td>...</td>\n",
              "      <td>...</td>\n",
              "      <td>...</td>\n",
              "      <td>...</td>\n",
              "    </tr>\n",
              "    <tr>\n",
              "      <th>64290</th>\n",
              "      <td>Houzz Interior Design Ideas</td>\n",
              "      <td>NaN</td>\n",
              "      <td>NaN</td>\n",
              "      <td>NaN</td>\n",
              "      <td>NaN</td>\n",
              "    </tr>\n",
              "    <tr>\n",
              "      <th>64291</th>\n",
              "      <td>Houzz Interior Design Ideas</td>\n",
              "      <td>NaN</td>\n",
              "      <td>NaN</td>\n",
              "      <td>NaN</td>\n",
              "      <td>NaN</td>\n",
              "    </tr>\n",
              "    <tr>\n",
              "      <th>64292</th>\n",
              "      <td>Houzz Interior Design Ideas</td>\n",
              "      <td>NaN</td>\n",
              "      <td>NaN</td>\n",
              "      <td>NaN</td>\n",
              "      <td>NaN</td>\n",
              "    </tr>\n",
              "    <tr>\n",
              "      <th>64293</th>\n",
              "      <td>Houzz Interior Design Ideas</td>\n",
              "      <td>NaN</td>\n",
              "      <td>NaN</td>\n",
              "      <td>NaN</td>\n",
              "      <td>NaN</td>\n",
              "    </tr>\n",
              "    <tr>\n",
              "      <th>64294</th>\n",
              "      <td>Houzz Interior Design Ideas</td>\n",
              "      <td>NaN</td>\n",
              "      <td>NaN</td>\n",
              "      <td>NaN</td>\n",
              "      <td>NaN</td>\n",
              "    </tr>\n",
              "  </tbody>\n",
              "</table>\n",
              "<p>26863 rows × 5 columns</p>\n",
              "</div>"
            ],
            "text/plain": [
              "                               App Translated_Review Sentiment  \\\n",
              "2            10 Best Foods for You               NaN       NaN   \n",
              "7            10 Best Foods for You               NaN       NaN   \n",
              "15           10 Best Foods for You               NaN       NaN   \n",
              "102          10 Best Foods for You               NaN       NaN   \n",
              "107          10 Best Foods for You               NaN       NaN   \n",
              "...                            ...               ...       ...   \n",
              "64290  Houzz Interior Design Ideas               NaN       NaN   \n",
              "64291  Houzz Interior Design Ideas               NaN       NaN   \n",
              "64292  Houzz Interior Design Ideas               NaN       NaN   \n",
              "64293  Houzz Interior Design Ideas               NaN       NaN   \n",
              "64294  Houzz Interior Design Ideas               NaN       NaN   \n",
              "\n",
              "       Sentiment_Polarity  Sentiment_Subjectivity  \n",
              "2                     NaN                     NaN  \n",
              "7                     NaN                     NaN  \n",
              "15                    NaN                     NaN  \n",
              "102                   NaN                     NaN  \n",
              "107                   NaN                     NaN  \n",
              "...                   ...                     ...  \n",
              "64290                 NaN                     NaN  \n",
              "64291                 NaN                     NaN  \n",
              "64292                 NaN                     NaN  \n",
              "64293                 NaN                     NaN  \n",
              "64294                 NaN                     NaN  \n",
              "\n",
              "[26863 rows x 5 columns]"
            ]
          },
          "metadata": {
            "tags": []
          },
          "execution_count": 180
        }
      ]
    },
    {
      "cell_type": "code",
      "metadata": {
        "id": "Tf63qCtn84l2",
        "colab_type": "code",
        "colab": {},
        "outputId": "bfcaffcd-2a24-4eff-dbcb-61d32bc20fbf"
      },
      "source": [
        "# Фильтр по пустым значениям поля Sentiment_Subjectivity \n",
        "data1[data1['Sentiment_Subjectivity'].isnull()]"
      ],
      "execution_count": 0,
      "outputs": [
        {
          "output_type": "execute_result",
          "data": {
            "text/html": [
              "<div>\n",
              "<style scoped>\n",
              "    .dataframe tbody tr th:only-of-type {\n",
              "        vertical-align: middle;\n",
              "    }\n",
              "\n",
              "    .dataframe tbody tr th {\n",
              "        vertical-align: top;\n",
              "    }\n",
              "\n",
              "    .dataframe thead th {\n",
              "        text-align: right;\n",
              "    }\n",
              "</style>\n",
              "<table border=\"1\" class=\"dataframe\">\n",
              "  <thead>\n",
              "    <tr style=\"text-align: right;\">\n",
              "      <th></th>\n",
              "      <th>App</th>\n",
              "      <th>Translated_Review</th>\n",
              "      <th>Sentiment</th>\n",
              "      <th>Sentiment_Polarity</th>\n",
              "      <th>Sentiment_Subjectivity</th>\n",
              "    </tr>\n",
              "  </thead>\n",
              "  <tbody>\n",
              "    <tr>\n",
              "      <th>2</th>\n",
              "      <td>10 Best Foods for You</td>\n",
              "      <td>NaN</td>\n",
              "      <td>NaN</td>\n",
              "      <td>NaN</td>\n",
              "      <td>NaN</td>\n",
              "    </tr>\n",
              "    <tr>\n",
              "      <th>7</th>\n",
              "      <td>10 Best Foods for You</td>\n",
              "      <td>NaN</td>\n",
              "      <td>NaN</td>\n",
              "      <td>NaN</td>\n",
              "      <td>NaN</td>\n",
              "    </tr>\n",
              "    <tr>\n",
              "      <th>15</th>\n",
              "      <td>10 Best Foods for You</td>\n",
              "      <td>NaN</td>\n",
              "      <td>NaN</td>\n",
              "      <td>NaN</td>\n",
              "      <td>NaN</td>\n",
              "    </tr>\n",
              "    <tr>\n",
              "      <th>102</th>\n",
              "      <td>10 Best Foods for You</td>\n",
              "      <td>NaN</td>\n",
              "      <td>NaN</td>\n",
              "      <td>NaN</td>\n",
              "      <td>NaN</td>\n",
              "    </tr>\n",
              "    <tr>\n",
              "      <th>107</th>\n",
              "      <td>10 Best Foods for You</td>\n",
              "      <td>NaN</td>\n",
              "      <td>NaN</td>\n",
              "      <td>NaN</td>\n",
              "      <td>NaN</td>\n",
              "    </tr>\n",
              "    <tr>\n",
              "      <th>...</th>\n",
              "      <td>...</td>\n",
              "      <td>...</td>\n",
              "      <td>...</td>\n",
              "      <td>...</td>\n",
              "      <td>...</td>\n",
              "    </tr>\n",
              "    <tr>\n",
              "      <th>64290</th>\n",
              "      <td>Houzz Interior Design Ideas</td>\n",
              "      <td>NaN</td>\n",
              "      <td>NaN</td>\n",
              "      <td>NaN</td>\n",
              "      <td>NaN</td>\n",
              "    </tr>\n",
              "    <tr>\n",
              "      <th>64291</th>\n",
              "      <td>Houzz Interior Design Ideas</td>\n",
              "      <td>NaN</td>\n",
              "      <td>NaN</td>\n",
              "      <td>NaN</td>\n",
              "      <td>NaN</td>\n",
              "    </tr>\n",
              "    <tr>\n",
              "      <th>64292</th>\n",
              "      <td>Houzz Interior Design Ideas</td>\n",
              "      <td>NaN</td>\n",
              "      <td>NaN</td>\n",
              "      <td>NaN</td>\n",
              "      <td>NaN</td>\n",
              "    </tr>\n",
              "    <tr>\n",
              "      <th>64293</th>\n",
              "      <td>Houzz Interior Design Ideas</td>\n",
              "      <td>NaN</td>\n",
              "      <td>NaN</td>\n",
              "      <td>NaN</td>\n",
              "      <td>NaN</td>\n",
              "    </tr>\n",
              "    <tr>\n",
              "      <th>64294</th>\n",
              "      <td>Houzz Interior Design Ideas</td>\n",
              "      <td>NaN</td>\n",
              "      <td>NaN</td>\n",
              "      <td>NaN</td>\n",
              "      <td>NaN</td>\n",
              "    </tr>\n",
              "  </tbody>\n",
              "</table>\n",
              "<p>26863 rows × 5 columns</p>\n",
              "</div>"
            ],
            "text/plain": [
              "                               App Translated_Review Sentiment  \\\n",
              "2            10 Best Foods for You               NaN       NaN   \n",
              "7            10 Best Foods for You               NaN       NaN   \n",
              "15           10 Best Foods for You               NaN       NaN   \n",
              "102          10 Best Foods for You               NaN       NaN   \n",
              "107          10 Best Foods for You               NaN       NaN   \n",
              "...                            ...               ...       ...   \n",
              "64290  Houzz Interior Design Ideas               NaN       NaN   \n",
              "64291  Houzz Interior Design Ideas               NaN       NaN   \n",
              "64292  Houzz Interior Design Ideas               NaN       NaN   \n",
              "64293  Houzz Interior Design Ideas               NaN       NaN   \n",
              "64294  Houzz Interior Design Ideas               NaN       NaN   \n",
              "\n",
              "       Sentiment_Polarity  Sentiment_Subjectivity  \n",
              "2                     NaN                     NaN  \n",
              "7                     NaN                     NaN  \n",
              "15                    NaN                     NaN  \n",
              "102                   NaN                     NaN  \n",
              "107                   NaN                     NaN  \n",
              "...                   ...                     ...  \n",
              "64290                 NaN                     NaN  \n",
              "64291                 NaN                     NaN  \n",
              "64292                 NaN                     NaN  \n",
              "64293                 NaN                     NaN  \n",
              "64294                 NaN                     NaN  \n",
              "\n",
              "[26863 rows x 5 columns]"
            ]
          },
          "metadata": {
            "tags": []
          },
          "execution_count": 181
        }
      ]
    },
    {
      "cell_type": "code",
      "metadata": {
        "id": "f23e4rRC84l4",
        "colab_type": "code",
        "colab": {},
        "outputId": "db68b71e-4a39-4b79-c097-6a5f0bb4089d"
      },
      "source": [
        "# Запоминаем индексы строк с пустыми значениями  поля Rating \n",
        "flt_index = data[data['Rating'].isnull()].index\n",
        "flt_index"
      ],
      "execution_count": 0,
      "outputs": [
        {
          "output_type": "execute_result",
          "data": {
            "text/plain": [
              "Int64Index([   23,   113,   123,   126,   129,   130,   134,   163,   180,\n",
              "              185,\n",
              "            ...\n",
              "            10816, 10818, 10821, 10822, 10823, 10824, 10825, 10831, 10835,\n",
              "            10838],\n",
              "           dtype='int64', length=1474)"
            ]
          },
          "metadata": {
            "tags": []
          },
          "execution_count": 182
        }
      ]
    },
    {
      "cell_type": "code",
      "metadata": {
        "id": "jzNzHhNN84mD",
        "colab_type": "code",
        "colab": {},
        "outputId": "51c8a7bc-472c-4da0-ff6a-60f8c22965c3"
      },
      "source": [
        "# Запоминаем индексы строк с пустыми значениями поля Sentiment_Polarity\n",
        "flt_index1 = data1[data1['Sentiment_Polarity'].isnull()].index\n",
        "flt_index1"
      ],
      "execution_count": 0,
      "outputs": [
        {
          "output_type": "execute_result",
          "data": {
            "text/plain": [
              "Int64Index([    2,     7,    15,   102,   107,   115,   362,   368,   405,\n",
              "              407,\n",
              "            ...\n",
              "            64285, 64286, 64287, 64288, 64289, 64290, 64291, 64292, 64293,\n",
              "            64294],\n",
              "           dtype='int64', length=26863)"
            ]
          },
          "metadata": {
            "tags": []
          },
          "execution_count": 183
        }
      ]
    },
    {
      "cell_type": "code",
      "metadata": {
        "id": "jDWPNnW_84mU",
        "colab_type": "code",
        "colab": {},
        "outputId": "08d9558d-8b61-4719-87dd-0c1ef7574a9e"
      },
      "source": [
        "# Запоминаем индексы строк с пустыми значениями поляSentiment_Subjectivity\n",
        "flt_index11 = data1[data1['Sentiment_Subjectivity'].isnull()].index\n",
        "flt_index11"
      ],
      "execution_count": 0,
      "outputs": [
        {
          "output_type": "execute_result",
          "data": {
            "text/plain": [
              "Int64Index([    2,     7,    15,   102,   107,   115,   362,   368,   405,\n",
              "              407,\n",
              "            ...\n",
              "            64285, 64286, 64287, 64288, 64289, 64290, 64291, 64292, 64293,\n",
              "            64294],\n",
              "           dtype='int64', length=26863)"
            ]
          },
          "metadata": {
            "tags": []
          },
          "execution_count": 184
        }
      ]
    },
    {
      "cell_type": "code",
      "metadata": {
        "id": "S44QGhWk84mb",
        "colab_type": "code",
        "colab": {},
        "outputId": "4c99626c-500c-45ea-c862-e0bc078021e3"
      },
      "source": [
        "# Проверяем что выводятся нужные строки Rating\n",
        "data[data.index.isin(flt_index)]"
      ],
      "execution_count": 0,
      "outputs": [
        {
          "output_type": "execute_result",
          "data": {
            "text/html": [
              "<div>\n",
              "<style scoped>\n",
              "    .dataframe tbody tr th:only-of-type {\n",
              "        vertical-align: middle;\n",
              "    }\n",
              "\n",
              "    .dataframe tbody tr th {\n",
              "        vertical-align: top;\n",
              "    }\n",
              "\n",
              "    .dataframe thead th {\n",
              "        text-align: right;\n",
              "    }\n",
              "</style>\n",
              "<table border=\"1\" class=\"dataframe\">\n",
              "  <thead>\n",
              "    <tr style=\"text-align: right;\">\n",
              "      <th></th>\n",
              "      <th>App</th>\n",
              "      <th>Category</th>\n",
              "      <th>Rating</th>\n",
              "      <th>Reviews</th>\n",
              "      <th>Size</th>\n",
              "      <th>Installs</th>\n",
              "      <th>Type</th>\n",
              "      <th>Price</th>\n",
              "      <th>Content Rating</th>\n",
              "      <th>Genres</th>\n",
              "      <th>Last Updated</th>\n",
              "      <th>Current Ver</th>\n",
              "      <th>Android Ver</th>\n",
              "    </tr>\n",
              "  </thead>\n",
              "  <tbody>\n",
              "    <tr>\n",
              "      <th>23</th>\n",
              "      <td>Mcqueen Coloring pages</td>\n",
              "      <td>ART_AND_DESIGN</td>\n",
              "      <td>NaN</td>\n",
              "      <td>61</td>\n",
              "      <td>7.0M</td>\n",
              "      <td>100,000+</td>\n",
              "      <td>Free</td>\n",
              "      <td>0</td>\n",
              "      <td>Everyone</td>\n",
              "      <td>Art &amp; Design;Action &amp; Adventure</td>\n",
              "      <td>March 7, 2018</td>\n",
              "      <td>1.0.0</td>\n",
              "      <td>4.1 and up</td>\n",
              "    </tr>\n",
              "    <tr>\n",
              "      <th>113</th>\n",
              "      <td>Wrinkles and rejuvenation</td>\n",
              "      <td>BEAUTY</td>\n",
              "      <td>NaN</td>\n",
              "      <td>182</td>\n",
              "      <td>5.7M</td>\n",
              "      <td>100,000+</td>\n",
              "      <td>Free</td>\n",
              "      <td>0</td>\n",
              "      <td>Everyone 10+</td>\n",
              "      <td>Beauty</td>\n",
              "      <td>September 20, 2017</td>\n",
              "      <td>8.0</td>\n",
              "      <td>3.0 and up</td>\n",
              "    </tr>\n",
              "    <tr>\n",
              "      <th>123</th>\n",
              "      <td>Manicure - nail design</td>\n",
              "      <td>BEAUTY</td>\n",
              "      <td>NaN</td>\n",
              "      <td>119</td>\n",
              "      <td>3.7M</td>\n",
              "      <td>50,000+</td>\n",
              "      <td>Free</td>\n",
              "      <td>0</td>\n",
              "      <td>Everyone</td>\n",
              "      <td>Beauty</td>\n",
              "      <td>July 23, 2018</td>\n",
              "      <td>1.3</td>\n",
              "      <td>4.1 and up</td>\n",
              "    </tr>\n",
              "    <tr>\n",
              "      <th>126</th>\n",
              "      <td>Skin Care and Natural Beauty</td>\n",
              "      <td>BEAUTY</td>\n",
              "      <td>NaN</td>\n",
              "      <td>654</td>\n",
              "      <td>7.4M</td>\n",
              "      <td>100,000+</td>\n",
              "      <td>Free</td>\n",
              "      <td>0</td>\n",
              "      <td>Teen</td>\n",
              "      <td>Beauty</td>\n",
              "      <td>July 17, 2018</td>\n",
              "      <td>1.15</td>\n",
              "      <td>4.1 and up</td>\n",
              "    </tr>\n",
              "    <tr>\n",
              "      <th>129</th>\n",
              "      <td>Secrets of beauty, youth and health</td>\n",
              "      <td>BEAUTY</td>\n",
              "      <td>NaN</td>\n",
              "      <td>77</td>\n",
              "      <td>2.9M</td>\n",
              "      <td>10,000+</td>\n",
              "      <td>Free</td>\n",
              "      <td>0</td>\n",
              "      <td>Mature 17+</td>\n",
              "      <td>Beauty</td>\n",
              "      <td>August 8, 2017</td>\n",
              "      <td>2.0</td>\n",
              "      <td>2.3 and up</td>\n",
              "    </tr>\n",
              "    <tr>\n",
              "      <th>...</th>\n",
              "      <td>...</td>\n",
              "      <td>...</td>\n",
              "      <td>...</td>\n",
              "      <td>...</td>\n",
              "      <td>...</td>\n",
              "      <td>...</td>\n",
              "      <td>...</td>\n",
              "      <td>...</td>\n",
              "      <td>...</td>\n",
              "      <td>...</td>\n",
              "      <td>...</td>\n",
              "      <td>...</td>\n",
              "      <td>...</td>\n",
              "    </tr>\n",
              "    <tr>\n",
              "      <th>10824</th>\n",
              "      <td>Cardio-FR</td>\n",
              "      <td>MEDICAL</td>\n",
              "      <td>NaN</td>\n",
              "      <td>67</td>\n",
              "      <td>82M</td>\n",
              "      <td>10,000+</td>\n",
              "      <td>Free</td>\n",
              "      <td>0</td>\n",
              "      <td>Everyone</td>\n",
              "      <td>Medical</td>\n",
              "      <td>July 31, 2018</td>\n",
              "      <td>2.2.2</td>\n",
              "      <td>4.4 and up</td>\n",
              "    </tr>\n",
              "    <tr>\n",
              "      <th>10825</th>\n",
              "      <td>Naruto &amp; Boruto FR</td>\n",
              "      <td>SOCIAL</td>\n",
              "      <td>NaN</td>\n",
              "      <td>7</td>\n",
              "      <td>7.7M</td>\n",
              "      <td>100+</td>\n",
              "      <td>Free</td>\n",
              "      <td>0</td>\n",
              "      <td>Teen</td>\n",
              "      <td>Social</td>\n",
              "      <td>February 2, 2018</td>\n",
              "      <td>1.0</td>\n",
              "      <td>4.0 and up</td>\n",
              "    </tr>\n",
              "    <tr>\n",
              "      <th>10831</th>\n",
              "      <td>payermonstationnement.fr</td>\n",
              "      <td>MAPS_AND_NAVIGATION</td>\n",
              "      <td>NaN</td>\n",
              "      <td>38</td>\n",
              "      <td>9.8M</td>\n",
              "      <td>5,000+</td>\n",
              "      <td>Free</td>\n",
              "      <td>0</td>\n",
              "      <td>Everyone</td>\n",
              "      <td>Maps &amp; Navigation</td>\n",
              "      <td>June 13, 2018</td>\n",
              "      <td>2.0.148.0</td>\n",
              "      <td>4.0 and up</td>\n",
              "    </tr>\n",
              "    <tr>\n",
              "      <th>10835</th>\n",
              "      <td>FR Forms</td>\n",
              "      <td>BUSINESS</td>\n",
              "      <td>NaN</td>\n",
              "      <td>0</td>\n",
              "      <td>9.6M</td>\n",
              "      <td>10+</td>\n",
              "      <td>Free</td>\n",
              "      <td>0</td>\n",
              "      <td>Everyone</td>\n",
              "      <td>Business</td>\n",
              "      <td>September 29, 2016</td>\n",
              "      <td>1.1.5</td>\n",
              "      <td>4.0 and up</td>\n",
              "    </tr>\n",
              "    <tr>\n",
              "      <th>10838</th>\n",
              "      <td>Parkinson Exercices FR</td>\n",
              "      <td>MEDICAL</td>\n",
              "      <td>NaN</td>\n",
              "      <td>3</td>\n",
              "      <td>9.5M</td>\n",
              "      <td>1,000+</td>\n",
              "      <td>Free</td>\n",
              "      <td>0</td>\n",
              "      <td>Everyone</td>\n",
              "      <td>Medical</td>\n",
              "      <td>January 20, 2017</td>\n",
              "      <td>1.0</td>\n",
              "      <td>2.2 and up</td>\n",
              "    </tr>\n",
              "  </tbody>\n",
              "</table>\n",
              "<p>1474 rows × 13 columns</p>\n",
              "</div>"
            ],
            "text/plain": [
              "                                       App             Category  Rating  \\\n",
              "23                  Mcqueen Coloring pages       ART_AND_DESIGN     NaN   \n",
              "113              Wrinkles and rejuvenation               BEAUTY     NaN   \n",
              "123                 Manicure - nail design               BEAUTY     NaN   \n",
              "126           Skin Care and Natural Beauty               BEAUTY     NaN   \n",
              "129    Secrets of beauty, youth and health               BEAUTY     NaN   \n",
              "...                                    ...                  ...     ...   \n",
              "10824                            Cardio-FR              MEDICAL     NaN   \n",
              "10825                   Naruto & Boruto FR               SOCIAL     NaN   \n",
              "10831             payermonstationnement.fr  MAPS_AND_NAVIGATION     NaN   \n",
              "10835                             FR Forms             BUSINESS     NaN   \n",
              "10838               Parkinson Exercices FR              MEDICAL     NaN   \n",
              "\n",
              "      Reviews  Size  Installs  Type Price Content Rating  \\\n",
              "23         61  7.0M  100,000+  Free     0       Everyone   \n",
              "113       182  5.7M  100,000+  Free     0   Everyone 10+   \n",
              "123       119  3.7M   50,000+  Free     0       Everyone   \n",
              "126       654  7.4M  100,000+  Free     0           Teen   \n",
              "129        77  2.9M   10,000+  Free     0     Mature 17+   \n",
              "...       ...   ...       ...   ...   ...            ...   \n",
              "10824      67   82M   10,000+  Free     0       Everyone   \n",
              "10825       7  7.7M      100+  Free     0           Teen   \n",
              "10831      38  9.8M    5,000+  Free     0       Everyone   \n",
              "10835       0  9.6M       10+  Free     0       Everyone   \n",
              "10838       3  9.5M    1,000+  Free     0       Everyone   \n",
              "\n",
              "                                Genres        Last Updated Current Ver  \\\n",
              "23     Art & Design;Action & Adventure       March 7, 2018       1.0.0   \n",
              "113                             Beauty  September 20, 2017         8.0   \n",
              "123                             Beauty       July 23, 2018         1.3   \n",
              "126                             Beauty       July 17, 2018        1.15   \n",
              "129                             Beauty      August 8, 2017         2.0   \n",
              "...                                ...                 ...         ...   \n",
              "10824                          Medical       July 31, 2018       2.2.2   \n",
              "10825                           Social    February 2, 2018         1.0   \n",
              "10831                Maps & Navigation       June 13, 2018   2.0.148.0   \n",
              "10835                         Business  September 29, 2016       1.1.5   \n",
              "10838                          Medical    January 20, 2017         1.0   \n",
              "\n",
              "      Android Ver  \n",
              "23     4.1 and up  \n",
              "113    3.0 and up  \n",
              "123    4.1 and up  \n",
              "126    4.1 and up  \n",
              "129    2.3 and up  \n",
              "...           ...  \n",
              "10824  4.4 and up  \n",
              "10825  4.0 and up  \n",
              "10831  4.0 and up  \n",
              "10835  4.0 and up  \n",
              "10838  2.2 and up  \n",
              "\n",
              "[1474 rows x 13 columns]"
            ]
          },
          "metadata": {
            "tags": []
          },
          "execution_count": 185
        }
      ]
    },
    {
      "cell_type": "code",
      "metadata": {
        "id": "H-MLbFy384mc",
        "colab_type": "code",
        "colab": {},
        "outputId": "fbdf67be-6383-4cf2-9986-5f1918975b31"
      },
      "source": [
        "# Проверяем что выводятся нужные строки Sentiment_Polarity\n",
        "data1[data1.index.isin(flt_index1)]"
      ],
      "execution_count": 0,
      "outputs": [
        {
          "output_type": "execute_result",
          "data": {
            "text/html": [
              "<div>\n",
              "<style scoped>\n",
              "    .dataframe tbody tr th:only-of-type {\n",
              "        vertical-align: middle;\n",
              "    }\n",
              "\n",
              "    .dataframe tbody tr th {\n",
              "        vertical-align: top;\n",
              "    }\n",
              "\n",
              "    .dataframe thead th {\n",
              "        text-align: right;\n",
              "    }\n",
              "</style>\n",
              "<table border=\"1\" class=\"dataframe\">\n",
              "  <thead>\n",
              "    <tr style=\"text-align: right;\">\n",
              "      <th></th>\n",
              "      <th>App</th>\n",
              "      <th>Translated_Review</th>\n",
              "      <th>Sentiment</th>\n",
              "      <th>Sentiment_Polarity</th>\n",
              "      <th>Sentiment_Subjectivity</th>\n",
              "    </tr>\n",
              "  </thead>\n",
              "  <tbody>\n",
              "    <tr>\n",
              "      <th>2</th>\n",
              "      <td>10 Best Foods for You</td>\n",
              "      <td>NaN</td>\n",
              "      <td>NaN</td>\n",
              "      <td>NaN</td>\n",
              "      <td>NaN</td>\n",
              "    </tr>\n",
              "    <tr>\n",
              "      <th>7</th>\n",
              "      <td>10 Best Foods for You</td>\n",
              "      <td>NaN</td>\n",
              "      <td>NaN</td>\n",
              "      <td>NaN</td>\n",
              "      <td>NaN</td>\n",
              "    </tr>\n",
              "    <tr>\n",
              "      <th>15</th>\n",
              "      <td>10 Best Foods for You</td>\n",
              "      <td>NaN</td>\n",
              "      <td>NaN</td>\n",
              "      <td>NaN</td>\n",
              "      <td>NaN</td>\n",
              "    </tr>\n",
              "    <tr>\n",
              "      <th>102</th>\n",
              "      <td>10 Best Foods for You</td>\n",
              "      <td>NaN</td>\n",
              "      <td>NaN</td>\n",
              "      <td>NaN</td>\n",
              "      <td>NaN</td>\n",
              "    </tr>\n",
              "    <tr>\n",
              "      <th>107</th>\n",
              "      <td>10 Best Foods for You</td>\n",
              "      <td>NaN</td>\n",
              "      <td>NaN</td>\n",
              "      <td>NaN</td>\n",
              "      <td>NaN</td>\n",
              "    </tr>\n",
              "    <tr>\n",
              "      <th>...</th>\n",
              "      <td>...</td>\n",
              "      <td>...</td>\n",
              "      <td>...</td>\n",
              "      <td>...</td>\n",
              "      <td>...</td>\n",
              "    </tr>\n",
              "    <tr>\n",
              "      <th>64290</th>\n",
              "      <td>Houzz Interior Design Ideas</td>\n",
              "      <td>NaN</td>\n",
              "      <td>NaN</td>\n",
              "      <td>NaN</td>\n",
              "      <td>NaN</td>\n",
              "    </tr>\n",
              "    <tr>\n",
              "      <th>64291</th>\n",
              "      <td>Houzz Interior Design Ideas</td>\n",
              "      <td>NaN</td>\n",
              "      <td>NaN</td>\n",
              "      <td>NaN</td>\n",
              "      <td>NaN</td>\n",
              "    </tr>\n",
              "    <tr>\n",
              "      <th>64292</th>\n",
              "      <td>Houzz Interior Design Ideas</td>\n",
              "      <td>NaN</td>\n",
              "      <td>NaN</td>\n",
              "      <td>NaN</td>\n",
              "      <td>NaN</td>\n",
              "    </tr>\n",
              "    <tr>\n",
              "      <th>64293</th>\n",
              "      <td>Houzz Interior Design Ideas</td>\n",
              "      <td>NaN</td>\n",
              "      <td>NaN</td>\n",
              "      <td>NaN</td>\n",
              "      <td>NaN</td>\n",
              "    </tr>\n",
              "    <tr>\n",
              "      <th>64294</th>\n",
              "      <td>Houzz Interior Design Ideas</td>\n",
              "      <td>NaN</td>\n",
              "      <td>NaN</td>\n",
              "      <td>NaN</td>\n",
              "      <td>NaN</td>\n",
              "    </tr>\n",
              "  </tbody>\n",
              "</table>\n",
              "<p>26863 rows × 5 columns</p>\n",
              "</div>"
            ],
            "text/plain": [
              "                               App Translated_Review Sentiment  \\\n",
              "2            10 Best Foods for You               NaN       NaN   \n",
              "7            10 Best Foods for You               NaN       NaN   \n",
              "15           10 Best Foods for You               NaN       NaN   \n",
              "102          10 Best Foods for You               NaN       NaN   \n",
              "107          10 Best Foods for You               NaN       NaN   \n",
              "...                            ...               ...       ...   \n",
              "64290  Houzz Interior Design Ideas               NaN       NaN   \n",
              "64291  Houzz Interior Design Ideas               NaN       NaN   \n",
              "64292  Houzz Interior Design Ideas               NaN       NaN   \n",
              "64293  Houzz Interior Design Ideas               NaN       NaN   \n",
              "64294  Houzz Interior Design Ideas               NaN       NaN   \n",
              "\n",
              "       Sentiment_Polarity  Sentiment_Subjectivity  \n",
              "2                     NaN                     NaN  \n",
              "7                     NaN                     NaN  \n",
              "15                    NaN                     NaN  \n",
              "102                   NaN                     NaN  \n",
              "107                   NaN                     NaN  \n",
              "...                   ...                     ...  \n",
              "64290                 NaN                     NaN  \n",
              "64291                 NaN                     NaN  \n",
              "64292                 NaN                     NaN  \n",
              "64293                 NaN                     NaN  \n",
              "64294                 NaN                     NaN  \n",
              "\n",
              "[26863 rows x 5 columns]"
            ]
          },
          "metadata": {
            "tags": []
          },
          "execution_count": 186
        }
      ]
    },
    {
      "cell_type": "code",
      "metadata": {
        "id": "_qhTkebG84me",
        "colab_type": "code",
        "colab": {},
        "outputId": "0d766cdf-9d72-4193-8ab2-2c4fe36bd0d3"
      },
      "source": [
        "# Проверяем что выводятся нужные строки Sentiment_Subjectivity\n",
        "data1[data1.index.isin(flt_index11)]"
      ],
      "execution_count": 0,
      "outputs": [
        {
          "output_type": "execute_result",
          "data": {
            "text/html": [
              "<div>\n",
              "<style scoped>\n",
              "    .dataframe tbody tr th:only-of-type {\n",
              "        vertical-align: middle;\n",
              "    }\n",
              "\n",
              "    .dataframe tbody tr th {\n",
              "        vertical-align: top;\n",
              "    }\n",
              "\n",
              "    .dataframe thead th {\n",
              "        text-align: right;\n",
              "    }\n",
              "</style>\n",
              "<table border=\"1\" class=\"dataframe\">\n",
              "  <thead>\n",
              "    <tr style=\"text-align: right;\">\n",
              "      <th></th>\n",
              "      <th>App</th>\n",
              "      <th>Translated_Review</th>\n",
              "      <th>Sentiment</th>\n",
              "      <th>Sentiment_Polarity</th>\n",
              "      <th>Sentiment_Subjectivity</th>\n",
              "    </tr>\n",
              "  </thead>\n",
              "  <tbody>\n",
              "    <tr>\n",
              "      <th>2</th>\n",
              "      <td>10 Best Foods for You</td>\n",
              "      <td>NaN</td>\n",
              "      <td>NaN</td>\n",
              "      <td>NaN</td>\n",
              "      <td>NaN</td>\n",
              "    </tr>\n",
              "    <tr>\n",
              "      <th>7</th>\n",
              "      <td>10 Best Foods for You</td>\n",
              "      <td>NaN</td>\n",
              "      <td>NaN</td>\n",
              "      <td>NaN</td>\n",
              "      <td>NaN</td>\n",
              "    </tr>\n",
              "    <tr>\n",
              "      <th>15</th>\n",
              "      <td>10 Best Foods for You</td>\n",
              "      <td>NaN</td>\n",
              "      <td>NaN</td>\n",
              "      <td>NaN</td>\n",
              "      <td>NaN</td>\n",
              "    </tr>\n",
              "    <tr>\n",
              "      <th>102</th>\n",
              "      <td>10 Best Foods for You</td>\n",
              "      <td>NaN</td>\n",
              "      <td>NaN</td>\n",
              "      <td>NaN</td>\n",
              "      <td>NaN</td>\n",
              "    </tr>\n",
              "    <tr>\n",
              "      <th>107</th>\n",
              "      <td>10 Best Foods for You</td>\n",
              "      <td>NaN</td>\n",
              "      <td>NaN</td>\n",
              "      <td>NaN</td>\n",
              "      <td>NaN</td>\n",
              "    </tr>\n",
              "    <tr>\n",
              "      <th>...</th>\n",
              "      <td>...</td>\n",
              "      <td>...</td>\n",
              "      <td>...</td>\n",
              "      <td>...</td>\n",
              "      <td>...</td>\n",
              "    </tr>\n",
              "    <tr>\n",
              "      <th>64290</th>\n",
              "      <td>Houzz Interior Design Ideas</td>\n",
              "      <td>NaN</td>\n",
              "      <td>NaN</td>\n",
              "      <td>NaN</td>\n",
              "      <td>NaN</td>\n",
              "    </tr>\n",
              "    <tr>\n",
              "      <th>64291</th>\n",
              "      <td>Houzz Interior Design Ideas</td>\n",
              "      <td>NaN</td>\n",
              "      <td>NaN</td>\n",
              "      <td>NaN</td>\n",
              "      <td>NaN</td>\n",
              "    </tr>\n",
              "    <tr>\n",
              "      <th>64292</th>\n",
              "      <td>Houzz Interior Design Ideas</td>\n",
              "      <td>NaN</td>\n",
              "      <td>NaN</td>\n",
              "      <td>NaN</td>\n",
              "      <td>NaN</td>\n",
              "    </tr>\n",
              "    <tr>\n",
              "      <th>64293</th>\n",
              "      <td>Houzz Interior Design Ideas</td>\n",
              "      <td>NaN</td>\n",
              "      <td>NaN</td>\n",
              "      <td>NaN</td>\n",
              "      <td>NaN</td>\n",
              "    </tr>\n",
              "    <tr>\n",
              "      <th>64294</th>\n",
              "      <td>Houzz Interior Design Ideas</td>\n",
              "      <td>NaN</td>\n",
              "      <td>NaN</td>\n",
              "      <td>NaN</td>\n",
              "      <td>NaN</td>\n",
              "    </tr>\n",
              "  </tbody>\n",
              "</table>\n",
              "<p>26863 rows × 5 columns</p>\n",
              "</div>"
            ],
            "text/plain": [
              "                               App Translated_Review Sentiment  \\\n",
              "2            10 Best Foods for You               NaN       NaN   \n",
              "7            10 Best Foods for You               NaN       NaN   \n",
              "15           10 Best Foods for You               NaN       NaN   \n",
              "102          10 Best Foods for You               NaN       NaN   \n",
              "107          10 Best Foods for You               NaN       NaN   \n",
              "...                            ...               ...       ...   \n",
              "64290  Houzz Interior Design Ideas               NaN       NaN   \n",
              "64291  Houzz Interior Design Ideas               NaN       NaN   \n",
              "64292  Houzz Interior Design Ideas               NaN       NaN   \n",
              "64293  Houzz Interior Design Ideas               NaN       NaN   \n",
              "64294  Houzz Interior Design Ideas               NaN       NaN   \n",
              "\n",
              "       Sentiment_Polarity  Sentiment_Subjectivity  \n",
              "2                     NaN                     NaN  \n",
              "7                     NaN                     NaN  \n",
              "15                    NaN                     NaN  \n",
              "102                   NaN                     NaN  \n",
              "107                   NaN                     NaN  \n",
              "...                   ...                     ...  \n",
              "64290                 NaN                     NaN  \n",
              "64291                 NaN                     NaN  \n",
              "64292                 NaN                     NaN  \n",
              "64293                 NaN                     NaN  \n",
              "64294                 NaN                     NaN  \n",
              "\n",
              "[26863 rows x 5 columns]"
            ]
          },
          "metadata": {
            "tags": []
          },
          "execution_count": 187
        }
      ]
    },
    {
      "cell_type": "code",
      "metadata": {
        "id": "ygI9KdXc84nN",
        "colab_type": "code",
        "colab": {},
        "outputId": "99b9554c-d349-4d65-e790-9a4aa9a4b23c"
      },
      "source": [
        "# фильтр по колонке Rating\n",
        "data_num[data_num.index.isin(flt_index)]['Rating']"
      ],
      "execution_count": 0,
      "outputs": [
        {
          "output_type": "execute_result",
          "data": {
            "text/plain": [
              "23      NaN\n",
              "113     NaN\n",
              "123     NaN\n",
              "126     NaN\n",
              "129     NaN\n",
              "         ..\n",
              "10824   NaN\n",
              "10825   NaN\n",
              "10831   NaN\n",
              "10835   NaN\n",
              "10838   NaN\n",
              "Name: Rating, Length: 1474, dtype: float64"
            ]
          },
          "metadata": {
            "tags": []
          },
          "execution_count": 188
        }
      ]
    },
    {
      "cell_type": "code",
      "metadata": {
        "id": "1oZKyub084nS",
        "colab_type": "code",
        "colab": {},
        "outputId": "042a216f-d12d-49ea-d7e0-ddef76af49c9"
      },
      "source": [
        "# фильтр по колонке Sentiment_Polarity\n",
        "data_num1[data_num1.index.isin(flt_index1)]['Sentiment_Polarity']"
      ],
      "execution_count": 0,
      "outputs": [
        {
          "output_type": "execute_result",
          "data": {
            "text/plain": [
              "2       NaN\n",
              "7       NaN\n",
              "15      NaN\n",
              "102     NaN\n",
              "107     NaN\n",
              "         ..\n",
              "64290   NaN\n",
              "64291   NaN\n",
              "64292   NaN\n",
              "64293   NaN\n",
              "64294   NaN\n",
              "Name: Sentiment_Polarity, Length: 26863, dtype: float64"
            ]
          },
          "metadata": {
            "tags": []
          },
          "execution_count": 189
        }
      ]
    },
    {
      "cell_type": "code",
      "metadata": {
        "id": "WHLOY3gi84nT",
        "colab_type": "code",
        "colab": {},
        "outputId": "b72d64ff-efa2-4d8b-b0e8-76de09730cc1"
      },
      "source": [
        "# фильтр по колонке Sentiment_Subjectivity\n",
        "data_num1[data_num1.index.isin(flt_index1)]['Sentiment_Subjectivity']"
      ],
      "execution_count": 0,
      "outputs": [
        {
          "output_type": "execute_result",
          "data": {
            "text/plain": [
              "2       NaN\n",
              "7       NaN\n",
              "15      NaN\n",
              "102     NaN\n",
              "107     NaN\n",
              "         ..\n",
              "64290   NaN\n",
              "64291   NaN\n",
              "64292   NaN\n",
              "64293   NaN\n",
              "64294   NaN\n",
              "Name: Sentiment_Subjectivity, Length: 26863, dtype: float64"
            ]
          },
          "metadata": {
            "tags": []
          },
          "execution_count": 190
        }
      ]
    },
    {
      "cell_type": "code",
      "metadata": {
        "id": "QNPwQj8U84nU",
        "colab_type": "code",
        "colab": {},
        "outputId": "7723ebdc-738a-4e48-c3ec-26d61dd6bdcf"
      },
      "source": [
        "data_num_Rating = data_num[['Rating']]\n",
        "data_num_Rating.head()"
      ],
      "execution_count": 0,
      "outputs": [
        {
          "output_type": "execute_result",
          "data": {
            "text/html": [
              "<div>\n",
              "<style scoped>\n",
              "    .dataframe tbody tr th:only-of-type {\n",
              "        vertical-align: middle;\n",
              "    }\n",
              "\n",
              "    .dataframe tbody tr th {\n",
              "        vertical-align: top;\n",
              "    }\n",
              "\n",
              "    .dataframe thead th {\n",
              "        text-align: right;\n",
              "    }\n",
              "</style>\n",
              "<table border=\"1\" class=\"dataframe\">\n",
              "  <thead>\n",
              "    <tr style=\"text-align: right;\">\n",
              "      <th></th>\n",
              "      <th>Rating</th>\n",
              "    </tr>\n",
              "  </thead>\n",
              "  <tbody>\n",
              "    <tr>\n",
              "      <th>0</th>\n",
              "      <td>4.1</td>\n",
              "    </tr>\n",
              "    <tr>\n",
              "      <th>1</th>\n",
              "      <td>3.9</td>\n",
              "    </tr>\n",
              "    <tr>\n",
              "      <th>2</th>\n",
              "      <td>4.7</td>\n",
              "    </tr>\n",
              "    <tr>\n",
              "      <th>3</th>\n",
              "      <td>4.5</td>\n",
              "    </tr>\n",
              "    <tr>\n",
              "      <th>4</th>\n",
              "      <td>4.3</td>\n",
              "    </tr>\n",
              "  </tbody>\n",
              "</table>\n",
              "</div>"
            ],
            "text/plain": [
              "   Rating\n",
              "0     4.1\n",
              "1     3.9\n",
              "2     4.7\n",
              "3     4.5\n",
              "4     4.3"
            ]
          },
          "metadata": {
            "tags": []
          },
          "execution_count": 191
        }
      ]
    },
    {
      "cell_type": "code",
      "metadata": {
        "id": "VP8iNVZm84na",
        "colab_type": "code",
        "colab": {},
        "outputId": "47f51eb4-b74c-4a27-d66d-2fac8da2579c"
      },
      "source": [
        "data_num_SPol = data_num1[['Sentiment_Polarity']]\n",
        "data_num_SPol.head()"
      ],
      "execution_count": 0,
      "outputs": [
        {
          "output_type": "execute_result",
          "data": {
            "text/html": [
              "<div>\n",
              "<style scoped>\n",
              "    .dataframe tbody tr th:only-of-type {\n",
              "        vertical-align: middle;\n",
              "    }\n",
              "\n",
              "    .dataframe tbody tr th {\n",
              "        vertical-align: top;\n",
              "    }\n",
              "\n",
              "    .dataframe thead th {\n",
              "        text-align: right;\n",
              "    }\n",
              "</style>\n",
              "<table border=\"1\" class=\"dataframe\">\n",
              "  <thead>\n",
              "    <tr style=\"text-align: right;\">\n",
              "      <th></th>\n",
              "      <th>Sentiment_Polarity</th>\n",
              "    </tr>\n",
              "  </thead>\n",
              "  <tbody>\n",
              "    <tr>\n",
              "      <th>0</th>\n",
              "      <td>1.00</td>\n",
              "    </tr>\n",
              "    <tr>\n",
              "      <th>1</th>\n",
              "      <td>0.25</td>\n",
              "    </tr>\n",
              "    <tr>\n",
              "      <th>2</th>\n",
              "      <td>NaN</td>\n",
              "    </tr>\n",
              "    <tr>\n",
              "      <th>3</th>\n",
              "      <td>0.40</td>\n",
              "    </tr>\n",
              "    <tr>\n",
              "      <th>4</th>\n",
              "      <td>1.00</td>\n",
              "    </tr>\n",
              "  </tbody>\n",
              "</table>\n",
              "</div>"
            ],
            "text/plain": [
              "   Sentiment_Polarity\n",
              "0                1.00\n",
              "1                0.25\n",
              "2                 NaN\n",
              "3                0.40\n",
              "4                1.00"
            ]
          },
          "metadata": {
            "tags": []
          },
          "execution_count": 192
        }
      ]
    },
    {
      "cell_type": "code",
      "metadata": {
        "id": "gP3fZq5j84nb",
        "colab_type": "code",
        "colab": {},
        "outputId": "b22353ad-dc40-4267-d3ab-ac81b43c91f7"
      },
      "source": [
        "data_num_SSub = data_num1[['Sentiment_Subjectivity']]\n",
        "data_num_SSub.head()"
      ],
      "execution_count": 0,
      "outputs": [
        {
          "output_type": "execute_result",
          "data": {
            "text/html": [
              "<div>\n",
              "<style scoped>\n",
              "    .dataframe tbody tr th:only-of-type {\n",
              "        vertical-align: middle;\n",
              "    }\n",
              "\n",
              "    .dataframe tbody tr th {\n",
              "        vertical-align: top;\n",
              "    }\n",
              "\n",
              "    .dataframe thead th {\n",
              "        text-align: right;\n",
              "    }\n",
              "</style>\n",
              "<table border=\"1\" class=\"dataframe\">\n",
              "  <thead>\n",
              "    <tr style=\"text-align: right;\">\n",
              "      <th></th>\n",
              "      <th>Sentiment_Subjectivity</th>\n",
              "    </tr>\n",
              "  </thead>\n",
              "  <tbody>\n",
              "    <tr>\n",
              "      <th>0</th>\n",
              "      <td>0.533333</td>\n",
              "    </tr>\n",
              "    <tr>\n",
              "      <th>1</th>\n",
              "      <td>0.288462</td>\n",
              "    </tr>\n",
              "    <tr>\n",
              "      <th>2</th>\n",
              "      <td>NaN</td>\n",
              "    </tr>\n",
              "    <tr>\n",
              "      <th>3</th>\n",
              "      <td>0.875000</td>\n",
              "    </tr>\n",
              "    <tr>\n",
              "      <th>4</th>\n",
              "      <td>0.300000</td>\n",
              "    </tr>\n",
              "  </tbody>\n",
              "</table>\n",
              "</div>"
            ],
            "text/plain": [
              "   Sentiment_Subjectivity\n",
              "0                0.533333\n",
              "1                0.288462\n",
              "2                     NaN\n",
              "3                0.875000\n",
              "4                0.300000"
            ]
          },
          "metadata": {
            "tags": []
          },
          "execution_count": 193
        }
      ]
    },
    {
      "cell_type": "code",
      "metadata": {
        "id": "whHOtFh884nd",
        "colab_type": "code",
        "colab": {}
      },
      "source": [
        "from sklearn.impute import SimpleImputer\n",
        "from sklearn.impute import MissingIndicator"
      ],
      "execution_count": 0,
      "outputs": []
    },
    {
      "cell_type": "code",
      "metadata": {
        "id": "EinO4t4084ne",
        "colab_type": "code",
        "colab": {},
        "outputId": "f37d509d-9043-4a80-fd2a-275c3d4dc828"
      },
      "source": [
        "# Фильтр для проверки заполнения пустых значений\n",
        "indicator = MissingIndicator()\n",
        "mask_missing_values_only = indicator.fit_transform(data_num_Rating)\n",
        "mask_missing_values_only"
      ],
      "execution_count": 0,
      "outputs": [
        {
          "output_type": "execute_result",
          "data": {
            "text/plain": [
              "array([[False],\n",
              "       [False],\n",
              "       [False],\n",
              "       ...,\n",
              "       [ True],\n",
              "       [False],\n",
              "       [False]])"
            ]
          },
          "metadata": {
            "tags": []
          },
          "execution_count": 195
        }
      ]
    },
    {
      "cell_type": "code",
      "metadata": {
        "id": "77HuBziO84nf",
        "colab_type": "code",
        "colab": {},
        "outputId": "772c00a9-c8da-4349-94cd-f66886424b99"
      },
      "source": [
        "# Фильтр для проверки заполнения пустых значений\n",
        "indicator = MissingIndicator()\n",
        "mask_missing_values_only1 = indicator.fit_transform(data_num_SPol)\n",
        "mask_missing_values_only1"
      ],
      "execution_count": 0,
      "outputs": [
        {
          "output_type": "execute_result",
          "data": {
            "text/plain": [
              "array([[False],\n",
              "       [False],\n",
              "       [ True],\n",
              "       ...,\n",
              "       [ True],\n",
              "       [ True],\n",
              "       [ True]])"
            ]
          },
          "metadata": {
            "tags": []
          },
          "execution_count": 196
        }
      ]
    },
    {
      "cell_type": "code",
      "metadata": {
        "id": "vTG6yIwQ84nh",
        "colab_type": "code",
        "colab": {},
        "outputId": "a9a2dd18-b91d-4ee6-e654-a80029ea81b7"
      },
      "source": [
        "# Фильтр для проверки заполнения пустых значений\n",
        "indicator = MissingIndicator()\n",
        "mask_missing_values_only11 = indicator.fit_transform(data_num_SSub)\n",
        "mask_missing_values_only11"
      ],
      "execution_count": 0,
      "outputs": [
        {
          "output_type": "execute_result",
          "data": {
            "text/plain": [
              "array([[False],\n",
              "       [False],\n",
              "       [ True],\n",
              "       ...,\n",
              "       [ True],\n",
              "       [ True],\n",
              "       [ True]])"
            ]
          },
          "metadata": {
            "tags": []
          },
          "execution_count": 197
        }
      ]
    },
    {
      "cell_type": "code",
      "metadata": {
        "id": "25zZZkHU84ni",
        "colab_type": "code",
        "colab": {}
      },
      "source": [
        "strategies=['mean', 'median','most_frequent']"
      ],
      "execution_count": 0,
      "outputs": []
    },
    {
      "cell_type": "code",
      "metadata": {
        "id": "baEkLUdx84ni",
        "colab_type": "code",
        "colab": {}
      },
      "source": [
        "# Rating\n",
        "def test_num_impute(strategy_param):\n",
        "    imp_num = SimpleImputer(strategy=strategy_param)\n",
        "    data_num_imp = imp_num.fit_transform(data_num_Rating)\n",
        "    return data_num_imp[mask_missing_values_only]"
      ],
      "execution_count": 0,
      "outputs": []
    },
    {
      "cell_type": "code",
      "metadata": {
        "id": "b1NsmKV484nk",
        "colab_type": "code",
        "colab": {}
      },
      "source": [
        "# Sentiment_Polarity\n",
        "def test_num_impute1(strategy_param):\n",
        "    imp_num = SimpleImputer(strategy=strategy_param)\n",
        "    data_num_imp = imp_num.fit_transform(data_num_SPol)\n",
        "    return data_num_imp[mask_missing_values_only1]"
      ],
      "execution_count": 0,
      "outputs": []
    },
    {
      "cell_type": "code",
      "metadata": {
        "id": "V3FjfXaD84nl",
        "colab_type": "code",
        "colab": {}
      },
      "source": [
        "# Sentiment_Subjectivity\n",
        "def test_num_impute11(strategy_param):\n",
        "    imp_num = SimpleImputer(strategy=strategy_param)\n",
        "    data_num_imp = imp_num.fit_transform(data_num_SSub)\n",
        "    return data_num_imp[mask_missing_values_only11]"
      ],
      "execution_count": 0,
      "outputs": []
    },
    {
      "cell_type": "code",
      "metadata": {
        "id": "z8wPDHs984nm",
        "colab_type": "code",
        "colab": {},
        "outputId": "cef34b1e-72e3-407f-c487-6a12842bf738"
      },
      "source": [
        "strategies[0], test_num_impute(strategies[0])\n"
      ],
      "execution_count": 0,
      "outputs": [
        {
          "output_type": "execute_result",
          "data": {
            "text/plain": [
              "('mean',\n",
              " array([4.19333832, 4.19333832, 4.19333832, ..., 4.19333832, 4.19333832,\n",
              "        4.19333832]))"
            ]
          },
          "metadata": {
            "tags": []
          },
          "execution_count": 202
        }
      ]
    },
    {
      "cell_type": "code",
      "metadata": {
        "id": "aQ6KHHgK84nm",
        "colab_type": "code",
        "colab": {},
        "outputId": "11f16bcd-adbf-4b20-e590-582719f80e82"
      },
      "source": [
        "strategies[0], test_num_impute1(strategies[0])"
      ],
      "execution_count": 0,
      "outputs": [
        {
          "output_type": "execute_result",
          "data": {
            "text/plain": [
              "('mean',\n",
              " array([0.18214631, 0.18214631, 0.18214631, ..., 0.18214631, 0.18214631,\n",
              "        0.18214631]))"
            ]
          },
          "metadata": {
            "tags": []
          },
          "execution_count": 203
        }
      ]
    },
    {
      "cell_type": "code",
      "metadata": {
        "id": "3TBA8iXk84np",
        "colab_type": "code",
        "colab": {},
        "outputId": "905d2616-70b0-4093-b714-b7c31281e4df"
      },
      "source": [
        "# Sentiment_Subjectivity\n",
        "strategies[0], test_num_impute11(strategies[0])"
      ],
      "execution_count": 0,
      "outputs": [
        {
          "output_type": "execute_result",
          "data": {
            "text/plain": [
              "('mean',\n",
              " array([0.49270393, 0.49270393, 0.49270393, ..., 0.49270393, 0.49270393,\n",
              "        0.49270393]))"
            ]
          },
          "metadata": {
            "tags": []
          },
          "execution_count": 204
        }
      ]
    },
    {
      "cell_type": "code",
      "metadata": {
        "id": "EUdSXkSy84nt",
        "colab_type": "code",
        "colab": {},
        "outputId": "00a1ab39-5576-47ae-f204-51c594f3b303"
      },
      "source": [
        "strategies[1], test_num_impute(strategies[1])"
      ],
      "execution_count": 0,
      "outputs": [
        {
          "output_type": "execute_result",
          "data": {
            "text/plain": [
              "('median', array([4.3, 4.3, 4.3, ..., 4.3, 4.3, 4.3]))"
            ]
          },
          "metadata": {
            "tags": []
          },
          "execution_count": 205
        }
      ]
    },
    {
      "cell_type": "code",
      "metadata": {
        "id": "j6VKQrtI84nx",
        "colab_type": "code",
        "colab": {},
        "outputId": "b2ab398c-b7f5-4588-fc8a-0995774bc671"
      },
      "source": [
        "strategies[1], test_num_impute1(strategies[1])"
      ],
      "execution_count": 0,
      "outputs": [
        {
          "output_type": "execute_result",
          "data": {
            "text/plain": [
              "('median', array([0.15, 0.15, 0.15, ..., 0.15, 0.15, 0.15]))"
            ]
          },
          "metadata": {
            "tags": []
          },
          "execution_count": 206
        }
      ]
    },
    {
      "cell_type": "code",
      "metadata": {
        "id": "zjig9DiM84ny",
        "colab_type": "code",
        "colab": {},
        "outputId": "00423fb0-6e46-4654-e9ab-9e806e8f5bcd"
      },
      "source": [
        "# Sentiment_Subjectivity\n",
        "strategies[1], test_num_impute11(strategies[1])"
      ],
      "execution_count": 0,
      "outputs": [
        {
          "output_type": "execute_result",
          "data": {
            "text/plain": [
              "('median',\n",
              " array([0.51428571, 0.51428571, 0.51428571, ..., 0.51428571, 0.51428571,\n",
              "        0.51428571]))"
            ]
          },
          "metadata": {
            "tags": []
          },
          "execution_count": 207
        }
      ]
    },
    {
      "cell_type": "code",
      "metadata": {
        "id": "HHSUCLpF84n1",
        "colab_type": "code",
        "colab": {},
        "outputId": "0d435829-91f1-4d42-a0e1-c80c7a192980"
      },
      "source": [
        "strategies[2], test_num_impute(strategies[2])"
      ],
      "execution_count": 0,
      "outputs": [
        {
          "output_type": "execute_result",
          "data": {
            "text/plain": [
              "('most_frequent', array([4.4, 4.4, 4.4, ..., 4.4, 4.4, 4.4]))"
            ]
          },
          "metadata": {
            "tags": []
          },
          "execution_count": 208
        }
      ]
    },
    {
      "cell_type": "code",
      "metadata": {
        "id": "1YPuDzdR84n2",
        "colab_type": "code",
        "colab": {},
        "outputId": "fbc147ff-274b-46fa-a420-a515f1b8a81e"
      },
      "source": [
        "strategies[2], test_num_impute1(strategies[2])"
      ],
      "execution_count": 0,
      "outputs": [
        {
          "output_type": "execute_result",
          "data": {
            "text/plain": [
              "('most_frequent', array([0., 0., 0., ..., 0., 0., 0.]))"
            ]
          },
          "metadata": {
            "tags": []
          },
          "execution_count": 209
        }
      ]
    },
    {
      "cell_type": "code",
      "metadata": {
        "id": "zpDDenn484n3",
        "colab_type": "code",
        "colab": {},
        "outputId": "72c52c36-16ef-41c8-c073-74d0e7a32f32"
      },
      "source": [
        "# Sentiment_Subjectivity\n",
        "strategies[2], test_num_impute11(strategies[2])"
      ],
      "execution_count": 0,
      "outputs": [
        {
          "output_type": "execute_result",
          "data": {
            "text/plain": [
              "('most_frequent', array([0., 0., 0., ..., 0., 0., 0.]))"
            ]
          },
          "metadata": {
            "tags": []
          },
          "execution_count": 210
        }
      ]
    },
    {
      "cell_type": "code",
      "metadata": {
        "id": "kD9h-23484n4",
        "colab_type": "code",
        "colab": {}
      },
      "source": [
        "# Более сложная функция, которая позволяет задавать колонку и вид импьютации\n",
        "def test_num_impute_col(dataset, column, strategy_param):\n",
        "    temp_data = dataset[[column]]\n",
        "    \n",
        "    indicator = MissingIndicator()\n",
        "    mask_missing_values_only = indicator.fit_transform(temp_data)\n",
        "    \n",
        "    imp_num = SimpleImputer(strategy=strategy_param)\n",
        "    data_num_imp = imp_num.fit_transform(temp_data)\n",
        "    \n",
        "    filled_data = data_num_imp[mask_missing_values_only]\n",
        "    \n",
        "    return column, strategy_param, filled_data.size, filled_data[0], filled_data[filled_data.size-1]"
      ],
      "execution_count": 0,
      "outputs": []
    },
    {
      "cell_type": "code",
      "metadata": {
        "id": "goHrDWYW84n4",
        "colab_type": "code",
        "colab": {}
      },
      "source": [
        "# Более сложная функция, которая позволяет задавать колонку и вид импьютации\n",
        "def test_num_impute_col1(dataset, column, strategy_param):\n",
        "    temp_data = dataset[[column]]\n",
        "    \n",
        "    indicator = MissingIndicator()\n",
        "    mask_missing_values_only = indicator.fit_transform(temp_data)\n",
        "    \n",
        "    imp_num = SimpleImputer(strategy=strategy_param)\n",
        "    data_num_imp = imp_num.fit_transform(temp_data)\n",
        "    \n",
        "    filled_data = data_num_imp[mask_missing_values_only1]\n",
        "    \n",
        "    return column, strategy_param, filled_data.size, filled_data[0], filled_data[filled_data.size-1]"
      ],
      "execution_count": 0,
      "outputs": []
    },
    {
      "cell_type": "code",
      "metadata": {
        "id": "4yIh-NFz84n5",
        "colab_type": "code",
        "colab": {}
      },
      "source": [
        "# Sentiment_Subjectivity\n",
        "# Более сложная функция, которая позволяет задавать колонку и вид импьютации\n",
        "def test_num_impute_col11(dataset, column, strategy_param):\n",
        "    temp_data = dataset[[column]]\n",
        "    \n",
        "    indicator = MissingIndicator()\n",
        "    mask_missing_values_only = indicator.fit_transform(temp_data)\n",
        "    \n",
        "    imp_num = SimpleImputer(strategy=strategy_param)\n",
        "    data_num_imp = imp_num.fit_transform(temp_data)\n",
        "    \n",
        "    filled_data = data_num_imp[mask_missing_values_only11]\n",
        "    \n",
        "    return column, strategy_param, filled_data.size, filled_data[0], filled_data[filled_data.size-1]"
      ],
      "execution_count": 0,
      "outputs": []
    },
    {
      "cell_type": "code",
      "metadata": {
        "id": "L8hAKU1984n6",
        "colab_type": "code",
        "colab": {},
        "outputId": "425afc44-491a-4db6-effc-97d12db018e1"
      },
      "source": [
        "data[['Rating']].describe()"
      ],
      "execution_count": 0,
      "outputs": [
        {
          "output_type": "execute_result",
          "data": {
            "text/html": [
              "<div>\n",
              "<style scoped>\n",
              "    .dataframe tbody tr th:only-of-type {\n",
              "        vertical-align: middle;\n",
              "    }\n",
              "\n",
              "    .dataframe tbody tr th {\n",
              "        vertical-align: top;\n",
              "    }\n",
              "\n",
              "    .dataframe thead th {\n",
              "        text-align: right;\n",
              "    }\n",
              "</style>\n",
              "<table border=\"1\" class=\"dataframe\">\n",
              "  <thead>\n",
              "    <tr style=\"text-align: right;\">\n",
              "      <th></th>\n",
              "      <th>Rating</th>\n",
              "    </tr>\n",
              "  </thead>\n",
              "  <tbody>\n",
              "    <tr>\n",
              "      <th>count</th>\n",
              "      <td>9367.000000</td>\n",
              "    </tr>\n",
              "    <tr>\n",
              "      <th>mean</th>\n",
              "      <td>4.193338</td>\n",
              "    </tr>\n",
              "    <tr>\n",
              "      <th>std</th>\n",
              "      <td>0.537431</td>\n",
              "    </tr>\n",
              "    <tr>\n",
              "      <th>min</th>\n",
              "      <td>1.000000</td>\n",
              "    </tr>\n",
              "    <tr>\n",
              "      <th>25%</th>\n",
              "      <td>4.000000</td>\n",
              "    </tr>\n",
              "    <tr>\n",
              "      <th>50%</th>\n",
              "      <td>4.300000</td>\n",
              "    </tr>\n",
              "    <tr>\n",
              "      <th>75%</th>\n",
              "      <td>4.500000</td>\n",
              "    </tr>\n",
              "    <tr>\n",
              "      <th>max</th>\n",
              "      <td>19.000000</td>\n",
              "    </tr>\n",
              "  </tbody>\n",
              "</table>\n",
              "</div>"
            ],
            "text/plain": [
              "            Rating\n",
              "count  9367.000000\n",
              "mean      4.193338\n",
              "std       0.537431\n",
              "min       1.000000\n",
              "25%       4.000000\n",
              "50%       4.300000\n",
              "75%       4.500000\n",
              "max      19.000000"
            ]
          },
          "metadata": {
            "tags": []
          },
          "execution_count": 214
        }
      ]
    },
    {
      "cell_type": "code",
      "metadata": {
        "id": "eYXI9kbx84n7",
        "colab_type": "code",
        "colab": {},
        "outputId": "d3f23a09-cde3-4a6e-bb0e-fb673ac8d4fe"
      },
      "source": [
        "data1[['Sentiment_Polarity']].describe()"
      ],
      "execution_count": 0,
      "outputs": [
        {
          "output_type": "execute_result",
          "data": {
            "text/html": [
              "<div>\n",
              "<style scoped>\n",
              "    .dataframe tbody tr th:only-of-type {\n",
              "        vertical-align: middle;\n",
              "    }\n",
              "\n",
              "    .dataframe tbody tr th {\n",
              "        vertical-align: top;\n",
              "    }\n",
              "\n",
              "    .dataframe thead th {\n",
              "        text-align: right;\n",
              "    }\n",
              "</style>\n",
              "<table border=\"1\" class=\"dataframe\">\n",
              "  <thead>\n",
              "    <tr style=\"text-align: right;\">\n",
              "      <th></th>\n",
              "      <th>Sentiment_Polarity</th>\n",
              "    </tr>\n",
              "  </thead>\n",
              "  <tbody>\n",
              "    <tr>\n",
              "      <th>count</th>\n",
              "      <td>37432.000000</td>\n",
              "    </tr>\n",
              "    <tr>\n",
              "      <th>mean</th>\n",
              "      <td>0.182146</td>\n",
              "    </tr>\n",
              "    <tr>\n",
              "      <th>std</th>\n",
              "      <td>0.351301</td>\n",
              "    </tr>\n",
              "    <tr>\n",
              "      <th>min</th>\n",
              "      <td>-1.000000</td>\n",
              "    </tr>\n",
              "    <tr>\n",
              "      <th>25%</th>\n",
              "      <td>0.000000</td>\n",
              "    </tr>\n",
              "    <tr>\n",
              "      <th>50%</th>\n",
              "      <td>0.150000</td>\n",
              "    </tr>\n",
              "    <tr>\n",
              "      <th>75%</th>\n",
              "      <td>0.400000</td>\n",
              "    </tr>\n",
              "    <tr>\n",
              "      <th>max</th>\n",
              "      <td>1.000000</td>\n",
              "    </tr>\n",
              "  </tbody>\n",
              "</table>\n",
              "</div>"
            ],
            "text/plain": [
              "       Sentiment_Polarity\n",
              "count        37432.000000\n",
              "mean             0.182146\n",
              "std              0.351301\n",
              "min             -1.000000\n",
              "25%              0.000000\n",
              "50%              0.150000\n",
              "75%              0.400000\n",
              "max              1.000000"
            ]
          },
          "metadata": {
            "tags": []
          },
          "execution_count": 215
        }
      ]
    },
    {
      "cell_type": "code",
      "metadata": {
        "id": "lsuWKJxM84n9",
        "colab_type": "code",
        "colab": {},
        "outputId": "30a16e56-cba4-40bb-d282-955139fed33a"
      },
      "source": [
        "data1[['Sentiment_Subjectivity']].describe()"
      ],
      "execution_count": 0,
      "outputs": [
        {
          "output_type": "execute_result",
          "data": {
            "text/html": [
              "<div>\n",
              "<style scoped>\n",
              "    .dataframe tbody tr th:only-of-type {\n",
              "        vertical-align: middle;\n",
              "    }\n",
              "\n",
              "    .dataframe tbody tr th {\n",
              "        vertical-align: top;\n",
              "    }\n",
              "\n",
              "    .dataframe thead th {\n",
              "        text-align: right;\n",
              "    }\n",
              "</style>\n",
              "<table border=\"1\" class=\"dataframe\">\n",
              "  <thead>\n",
              "    <tr style=\"text-align: right;\">\n",
              "      <th></th>\n",
              "      <th>Sentiment_Subjectivity</th>\n",
              "    </tr>\n",
              "  </thead>\n",
              "  <tbody>\n",
              "    <tr>\n",
              "      <th>count</th>\n",
              "      <td>37432.000000</td>\n",
              "    </tr>\n",
              "    <tr>\n",
              "      <th>mean</th>\n",
              "      <td>0.492704</td>\n",
              "    </tr>\n",
              "    <tr>\n",
              "      <th>std</th>\n",
              "      <td>0.259949</td>\n",
              "    </tr>\n",
              "    <tr>\n",
              "      <th>min</th>\n",
              "      <td>0.000000</td>\n",
              "    </tr>\n",
              "    <tr>\n",
              "      <th>25%</th>\n",
              "      <td>0.357143</td>\n",
              "    </tr>\n",
              "    <tr>\n",
              "      <th>50%</th>\n",
              "      <td>0.514286</td>\n",
              "    </tr>\n",
              "    <tr>\n",
              "      <th>75%</th>\n",
              "      <td>0.650000</td>\n",
              "    </tr>\n",
              "    <tr>\n",
              "      <th>max</th>\n",
              "      <td>1.000000</td>\n",
              "    </tr>\n",
              "  </tbody>\n",
              "</table>\n",
              "</div>"
            ],
            "text/plain": [
              "       Sentiment_Subjectivity\n",
              "count            37432.000000\n",
              "mean                 0.492704\n",
              "std                  0.259949\n",
              "min                  0.000000\n",
              "25%                  0.357143\n",
              "50%                  0.514286\n",
              "75%                  0.650000\n",
              "max                  1.000000"
            ]
          },
          "metadata": {
            "tags": []
          },
          "execution_count": 216
        }
      ]
    },
    {
      "cell_type": "code",
      "metadata": {
        "id": "gL9rCa4Q84n-",
        "colab_type": "code",
        "colab": {},
        "outputId": "f3edde0e-6ed2-4692-e77d-d23a15f8e861"
      },
      "source": [
        "test_num_impute_col(data, 'Rating', strategies[0])"
      ],
      "execution_count": 0,
      "outputs": [
        {
          "output_type": "execute_result",
          "data": {
            "text/plain": [
              "('Rating', 'mean', 1474, 4.193338315362443, 4.193338315362443)"
            ]
          },
          "metadata": {
            "tags": []
          },
          "execution_count": 217
        }
      ]
    },
    {
      "cell_type": "code",
      "metadata": {
        "id": "bHJ4n4Id84oA",
        "colab_type": "code",
        "colab": {},
        "outputId": "13fd6fcd-d08f-4458-d52b-1c1eb95150f1"
      },
      "source": [
        "test_num_impute_col1(data1, 'Sentiment_Polarity', strategies[0])"
      ],
      "execution_count": 0,
      "outputs": [
        {
          "output_type": "execute_result",
          "data": {
            "text/plain": [
              "('Sentiment_Polarity', 'mean', 26863, 0.18214631382977464, 0.18214631382977464)"
            ]
          },
          "metadata": {
            "tags": []
          },
          "execution_count": 218
        }
      ]
    },
    {
      "cell_type": "code",
      "metadata": {
        "id": "MiL8Y71l84oD",
        "colab_type": "code",
        "colab": {},
        "outputId": "0272f25f-3a6d-4688-d39b-73aa29030308"
      },
      "source": [
        "test_num_impute_col11(data1, 'Sentiment_Subjectivity', strategies[0])"
      ],
      "execution_count": 0,
      "outputs": [
        {
          "output_type": "execute_result",
          "data": {
            "text/plain": [
              "('Sentiment_Subjectivity',\n",
              " 'mean',\n",
              " 26863,\n",
              " 0.49270392839557814,\n",
              " 0.49270392839557814)"
            ]
          },
          "metadata": {
            "tags": []
          },
          "execution_count": 219
        }
      ]
    },
    {
      "cell_type": "code",
      "metadata": {
        "id": "94KWaQQt84oF",
        "colab_type": "code",
        "colab": {},
        "outputId": "deb61153-57ae-4106-fb90-deefd590e512"
      },
      "source": [
        "test_num_impute_col(data, 'Rating', strategies[1])"
      ],
      "execution_count": 0,
      "outputs": [
        {
          "output_type": "execute_result",
          "data": {
            "text/plain": [
              "('Rating', 'median', 1474, 4.3, 4.3)"
            ]
          },
          "metadata": {
            "tags": []
          },
          "execution_count": 220
        }
      ]
    },
    {
      "cell_type": "code",
      "metadata": {
        "id": "4DmxpN7G84oG",
        "colab_type": "code",
        "colab": {},
        "outputId": "017898b0-fe2d-4514-ff1a-29120615c38b"
      },
      "source": [
        "test_num_impute_col1(data1, 'Sentiment_Polarity', strategies[1])"
      ],
      "execution_count": 0,
      "outputs": [
        {
          "output_type": "execute_result",
          "data": {
            "text/plain": [
              "('Sentiment_Polarity', 'median', 26863, 0.15, 0.15)"
            ]
          },
          "metadata": {
            "tags": []
          },
          "execution_count": 221
        }
      ]
    },
    {
      "cell_type": "code",
      "metadata": {
        "id": "y8wo7JYe84oG",
        "colab_type": "code",
        "colab": {},
        "outputId": "68b28d49-ced3-465c-9e6b-d2caa2e1f73d"
      },
      "source": [
        "test_num_impute_col1(data1, 'Sentiment_Subjectivity', strategies[2])"
      ],
      "execution_count": 0,
      "outputs": [
        {
          "output_type": "execute_result",
          "data": {
            "text/plain": [
              "('Sentiment_Subjectivity', 'most_frequent', 26863, 0.0, 0.0)"
            ]
          },
          "metadata": {
            "tags": []
          },
          "execution_count": 311
        }
      ]
    },
    {
      "cell_type": "code",
      "metadata": {
        "id": "FNlpnyhV84oI",
        "colab_type": "code",
        "colab": {},
        "outputId": "89cfd308-7c31-472b-e3ef-f14722c7e816"
      },
      "source": [
        "test_num_impute_col(data, 'Rating', strategies[2])"
      ],
      "execution_count": 0,
      "outputs": [
        {
          "output_type": "execute_result",
          "data": {
            "text/plain": [
              "('Rating', 'most_frequent', 1474, 4.4, 4.4)"
            ]
          },
          "metadata": {
            "tags": []
          },
          "execution_count": 223
        }
      ]
    },
    {
      "cell_type": "code",
      "metadata": {
        "id": "wk5kKy0B84oM",
        "colab_type": "code",
        "colab": {},
        "outputId": "7b752a6e-84b9-4073-b7ed-3e580053d555"
      },
      "source": [
        "test_num_impute_col1(data1, 'Sentiment_Polarity', strategies[2])"
      ],
      "execution_count": 0,
      "outputs": [
        {
          "output_type": "execute_result",
          "data": {
            "text/plain": [
              "('Sentiment_Polarity', 'most_frequent', 26863, 0.0, 0.0)"
            ]
          },
          "metadata": {
            "tags": []
          },
          "execution_count": 224
        }
      ]
    },
    {
      "cell_type": "code",
      "metadata": {
        "id": "qVR954hK84oO",
        "colab_type": "code",
        "colab": {},
        "outputId": "5ddbc9c9-16de-4cf8-ca51-4f05321e7a4c"
      },
      "source": [
        "test_num_impute_col1(data1, 'Sentiment_Subjectivity', strategies[2])"
      ],
      "execution_count": 0,
      "outputs": [
        {
          "output_type": "execute_result",
          "data": {
            "text/plain": [
              "('Sentiment_Subjectivity', 'most_frequent', 26863, 0.0, 0.0)"
            ]
          },
          "metadata": {
            "tags": []
          },
          "execution_count": 312
        }
      ]
    },
    {
      "cell_type": "markdown",
      "metadata": {
        "id": "OEGEbYIk84oP",
        "colab_type": "text"
      },
      "source": [
        "## Обработка пропусков в категориальных данных"
      ]
    },
    {
      "cell_type": "code",
      "metadata": {
        "id": "qRadQ6nR84oR",
        "colab_type": "code",
        "colab": {},
        "outputId": "f2aed09c-9ebf-4f17-95c0-39e7363fedd9"
      },
      "source": [
        "# Выберем категориальные колонки с пропущенными значениями\n",
        "# Цикл по колонкам датасета\n",
        "data5 = pd.read_csv('covid_19_data.csv', sep=\",\")\n",
        "total_count5 = data5.shape[0]\n",
        "cat_cols5 = []\n",
        "for col in data5.columns:\n",
        "    # Количество пустых значений \n",
        "    temp_null_count5 = data5[data5[col].isnull()].shape[0]\n",
        "    dt5 = str(data5[col].dtype)\n",
        "    if temp_null_count5>0 and (dt5=='object'):\n",
        "        cat_cols5.append(col)\n",
        "        temp_perc5 = round((temp_null_count5 / total_count5) * 100.0, 2)\n",
        "        print('Колонка {}. Тип данных {}. Количество пустых значений {}, {}%.'.format(col, dt5, temp_null_count5, temp_perc5))"
      ],
      "execution_count": 0,
      "outputs": [
        {
          "output_type": "stream",
          "text": [
            "Колонка Province/State. Тип данных object. Количество пустых значений 1815, 36.78%.\n"
          ],
          "name": "stdout"
        }
      ]
    },
    {
      "cell_type": "code",
      "metadata": {
        "id": "xt5qjP2984oU",
        "colab_type": "code",
        "colab": {},
        "outputId": "b13733be-ce8a-42a6-ee21-3b5de03ac82c"
      },
      "source": [
        "# Выберем категориальные колонки с пропущенными значениями\n",
        "# Цикл по колонкам датасета\n",
        "\n",
        "cat_cols1 = []\n",
        "for col in data1.columns:\n",
        "    # Количество пустых значений \n",
        "    temp_null_count1 = data1[data1[col].isnull()].shape[0]\n",
        "    dt1 = str(data1[col].dtype)\n",
        "    if temp_null_count1>0 and (dt1=='object'):\n",
        "        cat_cols1.append(col)\n",
        "        temp_perc1 = round((temp_null_count1 / total_count1) * 100.0, 2)\n",
        "        print('Колонка {}. Тип данных {}. Количество пустых значений {}, {}%.'.format(col, dt1, temp_null_count1, temp_perc1))"
      ],
      "execution_count": 0,
      "outputs": [
        {
          "output_type": "stream",
          "text": [
            "Колонка Translated_Review. Тип данных object. Количество пустых значений 26868, 41.79%.\n",
            "Колонка Sentiment. Тип данных object. Количество пустых значений 26863, 41.78%.\n"
          ],
          "name": "stdout"
        }
      ]
    },
    {
      "cell_type": "code",
      "metadata": {
        "id": "UHjyXSfx84oV",
        "colab_type": "code",
        "colab": {},
        "outputId": "af380179-3a72-4c4f-926b-87a4ac97dd44"
      },
      "source": [
        "cat_temp_data = data5[['Province/State']]\n",
        "cat_temp_data.head()"
      ],
      "execution_count": 0,
      "outputs": [
        {
          "output_type": "execute_result",
          "data": {
            "text/html": [
              "<div>\n",
              "<style scoped>\n",
              "    .dataframe tbody tr th:only-of-type {\n",
              "        vertical-align: middle;\n",
              "    }\n",
              "\n",
              "    .dataframe tbody tr th {\n",
              "        vertical-align: top;\n",
              "    }\n",
              "\n",
              "    .dataframe thead th {\n",
              "        text-align: right;\n",
              "    }\n",
              "</style>\n",
              "<table border=\"1\" class=\"dataframe\">\n",
              "  <thead>\n",
              "    <tr style=\"text-align: right;\">\n",
              "      <th></th>\n",
              "      <th>Province/State</th>\n",
              "    </tr>\n",
              "  </thead>\n",
              "  <tbody>\n",
              "    <tr>\n",
              "      <th>0</th>\n",
              "      <td>Anhui</td>\n",
              "    </tr>\n",
              "    <tr>\n",
              "      <th>1</th>\n",
              "      <td>Beijing</td>\n",
              "    </tr>\n",
              "    <tr>\n",
              "      <th>2</th>\n",
              "      <td>Chongqing</td>\n",
              "    </tr>\n",
              "    <tr>\n",
              "      <th>3</th>\n",
              "      <td>Fujian</td>\n",
              "    </tr>\n",
              "    <tr>\n",
              "      <th>4</th>\n",
              "      <td>Gansu</td>\n",
              "    </tr>\n",
              "  </tbody>\n",
              "</table>\n",
              "</div>"
            ],
            "text/plain": [
              "  Province/State\n",
              "0          Anhui\n",
              "1        Beijing\n",
              "2      Chongqing\n",
              "3         Fujian\n",
              "4          Gansu"
            ]
          },
          "metadata": {
            "tags": []
          },
          "execution_count": 231
        }
      ]
    },
    {
      "cell_type": "code",
      "metadata": {
        "id": "dKd2XNSi84oW",
        "colab_type": "code",
        "colab": {},
        "outputId": "37debe4c-c713-418a-fec3-ab0473575468"
      },
      "source": [
        "cat_temp_data1 = data1[['Translated_Review']]\n",
        "cat_temp_data1.head()"
      ],
      "execution_count": 0,
      "outputs": [
        {
          "output_type": "execute_result",
          "data": {
            "text/html": [
              "<div>\n",
              "<style scoped>\n",
              "    .dataframe tbody tr th:only-of-type {\n",
              "        vertical-align: middle;\n",
              "    }\n",
              "\n",
              "    .dataframe tbody tr th {\n",
              "        vertical-align: top;\n",
              "    }\n",
              "\n",
              "    .dataframe thead th {\n",
              "        text-align: right;\n",
              "    }\n",
              "</style>\n",
              "<table border=\"1\" class=\"dataframe\">\n",
              "  <thead>\n",
              "    <tr style=\"text-align: right;\">\n",
              "      <th></th>\n",
              "      <th>Translated_Review</th>\n",
              "    </tr>\n",
              "  </thead>\n",
              "  <tbody>\n",
              "    <tr>\n",
              "      <th>0</th>\n",
              "      <td>I like eat delicious food. That's I'm cooking ...</td>\n",
              "    </tr>\n",
              "    <tr>\n",
              "      <th>1</th>\n",
              "      <td>This help eating healthy exercise regular basis</td>\n",
              "    </tr>\n",
              "    <tr>\n",
              "      <th>2</th>\n",
              "      <td>NaN</td>\n",
              "    </tr>\n",
              "    <tr>\n",
              "      <th>3</th>\n",
              "      <td>Works great especially going grocery store</td>\n",
              "    </tr>\n",
              "    <tr>\n",
              "      <th>4</th>\n",
              "      <td>Best idea us</td>\n",
              "    </tr>\n",
              "  </tbody>\n",
              "</table>\n",
              "</div>"
            ],
            "text/plain": [
              "                                   Translated_Review\n",
              "0  I like eat delicious food. That's I'm cooking ...\n",
              "1    This help eating healthy exercise regular basis\n",
              "2                                                NaN\n",
              "3         Works great especially going grocery store\n",
              "4                                       Best idea us"
            ]
          },
          "metadata": {
            "tags": []
          },
          "execution_count": 232
        }
      ]
    },
    {
      "cell_type": "code",
      "metadata": {
        "id": "HK1ocGhf84oY",
        "colab_type": "code",
        "colab": {},
        "outputId": "281daacf-c2c7-4544-a044-0e5288a63bb0"
      },
      "source": [
        "cat_temp_data11 = data1[['Sentiment']]\n",
        "cat_temp_data11.head()"
      ],
      "execution_count": 0,
      "outputs": [
        {
          "output_type": "execute_result",
          "data": {
            "text/html": [
              "<div>\n",
              "<style scoped>\n",
              "    .dataframe tbody tr th:only-of-type {\n",
              "        vertical-align: middle;\n",
              "    }\n",
              "\n",
              "    .dataframe tbody tr th {\n",
              "        vertical-align: top;\n",
              "    }\n",
              "\n",
              "    .dataframe thead th {\n",
              "        text-align: right;\n",
              "    }\n",
              "</style>\n",
              "<table border=\"1\" class=\"dataframe\">\n",
              "  <thead>\n",
              "    <tr style=\"text-align: right;\">\n",
              "      <th></th>\n",
              "      <th>Sentiment</th>\n",
              "    </tr>\n",
              "  </thead>\n",
              "  <tbody>\n",
              "    <tr>\n",
              "      <th>0</th>\n",
              "      <td>Positive</td>\n",
              "    </tr>\n",
              "    <tr>\n",
              "      <th>1</th>\n",
              "      <td>Positive</td>\n",
              "    </tr>\n",
              "    <tr>\n",
              "      <th>2</th>\n",
              "      <td>NaN</td>\n",
              "    </tr>\n",
              "    <tr>\n",
              "      <th>3</th>\n",
              "      <td>Positive</td>\n",
              "    </tr>\n",
              "    <tr>\n",
              "      <th>4</th>\n",
              "      <td>Positive</td>\n",
              "    </tr>\n",
              "  </tbody>\n",
              "</table>\n",
              "</div>"
            ],
            "text/plain": [
              "  Sentiment\n",
              "0  Positive\n",
              "1  Positive\n",
              "2       NaN\n",
              "3  Positive\n",
              "4  Positive"
            ]
          },
          "metadata": {
            "tags": []
          },
          "execution_count": 233
        }
      ]
    },
    {
      "cell_type": "code",
      "metadata": {
        "id": "upzCjSFA84oa",
        "colab_type": "code",
        "colab": {},
        "outputId": "791ed583-05ec-477c-8f65-64644c66771f"
      },
      "source": [
        "cat_temp_data['Province/State'].unique()"
      ],
      "execution_count": 0,
      "outputs": [
        {
          "output_type": "execute_result",
          "data": {
            "text/plain": [
              "array(['Anhui', 'Beijing', 'Chongqing', 'Fujian', 'Gansu', 'Guangdong',\n",
              "       'Guangxi', 'Guizhou', 'Hainan', 'Hebei', 'Heilongjiang', 'Henan',\n",
              "       'Hong Kong', 'Hubei', 'Hunan', 'Inner Mongolia', 'Jiangsu',\n",
              "       'Jiangxi', 'Jilin', 'Liaoning', 'Macau', 'Ningxia', 'Qinghai',\n",
              "       'Shaanxi', 'Shandong', 'Shanghai', 'Shanxi', 'Sichuan', 'Taiwan',\n",
              "       'Tianjin', 'Tibet', 'Washington', 'Xinjiang', 'Yunnan', 'Zhejiang',\n",
              "       nan, 'Chicago', 'Illinois', 'California', 'Arizona', 'Ontario',\n",
              "       'New South Wales', 'Victoria', 'British Columbia', 'Bavaria',\n",
              "       'Queensland', 'Chicago, IL', 'South Australia', 'Boston, MA',\n",
              "       'Los Angeles, CA', 'Orange, CA', 'Santa Clara, CA', 'Seattle, WA',\n",
              "       'Tempe, AZ', 'San Benito, CA', 'Toronto, ON', 'London, ON',\n",
              "       'Madison, WI', 'Cruise Ship', 'Diamond Princess cruise ship',\n",
              "       'San Diego County, CA', 'San Antonio, TX', 'Ashland, NE',\n",
              "       'Travis, CA', 'From Diamond Princess', 'Lackland, TX', 'None',\n",
              "       'Humboldt County, CA', 'Sacramento County, CA',\n",
              "       'Omaha, NE (From Diamond Princess)',\n",
              "       'Travis, CA (From Diamond Princess)',\n",
              "       'Lackland, TX (From Diamond Princess)',\n",
              "       'Unassigned Location (From Diamond Princess)', ' Montreal, QC',\n",
              "       'Western Australia', 'Portland, OR', 'Snohomish County, WA',\n",
              "       'Providence, RI', 'King County, WA', 'Cook County, IL', 'Tasmania',\n",
              "       'Grafton County, NH', 'Hillsborough, FL', 'New York City, NY',\n",
              "       'Placer County, CA', 'San Mateo, CA', 'Sarasota, FL',\n",
              "       'Sonoma County, CA', 'Umatilla, OR', 'Fulton County, GA',\n",
              "       'Washington County, OR', ' Norfolk County, MA', 'Berkeley, CA',\n",
              "       'Maricopa County, AZ', 'Wake County, NC', 'Westchester County, NY',\n",
              "       'Orange County, CA', 'Northern Territory',\n",
              "       'Contra Costa County, CA', 'Bergen County, NJ',\n",
              "       'Harris County, TX', 'San Francisco County, CA',\n",
              "       'Clark County, NV', 'Fort Bend County, TX', 'Grant County, WA',\n",
              "       'Queens County, NY', 'Santa Rosa County, FL',\n",
              "       'Williamson County, TN', 'New York County, NY',\n",
              "       'Unassigned Location, WA', 'Montgomery County, MD',\n",
              "       'Suffolk County, MA', 'Denver County, CO', 'Summit County, CO',\n",
              "       'Calgary, Alberta', 'Chatham County, NC', 'Delaware County, PA',\n",
              "       'Douglas County, NE', 'Fayette County, KY', 'Floyd County, GA',\n",
              "       'Marion County, IN', 'Middlesex County, MA', 'Nassau County, NY',\n",
              "       'Norwell County, MA', 'Ramsey County, MN', 'Washoe County, NV',\n",
              "       'Wayne County, PA', 'Yolo County, CA', 'Santa Clara County, CA',\n",
              "       'Grand Princess Cruise Ship', 'Douglas County, CO',\n",
              "       'Providence County, RI', 'Alameda County, CA',\n",
              "       'Broward County, FL', 'Fairfield County, CT', 'Lee County, FL',\n",
              "       'Pinal County, AZ', 'Rockland County, NY', 'Saratoga County, NY',\n",
              "       'Edmonton, Alberta', 'Charleston County, SC', 'Clark County, WA',\n",
              "       'Cobb County, GA', 'Davis County, UT', 'El Paso County, CO',\n",
              "       'Honolulu County, HI', 'Jackson County, OR ',\n",
              "       'Jefferson County, WA', 'Kershaw County, SC', 'Klamath County, OR',\n",
              "       'Madera County, CA', 'Pierce County, WA', 'Plymouth County, MA',\n",
              "       'Santa Cruz County, CA', 'Tulsa County, OK',\n",
              "       'Montgomery County, TX', 'Norfolk County, MA',\n",
              "       'Montgomery County, PA', 'Fairfax County, VA',\n",
              "       'Rockingham County, NH', 'Washington, D.C.',\n",
              "       'Berkshire County, MA', 'Davidson County, TN',\n",
              "       'Douglas County, OR', 'Fresno County, CA', 'Harford County, MD',\n",
              "       'Hendricks County, IN', 'Hudson County, NJ', 'Johnson County, KS',\n",
              "       'Kittitas County, WA', 'Manatee County, FL', 'Marion County, OR',\n",
              "       'Okaloosa County, FL', 'Polk County, GA', 'Riverside County, CA',\n",
              "       'Shelby County, TN', 'Spokane County, WA', 'St. Louis County, MO',\n",
              "       'Suffolk County, NY', 'Ulster County, NY',\n",
              "       'Unassigned Location, VT', 'Unknown Location, MA',\n",
              "       'Volusia County, FL', 'Alberta', 'Quebec', 'Johnson County, IA',\n",
              "       'Harrison County, KY', 'Bennington County, VT',\n",
              "       'Carver County, MN', 'Charlotte County, FL', 'Cherokee County, GA',\n",
              "       'Collin County, TX', 'Jefferson County, KY',\n",
              "       'Jefferson Parish, LA', 'Shasta County, CA',\n",
              "       'Spartanburg County, SC', 'New York', 'Massachusetts',\n",
              "       'Grand Princess', 'Georgia', 'Colorado', 'Florida', 'New Jersey',\n",
              "       'Oregon', 'Texas', 'Pennsylvania', 'Iowa', 'Maryland',\n",
              "       'North Carolina', 'South Carolina', 'Tennessee', 'Virginia',\n",
              "       'Indiana', 'Kentucky', 'District of Columbia', 'Nevada',\n",
              "       'New Hampshire', 'Minnesota', 'Nebraska', 'Ohio', 'Rhode Island',\n",
              "       'Wisconsin', 'Connecticut', 'Hawaii', 'Oklahoma', 'Utah', 'Kansas',\n",
              "       'Louisiana', 'Missouri', 'Vermont', 'Alaska', 'Arkansas',\n",
              "       'Delaware', 'Idaho', 'Maine', 'Michigan', 'Mississippi', 'Montana',\n",
              "       'New Mexico', 'North Dakota', 'South Dakota', 'West Virginia',\n",
              "       'Wyoming', 'France', 'UK', 'Denmark', 'Faroe Islands', 'St Martin',\n",
              "       'Channel Islands', 'New Brunswick', 'Saint Barthelemy',\n",
              "       'Gibraltar'], dtype=object)"
            ]
          },
          "metadata": {
            "tags": []
          },
          "execution_count": 234
        }
      ]
    },
    {
      "cell_type": "code",
      "metadata": {
        "id": "GeKlk-B984ob",
        "colab_type": "code",
        "colab": {},
        "outputId": "aad9df53-712a-499e-9213-e39ff9f503f2"
      },
      "source": [
        "cat_temp_data1['Translated_Review'].unique()"
      ],
      "execution_count": 0,
      "outputs": [
        {
          "output_type": "execute_result",
          "data": {
            "text/plain": [
              "array(['I like eat delicious food. That\\'s I\\'m cooking food myself, case \"10 Best Foods\" helps lot, also \"Best Before (Shelf Life)\"',\n",
              "       'This help eating healthy exercise regular basis', nan, ...,\n",
              "       'Dumb app, I wanted post property rent give option. Website work. Waste time space phone.',\n",
              "       'I property business got link SMS happy performance still guys need raise bar guys Cheers',\n",
              "       'Useless app, I searched flats kondapur, Hyderabad . None number reachable I know flats unavailable would keep posts active'],\n",
              "      dtype=object)"
            ]
          },
          "metadata": {
            "tags": []
          },
          "execution_count": 235
        }
      ]
    },
    {
      "cell_type": "code",
      "metadata": {
        "id": "lkYOZS3K84oc",
        "colab_type": "code",
        "colab": {},
        "outputId": "60dc17fa-a5bd-4355-c2f2-741efc648ad6"
      },
      "source": [
        "cat_temp_data11['Sentiment'].unique()"
      ],
      "execution_count": 0,
      "outputs": [
        {
          "output_type": "execute_result",
          "data": {
            "text/plain": [
              "array(['Positive', nan, 'Neutral', 'Negative'], dtype=object)"
            ]
          },
          "metadata": {
            "tags": []
          },
          "execution_count": 236
        }
      ]
    },
    {
      "cell_type": "code",
      "metadata": {
        "id": "hEsZdf6F84of",
        "colab_type": "code",
        "colab": {},
        "outputId": "dbca4aa7-cbcc-4d2b-f845-3a7d05b1808a"
      },
      "source": [
        "cat_temp_data[cat_temp_data['Province/State'].isnull()].shape"
      ],
      "execution_count": 0,
      "outputs": [
        {
          "output_type": "execute_result",
          "data": {
            "text/plain": [
              "(1815, 1)"
            ]
          },
          "metadata": {
            "tags": []
          },
          "execution_count": 242
        }
      ]
    },
    {
      "cell_type": "code",
      "metadata": {
        "id": "8B3FOR7h84og",
        "colab_type": "code",
        "colab": {},
        "outputId": "eda32cdf-aa9c-4d08-a19a-34b79a91eaf2"
      },
      "source": [
        "cat_temp_data1[cat_temp_data1['Translated_Review'].isnull()].shape"
      ],
      "execution_count": 0,
      "outputs": [
        {
          "output_type": "execute_result",
          "data": {
            "text/plain": [
              "(26868, 1)"
            ]
          },
          "metadata": {
            "tags": []
          },
          "execution_count": 243
        }
      ]
    },
    {
      "cell_type": "code",
      "metadata": {
        "id": "lwLuEsmw84oh",
        "colab_type": "code",
        "colab": {},
        "outputId": "387fbe1a-5f68-437e-fde8-e86f87688079"
      },
      "source": [
        "cat_temp_data11[cat_temp_data11['Sentiment'].isnull()].shape"
      ],
      "execution_count": 0,
      "outputs": [
        {
          "output_type": "execute_result",
          "data": {
            "text/plain": [
              "(26863, 1)"
            ]
          },
          "metadata": {
            "tags": []
          },
          "execution_count": 244
        }
      ]
    },
    {
      "cell_type": "code",
      "metadata": {
        "id": "g3ia_h7l84oj",
        "colab_type": "code",
        "colab": {},
        "outputId": "8c53382c-baf9-4ba9-a5ad-a23720323adf"
      },
      "source": [
        "# Импьютация наиболее частыми значениями\n",
        "imp2 = SimpleImputer(missing_values=np.nan, strategy='most_frequent')\n",
        "data_imp2 = imp2.fit_transform(cat_temp_data)\n",
        "data_imp2"
      ],
      "execution_count": 0,
      "outputs": [
        {
          "output_type": "execute_result",
          "data": {
            "text/plain": [
              "array([['Anhui'],\n",
              "       ['Beijing'],\n",
              "       ['Chongqing'],\n",
              "       ...,\n",
              "       ['West Virginia'],\n",
              "       ['Wyoming'],\n",
              "       ['Gansu']], dtype=object)"
            ]
          },
          "metadata": {
            "tags": []
          },
          "execution_count": 245
        }
      ]
    },
    {
      "cell_type": "code",
      "metadata": {
        "id": "bZBGHtqc84ok",
        "colab_type": "code",
        "colab": {}
      },
      "source": [
        "# Импьютация наиболее частыми значениями\n",
        "imp2 = SimpleImputer(missing_values=np.nan, strategy='most_frequent')\n",
        "data_imp21 = imp2.fit_transform(cat_temp_data1)\n",
        "data_imp21"
      ],
      "execution_count": 0,
      "outputs": []
    },
    {
      "cell_type": "code",
      "metadata": {
        "id": "Gi4mbMbr84ol",
        "colab_type": "code",
        "colab": {},
        "outputId": "4060fdc3-7a6c-4911-a410-6a438b647bda"
      },
      "source": [
        "# Импьютация наиболее частыми значениями\n",
        "imp2 = SimpleImputer(missing_values=np.nan, strategy='most_frequent')\n",
        "data_imp211 = imp2.fit_transform(cat_temp_data11)\n",
        "data_imp211"
      ],
      "execution_count": 0,
      "outputs": [
        {
          "output_type": "execute_result",
          "data": {
            "text/plain": [
              "array([['Positive'],\n",
              "       ['Positive'],\n",
              "       ['Positive'],\n",
              "       ...,\n",
              "       ['Positive'],\n",
              "       ['Positive'],\n",
              "       ['Positive']], dtype=object)"
            ]
          },
          "metadata": {
            "tags": []
          },
          "execution_count": 247
        }
      ]
    },
    {
      "cell_type": "code",
      "metadata": {
        "id": "j2JRWFPn84oo",
        "colab_type": "code",
        "colab": {},
        "outputId": "bd45a10b-1c63-4f32-892e-286d4eecef2e"
      },
      "source": [
        "# Пустые значения отсутствуют\n",
        "np.unique(data_imp2)"
      ],
      "execution_count": 0,
      "outputs": [
        {
          "output_type": "execute_result",
          "data": {
            "text/plain": [
              "array([' Montreal, QC', ' Norfolk County, MA', 'Alameda County, CA',\n",
              "       'Alaska', 'Alberta', 'Anhui', 'Arizona', 'Arkansas', 'Ashland, NE',\n",
              "       'Bavaria', 'Beijing', 'Bennington County, VT', 'Bergen County, NJ',\n",
              "       'Berkeley, CA', 'Berkshire County, MA', 'Boston, MA',\n",
              "       'British Columbia', 'Broward County, FL', 'Calgary, Alberta',\n",
              "       'California', 'Carver County, MN', 'Channel Islands',\n",
              "       'Charleston County, SC', 'Charlotte County, FL',\n",
              "       'Chatham County, NC', 'Cherokee County, GA', 'Chicago',\n",
              "       'Chicago, IL', 'Chongqing', 'Clark County, NV', 'Clark County, WA',\n",
              "       'Cobb County, GA', 'Collin County, TX', 'Colorado', 'Connecticut',\n",
              "       'Contra Costa County, CA', 'Cook County, IL', 'Cruise Ship',\n",
              "       'Davidson County, TN', 'Davis County, UT', 'Delaware',\n",
              "       'Delaware County, PA', 'Denmark', 'Denver County, CO',\n",
              "       'Diamond Princess cruise ship', 'District of Columbia',\n",
              "       'Douglas County, CO', 'Douglas County, NE', 'Douglas County, OR',\n",
              "       'Edmonton, Alberta', 'El Paso County, CO', 'Fairfax County, VA',\n",
              "       'Fairfield County, CT', 'Faroe Islands', 'Fayette County, KY',\n",
              "       'Florida', 'Floyd County, GA', 'Fort Bend County, TX', 'France',\n",
              "       'Fresno County, CA', 'From Diamond Princess', 'Fujian',\n",
              "       'Fulton County, GA', 'Gansu', 'Georgia', 'Gibraltar',\n",
              "       'Grafton County, NH', 'Grand Princess',\n",
              "       'Grand Princess Cruise Ship', 'Grant County, WA', 'Guangdong',\n",
              "       'Guangxi', 'Guizhou', 'Hainan', 'Harford County, MD',\n",
              "       'Harris County, TX', 'Harrison County, KY', 'Hawaii', 'Hebei',\n",
              "       'Heilongjiang', 'Henan', 'Hendricks County, IN',\n",
              "       'Hillsborough, FL', 'Hong Kong', 'Honolulu County, HI', 'Hubei',\n",
              "       'Hudson County, NJ', 'Humboldt County, CA', 'Hunan', 'Idaho',\n",
              "       'Illinois', 'Indiana', 'Inner Mongolia', 'Iowa',\n",
              "       'Jackson County, OR ', 'Jefferson County, KY',\n",
              "       'Jefferson County, WA', 'Jefferson Parish, LA', 'Jiangsu',\n",
              "       'Jiangxi', 'Jilin', 'Johnson County, IA', 'Johnson County, KS',\n",
              "       'Kansas', 'Kentucky', 'Kershaw County, SC', 'King County, WA',\n",
              "       'Kittitas County, WA', 'Klamath County, OR', 'Lackland, TX',\n",
              "       'Lackland, TX (From Diamond Princess)', 'Lee County, FL',\n",
              "       'Liaoning', 'London, ON', 'Los Angeles, CA', 'Louisiana', 'Macau',\n",
              "       'Madera County, CA', 'Madison, WI', 'Maine', 'Manatee County, FL',\n",
              "       'Maricopa County, AZ', 'Marion County, IN', 'Marion County, OR',\n",
              "       'Maryland', 'Massachusetts', 'Michigan', 'Middlesex County, MA',\n",
              "       'Minnesota', 'Mississippi', 'Missouri', 'Montana',\n",
              "       'Montgomery County, MD', 'Montgomery County, PA',\n",
              "       'Montgomery County, TX', 'Nassau County, NY', 'Nebraska', 'Nevada',\n",
              "       'New Brunswick', 'New Hampshire', 'New Jersey', 'New Mexico',\n",
              "       'New South Wales', 'New York', 'New York City, NY',\n",
              "       'New York County, NY', 'Ningxia', 'None', 'Norfolk County, MA',\n",
              "       'North Carolina', 'North Dakota', 'Northern Territory',\n",
              "       'Norwell County, MA', 'Ohio', 'Okaloosa County, FL', 'Oklahoma',\n",
              "       'Omaha, NE (From Diamond Princess)', 'Ontario',\n",
              "       'Orange County, CA', 'Orange, CA', 'Oregon', 'Pennsylvania',\n",
              "       'Pierce County, WA', 'Pinal County, AZ', 'Placer County, CA',\n",
              "       'Plymouth County, MA', 'Polk County, GA', 'Portland, OR',\n",
              "       'Providence County, RI', 'Providence, RI', 'Qinghai', 'Quebec',\n",
              "       'Queens County, NY', 'Queensland', 'Ramsey County, MN',\n",
              "       'Rhode Island', 'Riverside County, CA', 'Rockingham County, NH',\n",
              "       'Rockland County, NY', 'Sacramento County, CA', 'Saint Barthelemy',\n",
              "       'San Antonio, TX', 'San Benito, CA', 'San Diego County, CA',\n",
              "       'San Francisco County, CA', 'San Mateo, CA',\n",
              "       'Santa Clara County, CA', 'Santa Clara, CA',\n",
              "       'Santa Cruz County, CA', 'Santa Rosa County, FL', 'Sarasota, FL',\n",
              "       'Saratoga County, NY', 'Seattle, WA', 'Shaanxi', 'Shandong',\n",
              "       'Shanghai', 'Shanxi', 'Shasta County, CA', 'Shelby County, TN',\n",
              "       'Sichuan', 'Snohomish County, WA', 'Sonoma County, CA',\n",
              "       'South Australia', 'South Carolina', 'South Dakota',\n",
              "       'Spartanburg County, SC', 'Spokane County, WA', 'St Martin',\n",
              "       'St. Louis County, MO', 'Suffolk County, MA', 'Suffolk County, NY',\n",
              "       'Summit County, CO', 'Taiwan', 'Tasmania', 'Tempe, AZ',\n",
              "       'Tennessee', 'Texas', 'Tianjin', 'Tibet', 'Toronto, ON',\n",
              "       'Travis, CA', 'Travis, CA (From Diamond Princess)',\n",
              "       'Tulsa County, OK', 'UK', 'Ulster County, NY', 'Umatilla, OR',\n",
              "       'Unassigned Location (From Diamond Princess)',\n",
              "       'Unassigned Location, VT', 'Unassigned Location, WA',\n",
              "       'Unknown Location, MA', 'Utah', 'Vermont', 'Victoria', 'Virginia',\n",
              "       'Volusia County, FL', 'Wake County, NC', 'Washington',\n",
              "       'Washington County, OR', 'Washington, D.C.', 'Washoe County, NV',\n",
              "       'Wayne County, PA', 'West Virginia', 'Westchester County, NY',\n",
              "       'Western Australia', 'Williamson County, TN', 'Wisconsin',\n",
              "       'Wyoming', 'Xinjiang', 'Yolo County, CA', 'Yunnan', 'Zhejiang'],\n",
              "      dtype=object)"
            ]
          },
          "metadata": {
            "tags": []
          },
          "execution_count": 248
        }
      ]
    },
    {
      "cell_type": "code",
      "metadata": {
        "id": "X_NKDKKd84op",
        "colab_type": "code",
        "colab": {},
        "outputId": "f6419533-481c-4d3f-da71-08f7c2836421"
      },
      "source": [
        "# Пустые значения отсутствуют\n",
        "np.unique(data_imp21)"
      ],
      "execution_count": 0,
      "outputs": [
        {
          "output_type": "execute_result",
          "data": {
            "text/plain": [
              "array(['!!!Dont waste time! Failed Samsung flagship phone galaxy s8, Installed ,shows rotating circle internet download, keeps rotates forever proper progress indication; finally shows failed download. Stupid game developers. Go NFS working good.',\n",
              "       '\"...Future Follow updated follow\"...',\n",
              "       '\"An error occurred while loading the search results. Please try again.\" And so it\\'s already 2 days. The reinstallation did not help',\n",
              "       ..., '♡ Amazon',\n",
              "       '❤❤ sometimes hands typing is not convenient to use, except this update on a version 10.19 a nice keyboard hands-on',\n",
              "       '搵楼租楼 A lot of time, a lot of time management, easy to take care of'],\n",
              "      dtype=object)"
            ]
          },
          "metadata": {
            "tags": []
          },
          "execution_count": 249
        }
      ]
    },
    {
      "cell_type": "code",
      "metadata": {
        "id": "DX0ytkaW84or",
        "colab_type": "code",
        "colab": {},
        "outputId": "bcac0125-fb6c-4694-c81d-64fd8ff0cf6c"
      },
      "source": [
        "# Пустые значения отсутствуют\n",
        "np.unique(data_imp211)"
      ],
      "execution_count": 0,
      "outputs": [
        {
          "output_type": "execute_result",
          "data": {
            "text/plain": [
              "array(['Negative', 'Neutral', 'Positive'], dtype=object)"
            ]
          },
          "metadata": {
            "tags": []
          },
          "execution_count": 250
        }
      ]
    },
    {
      "cell_type": "code",
      "metadata": {
        "id": "SYPbC_Pt84os",
        "colab_type": "code",
        "colab": {},
        "outputId": "2a5f1880-aba4-4b0e-a3cb-3b6b06c67e23"
      },
      "source": [
        "# Импьютация константой\n",
        "imp3 = SimpleImputer(missing_values=np.nan, strategy='constant', fill_value='!!!')\n",
        "data_imp3 = imp3.fit_transform(cat_temp_data)\n",
        "data_imp3"
      ],
      "execution_count": 0,
      "outputs": [
        {
          "output_type": "execute_result",
          "data": {
            "text/plain": [
              "array([['Anhui'],\n",
              "       ['Beijing'],\n",
              "       ['Chongqing'],\n",
              "       ...,\n",
              "       ['West Virginia'],\n",
              "       ['Wyoming'],\n",
              "       ['!!!']], dtype=object)"
            ]
          },
          "metadata": {
            "tags": []
          },
          "execution_count": 251
        }
      ]
    },
    {
      "cell_type": "code",
      "metadata": {
        "id": "243MYvNg84ot",
        "colab_type": "code",
        "colab": {},
        "outputId": "f525af60-2970-4f05-899d-d83ac5191aa5"
      },
      "source": [
        "# Импьютация константой\n",
        "imp3 = SimpleImputer(missing_values=np.nan, strategy='constant', fill_value='!!!')\n",
        "data_imp31 = imp3.fit_transform(cat_temp_data1)\n",
        "data_imp31"
      ],
      "execution_count": 0,
      "outputs": [
        {
          "output_type": "execute_result",
          "data": {
            "text/plain": [
              "array([['I like eat delicious food. That\\'s I\\'m cooking food myself, case \"10 Best Foods\" helps lot, also \"Best Before (Shelf Life)\"'],\n",
              "       ['This help eating healthy exercise regular basis'],\n",
              "       ['!!!'],\n",
              "       ...,\n",
              "       ['!!!'],\n",
              "       ['!!!'],\n",
              "       ['!!!']], dtype=object)"
            ]
          },
          "metadata": {
            "tags": []
          },
          "execution_count": 252
        }
      ]
    },
    {
      "cell_type": "code",
      "metadata": {
        "id": "OSXdYgBg84ov",
        "colab_type": "code",
        "colab": {},
        "outputId": "cbf79932-4c6e-4185-90ea-61de96e82ad3"
      },
      "source": [
        "# Импьютация константой\n",
        "imp3 = SimpleImputer(missing_values=np.nan, strategy='constant', fill_value='!!!')\n",
        "data_imp311 = imp3.fit_transform(cat_temp_data11)\n",
        "data_imp311"
      ],
      "execution_count": 0,
      "outputs": [
        {
          "output_type": "execute_result",
          "data": {
            "text/plain": [
              "array([['Positive'],\n",
              "       ['Positive'],\n",
              "       ['!!!'],\n",
              "       ...,\n",
              "       ['!!!'],\n",
              "       ['!!!'],\n",
              "       ['!!!']], dtype=object)"
            ]
          },
          "metadata": {
            "tags": []
          },
          "execution_count": 253
        }
      ]
    },
    {
      "cell_type": "code",
      "metadata": {
        "id": "eEEjn4QF84ox",
        "colab_type": "code",
        "colab": {},
        "outputId": "90111567-97a5-49aa-8b45-1f3eb3910a38"
      },
      "source": [
        "np.unique(data_imp3)"
      ],
      "execution_count": 0,
      "outputs": [
        {
          "output_type": "execute_result",
          "data": {
            "text/plain": [
              "array([' Montreal, QC', ' Norfolk County, MA', '!!!',\n",
              "       'Alameda County, CA', 'Alaska', 'Alberta', 'Anhui', 'Arizona',\n",
              "       'Arkansas', 'Ashland, NE', 'Bavaria', 'Beijing',\n",
              "       'Bennington County, VT', 'Bergen County, NJ', 'Berkeley, CA',\n",
              "       'Berkshire County, MA', 'Boston, MA', 'British Columbia',\n",
              "       'Broward County, FL', 'Calgary, Alberta', 'California',\n",
              "       'Carver County, MN', 'Channel Islands', 'Charleston County, SC',\n",
              "       'Charlotte County, FL', 'Chatham County, NC',\n",
              "       'Cherokee County, GA', 'Chicago', 'Chicago, IL', 'Chongqing',\n",
              "       'Clark County, NV', 'Clark County, WA', 'Cobb County, GA',\n",
              "       'Collin County, TX', 'Colorado', 'Connecticut',\n",
              "       'Contra Costa County, CA', 'Cook County, IL', 'Cruise Ship',\n",
              "       'Davidson County, TN', 'Davis County, UT', 'Delaware',\n",
              "       'Delaware County, PA', 'Denmark', 'Denver County, CO',\n",
              "       'Diamond Princess cruise ship', 'District of Columbia',\n",
              "       'Douglas County, CO', 'Douglas County, NE', 'Douglas County, OR',\n",
              "       'Edmonton, Alberta', 'El Paso County, CO', 'Fairfax County, VA',\n",
              "       'Fairfield County, CT', 'Faroe Islands', 'Fayette County, KY',\n",
              "       'Florida', 'Floyd County, GA', 'Fort Bend County, TX', 'France',\n",
              "       'Fresno County, CA', 'From Diamond Princess', 'Fujian',\n",
              "       'Fulton County, GA', 'Gansu', 'Georgia', 'Gibraltar',\n",
              "       'Grafton County, NH', 'Grand Princess',\n",
              "       'Grand Princess Cruise Ship', 'Grant County, WA', 'Guangdong',\n",
              "       'Guangxi', 'Guizhou', 'Hainan', 'Harford County, MD',\n",
              "       'Harris County, TX', 'Harrison County, KY', 'Hawaii', 'Hebei',\n",
              "       'Heilongjiang', 'Henan', 'Hendricks County, IN',\n",
              "       'Hillsborough, FL', 'Hong Kong', 'Honolulu County, HI', 'Hubei',\n",
              "       'Hudson County, NJ', 'Humboldt County, CA', 'Hunan', 'Idaho',\n",
              "       'Illinois', 'Indiana', 'Inner Mongolia', 'Iowa',\n",
              "       'Jackson County, OR ', 'Jefferson County, KY',\n",
              "       'Jefferson County, WA', 'Jefferson Parish, LA', 'Jiangsu',\n",
              "       'Jiangxi', 'Jilin', 'Johnson County, IA', 'Johnson County, KS',\n",
              "       'Kansas', 'Kentucky', 'Kershaw County, SC', 'King County, WA',\n",
              "       'Kittitas County, WA', 'Klamath County, OR', 'Lackland, TX',\n",
              "       'Lackland, TX (From Diamond Princess)', 'Lee County, FL',\n",
              "       'Liaoning', 'London, ON', 'Los Angeles, CA', 'Louisiana', 'Macau',\n",
              "       'Madera County, CA', 'Madison, WI', 'Maine', 'Manatee County, FL',\n",
              "       'Maricopa County, AZ', 'Marion County, IN', 'Marion County, OR',\n",
              "       'Maryland', 'Massachusetts', 'Michigan', 'Middlesex County, MA',\n",
              "       'Minnesota', 'Mississippi', 'Missouri', 'Montana',\n",
              "       'Montgomery County, MD', 'Montgomery County, PA',\n",
              "       'Montgomery County, TX', 'Nassau County, NY', 'Nebraska', 'Nevada',\n",
              "       'New Brunswick', 'New Hampshire', 'New Jersey', 'New Mexico',\n",
              "       'New South Wales', 'New York', 'New York City, NY',\n",
              "       'New York County, NY', 'Ningxia', 'None', 'Norfolk County, MA',\n",
              "       'North Carolina', 'North Dakota', 'Northern Territory',\n",
              "       'Norwell County, MA', 'Ohio', 'Okaloosa County, FL', 'Oklahoma',\n",
              "       'Omaha, NE (From Diamond Princess)', 'Ontario',\n",
              "       'Orange County, CA', 'Orange, CA', 'Oregon', 'Pennsylvania',\n",
              "       'Pierce County, WA', 'Pinal County, AZ', 'Placer County, CA',\n",
              "       'Plymouth County, MA', 'Polk County, GA', 'Portland, OR',\n",
              "       'Providence County, RI', 'Providence, RI', 'Qinghai', 'Quebec',\n",
              "       'Queens County, NY', 'Queensland', 'Ramsey County, MN',\n",
              "       'Rhode Island', 'Riverside County, CA', 'Rockingham County, NH',\n",
              "       'Rockland County, NY', 'Sacramento County, CA', 'Saint Barthelemy',\n",
              "       'San Antonio, TX', 'San Benito, CA', 'San Diego County, CA',\n",
              "       'San Francisco County, CA', 'San Mateo, CA',\n",
              "       'Santa Clara County, CA', 'Santa Clara, CA',\n",
              "       'Santa Cruz County, CA', 'Santa Rosa County, FL', 'Sarasota, FL',\n",
              "       'Saratoga County, NY', 'Seattle, WA', 'Shaanxi', 'Shandong',\n",
              "       'Shanghai', 'Shanxi', 'Shasta County, CA', 'Shelby County, TN',\n",
              "       'Sichuan', 'Snohomish County, WA', 'Sonoma County, CA',\n",
              "       'South Australia', 'South Carolina', 'South Dakota',\n",
              "       'Spartanburg County, SC', 'Spokane County, WA', 'St Martin',\n",
              "       'St. Louis County, MO', 'Suffolk County, MA', 'Suffolk County, NY',\n",
              "       'Summit County, CO', 'Taiwan', 'Tasmania', 'Tempe, AZ',\n",
              "       'Tennessee', 'Texas', 'Tianjin', 'Tibet', 'Toronto, ON',\n",
              "       'Travis, CA', 'Travis, CA (From Diamond Princess)',\n",
              "       'Tulsa County, OK', 'UK', 'Ulster County, NY', 'Umatilla, OR',\n",
              "       'Unassigned Location (From Diamond Princess)',\n",
              "       'Unassigned Location, VT', 'Unassigned Location, WA',\n",
              "       'Unknown Location, MA', 'Utah', 'Vermont', 'Victoria', 'Virginia',\n",
              "       'Volusia County, FL', 'Wake County, NC', 'Washington',\n",
              "       'Washington County, OR', 'Washington, D.C.', 'Washoe County, NV',\n",
              "       'Wayne County, PA', 'West Virginia', 'Westchester County, NY',\n",
              "       'Western Australia', 'Williamson County, TN', 'Wisconsin',\n",
              "       'Wyoming', 'Xinjiang', 'Yolo County, CA', 'Yunnan', 'Zhejiang'],\n",
              "      dtype=object)"
            ]
          },
          "metadata": {
            "tags": []
          },
          "execution_count": 254
        }
      ]
    },
    {
      "cell_type": "code",
      "metadata": {
        "id": "jfkFF28x84oz",
        "colab_type": "code",
        "colab": {},
        "outputId": "e7dcef63-eea8-4847-e7b4-34c2626520cd"
      },
      "source": [
        "np.unique(data_imp31)"
      ],
      "execution_count": 0,
      "outputs": [
        {
          "output_type": "execute_result",
          "data": {
            "text/plain": [
              "array(['!!!',\n",
              "       '!!!Dont waste time! Failed Samsung flagship phone galaxy s8, Installed ,shows rotating circle internet download, keeps rotates forever proper progress indication; finally shows failed download. Stupid game developers. Go NFS working good.',\n",
              "       '\"...Future Follow updated follow\"...', ..., '♡ Amazon',\n",
              "       '❤❤ sometimes hands typing is not convenient to use, except this update on a version 10.19 a nice keyboard hands-on',\n",
              "       '搵楼租楼 A lot of time, a lot of time management, easy to take care of'],\n",
              "      dtype=object)"
            ]
          },
          "metadata": {
            "tags": []
          },
          "execution_count": 255
        }
      ]
    },
    {
      "cell_type": "code",
      "metadata": {
        "id": "S4jtxCPw84o0",
        "colab_type": "code",
        "colab": {},
        "outputId": "c9a630e4-1e31-404a-adba-36605e17cf17"
      },
      "source": [
        "np.unique(data_imp311)"
      ],
      "execution_count": 0,
      "outputs": [
        {
          "output_type": "execute_result",
          "data": {
            "text/plain": [
              "array(['!!!', 'Negative', 'Neutral', 'Positive'], dtype=object)"
            ]
          },
          "metadata": {
            "tags": []
          },
          "execution_count": 256
        }
      ]
    },
    {
      "cell_type": "code",
      "metadata": {
        "id": "sIDWNogM84o1",
        "colab_type": "code",
        "colab": {},
        "outputId": "e66c6650-f64c-4ad0-c096-34f7531b87e6"
      },
      "source": [
        "data_imp3[data_imp3=='!!!'].size"
      ],
      "execution_count": 0,
      "outputs": [
        {
          "output_type": "execute_result",
          "data": {
            "text/plain": [
              "1815"
            ]
          },
          "metadata": {
            "tags": []
          },
          "execution_count": 257
        }
      ]
    },
    {
      "cell_type": "code",
      "metadata": {
        "id": "c4JJCGDZ84o3",
        "colab_type": "code",
        "colab": {},
        "outputId": "739a3f27-74c1-4178-8c4a-4e5dce6c291d"
      },
      "source": [
        "data_imp31[data_imp31=='!!!'].size"
      ],
      "execution_count": 0,
      "outputs": [
        {
          "output_type": "execute_result",
          "data": {
            "text/plain": [
              "26868"
            ]
          },
          "metadata": {
            "tags": []
          },
          "execution_count": 258
        }
      ]
    },
    {
      "cell_type": "code",
      "metadata": {
        "id": "vuDFQQZx84o4",
        "colab_type": "code",
        "colab": {},
        "outputId": "8e4c30d2-7742-40d4-f2fa-f1d2b5354649"
      },
      "source": [
        "data_imp311[data_imp311=='!!!'].size"
      ],
      "execution_count": 0,
      "outputs": [
        {
          "output_type": "execute_result",
          "data": {
            "text/plain": [
              "26863"
            ]
          },
          "metadata": {
            "tags": []
          },
          "execution_count": 259
        }
      ]
    },
    {
      "cell_type": "code",
      "metadata": {
        "id": "3WhczrlP84o5",
        "colab_type": "code",
        "colab": {},
        "outputId": "f5a02740-0e93-44ba-9722-e08a3bc26429"
      },
      "source": [
        "data5.shape\n"
      ],
      "execution_count": 0,
      "outputs": [
        {
          "output_type": "execute_result",
          "data": {
            "text/plain": [
              "(4935, 8)"
            ]
          },
          "metadata": {
            "tags": []
          },
          "execution_count": 260
        }
      ]
    },
    {
      "cell_type": "code",
      "metadata": {
        "id": "k5THuqs184o8",
        "colab_type": "code",
        "colab": {},
        "outputId": "4f4b4f16-2719-410a-a55e-001138d76231"
      },
      "source": [
        "data1.shape\n"
      ],
      "execution_count": 0,
      "outputs": [
        {
          "output_type": "execute_result",
          "data": {
            "text/plain": [
              "(64295, 5)"
            ]
          },
          "metadata": {
            "tags": []
          },
          "execution_count": 261
        }
      ]
    },
    {
      "cell_type": "markdown",
      "metadata": {
        "id": "a0tOwLAz84pA",
        "colab_type": "text"
      },
      "source": [
        "## Преобразование категориальных признаков в числовые"
      ]
    },
    {
      "cell_type": "code",
      "metadata": {
        "id": "LfIjAItI84pB",
        "colab_type": "code",
        "colab": {},
        "outputId": "30fbe952-0c92-471a-b2c6-24f5d8fa01e9"
      },
      "source": [
        "cat_enc = pd.DataFrame({'c1':data_imp2.T[0]})\n",
        "cat_enc"
      ],
      "execution_count": 0,
      "outputs": [
        {
          "output_type": "execute_result",
          "data": {
            "text/html": [
              "<div>\n",
              "<style scoped>\n",
              "    .dataframe tbody tr th:only-of-type {\n",
              "        vertical-align: middle;\n",
              "    }\n",
              "\n",
              "    .dataframe tbody tr th {\n",
              "        vertical-align: top;\n",
              "    }\n",
              "\n",
              "    .dataframe thead th {\n",
              "        text-align: right;\n",
              "    }\n",
              "</style>\n",
              "<table border=\"1\" class=\"dataframe\">\n",
              "  <thead>\n",
              "    <tr style=\"text-align: right;\">\n",
              "      <th></th>\n",
              "      <th>c1</th>\n",
              "    </tr>\n",
              "  </thead>\n",
              "  <tbody>\n",
              "    <tr>\n",
              "      <th>0</th>\n",
              "      <td>Anhui</td>\n",
              "    </tr>\n",
              "    <tr>\n",
              "      <th>1</th>\n",
              "      <td>Beijing</td>\n",
              "    </tr>\n",
              "    <tr>\n",
              "      <th>2</th>\n",
              "      <td>Chongqing</td>\n",
              "    </tr>\n",
              "    <tr>\n",
              "      <th>3</th>\n",
              "      <td>Fujian</td>\n",
              "    </tr>\n",
              "    <tr>\n",
              "      <th>4</th>\n",
              "      <td>Gansu</td>\n",
              "    </tr>\n",
              "    <tr>\n",
              "      <th>...</th>\n",
              "      <td>...</td>\n",
              "    </tr>\n",
              "    <tr>\n",
              "      <th>4930</th>\n",
              "      <td>Mississippi</td>\n",
              "    </tr>\n",
              "    <tr>\n",
              "      <th>4931</th>\n",
              "      <td>North Dakota</td>\n",
              "    </tr>\n",
              "    <tr>\n",
              "      <th>4932</th>\n",
              "      <td>West Virginia</td>\n",
              "    </tr>\n",
              "    <tr>\n",
              "      <th>4933</th>\n",
              "      <td>Wyoming</td>\n",
              "    </tr>\n",
              "    <tr>\n",
              "      <th>4934</th>\n",
              "      <td>Gansu</td>\n",
              "    </tr>\n",
              "  </tbody>\n",
              "</table>\n",
              "<p>4935 rows × 1 columns</p>\n",
              "</div>"
            ],
            "text/plain": [
              "                 c1\n",
              "0             Anhui\n",
              "1           Beijing\n",
              "2         Chongqing\n",
              "3            Fujian\n",
              "4             Gansu\n",
              "...             ...\n",
              "4930    Mississippi\n",
              "4931   North Dakota\n",
              "4932  West Virginia\n",
              "4933        Wyoming\n",
              "4934          Gansu\n",
              "\n",
              "[4935 rows x 1 columns]"
            ]
          },
          "metadata": {
            "tags": []
          },
          "execution_count": 262
        }
      ]
    },
    {
      "cell_type": "code",
      "metadata": {
        "id": "qIMqYl3k84pC",
        "colab_type": "code",
        "colab": {},
        "outputId": "592fe885-74b8-4477-db47-475b5f3e47fa"
      },
      "source": [
        "cat_enc1 = pd.DataFrame({'c1':data_imp21.T[0]})\n",
        "cat_enc1"
      ],
      "execution_count": 0,
      "outputs": [
        {
          "output_type": "execute_result",
          "data": {
            "text/html": [
              "<div>\n",
              "<style scoped>\n",
              "    .dataframe tbody tr th:only-of-type {\n",
              "        vertical-align: middle;\n",
              "    }\n",
              "\n",
              "    .dataframe tbody tr th {\n",
              "        vertical-align: top;\n",
              "    }\n",
              "\n",
              "    .dataframe thead th {\n",
              "        text-align: right;\n",
              "    }\n",
              "</style>\n",
              "<table border=\"1\" class=\"dataframe\">\n",
              "  <thead>\n",
              "    <tr style=\"text-align: right;\">\n",
              "      <th></th>\n",
              "      <th>c1</th>\n",
              "    </tr>\n",
              "  </thead>\n",
              "  <tbody>\n",
              "    <tr>\n",
              "      <th>0</th>\n",
              "      <td>I like eat delicious food. That's I'm cooking ...</td>\n",
              "    </tr>\n",
              "    <tr>\n",
              "      <th>1</th>\n",
              "      <td>This help eating healthy exercise regular basis</td>\n",
              "    </tr>\n",
              "    <tr>\n",
              "      <th>2</th>\n",
              "      <td>Good</td>\n",
              "    </tr>\n",
              "    <tr>\n",
              "      <th>3</th>\n",
              "      <td>Works great especially going grocery store</td>\n",
              "    </tr>\n",
              "    <tr>\n",
              "      <th>4</th>\n",
              "      <td>Best idea us</td>\n",
              "    </tr>\n",
              "    <tr>\n",
              "      <th>...</th>\n",
              "      <td>...</td>\n",
              "    </tr>\n",
              "    <tr>\n",
              "      <th>64290</th>\n",
              "      <td>Good</td>\n",
              "    </tr>\n",
              "    <tr>\n",
              "      <th>64291</th>\n",
              "      <td>Good</td>\n",
              "    </tr>\n",
              "    <tr>\n",
              "      <th>64292</th>\n",
              "      <td>Good</td>\n",
              "    </tr>\n",
              "    <tr>\n",
              "      <th>64293</th>\n",
              "      <td>Good</td>\n",
              "    </tr>\n",
              "    <tr>\n",
              "      <th>64294</th>\n",
              "      <td>Good</td>\n",
              "    </tr>\n",
              "  </tbody>\n",
              "</table>\n",
              "<p>64295 rows × 1 columns</p>\n",
              "</div>"
            ],
            "text/plain": [
              "                                                      c1\n",
              "0      I like eat delicious food. That's I'm cooking ...\n",
              "1        This help eating healthy exercise regular basis\n",
              "2                                                   Good\n",
              "3             Works great especially going grocery store\n",
              "4                                           Best idea us\n",
              "...                                                  ...\n",
              "64290                                               Good\n",
              "64291                                               Good\n",
              "64292                                               Good\n",
              "64293                                               Good\n",
              "64294                                               Good\n",
              "\n",
              "[64295 rows x 1 columns]"
            ]
          },
          "metadata": {
            "tags": []
          },
          "execution_count": 263
        }
      ]
    },
    {
      "cell_type": "code",
      "metadata": {
        "id": "58Nu-NdG84pE",
        "colab_type": "code",
        "colab": {},
        "outputId": "f54dfecb-749d-42a5-f180-7299f6e3b70d"
      },
      "source": [
        "cat_enc11 = pd.DataFrame({'c1':data_imp211.T[0]})\n",
        "cat_enc11"
      ],
      "execution_count": 0,
      "outputs": [
        {
          "output_type": "execute_result",
          "data": {
            "text/html": [
              "<div>\n",
              "<style scoped>\n",
              "    .dataframe tbody tr th:only-of-type {\n",
              "        vertical-align: middle;\n",
              "    }\n",
              "\n",
              "    .dataframe tbody tr th {\n",
              "        vertical-align: top;\n",
              "    }\n",
              "\n",
              "    .dataframe thead th {\n",
              "        text-align: right;\n",
              "    }\n",
              "</style>\n",
              "<table border=\"1\" class=\"dataframe\">\n",
              "  <thead>\n",
              "    <tr style=\"text-align: right;\">\n",
              "      <th></th>\n",
              "      <th>c1</th>\n",
              "    </tr>\n",
              "  </thead>\n",
              "  <tbody>\n",
              "    <tr>\n",
              "      <th>0</th>\n",
              "      <td>Positive</td>\n",
              "    </tr>\n",
              "    <tr>\n",
              "      <th>1</th>\n",
              "      <td>Positive</td>\n",
              "    </tr>\n",
              "    <tr>\n",
              "      <th>2</th>\n",
              "      <td>Positive</td>\n",
              "    </tr>\n",
              "    <tr>\n",
              "      <th>3</th>\n",
              "      <td>Positive</td>\n",
              "    </tr>\n",
              "    <tr>\n",
              "      <th>4</th>\n",
              "      <td>Positive</td>\n",
              "    </tr>\n",
              "    <tr>\n",
              "      <th>...</th>\n",
              "      <td>...</td>\n",
              "    </tr>\n",
              "    <tr>\n",
              "      <th>64290</th>\n",
              "      <td>Positive</td>\n",
              "    </tr>\n",
              "    <tr>\n",
              "      <th>64291</th>\n",
              "      <td>Positive</td>\n",
              "    </tr>\n",
              "    <tr>\n",
              "      <th>64292</th>\n",
              "      <td>Positive</td>\n",
              "    </tr>\n",
              "    <tr>\n",
              "      <th>64293</th>\n",
              "      <td>Positive</td>\n",
              "    </tr>\n",
              "    <tr>\n",
              "      <th>64294</th>\n",
              "      <td>Positive</td>\n",
              "    </tr>\n",
              "  </tbody>\n",
              "</table>\n",
              "<p>64295 rows × 1 columns</p>\n",
              "</div>"
            ],
            "text/plain": [
              "             c1\n",
              "0      Positive\n",
              "1      Positive\n",
              "2      Positive\n",
              "3      Positive\n",
              "4      Positive\n",
              "...         ...\n",
              "64290  Positive\n",
              "64291  Positive\n",
              "64292  Positive\n",
              "64293  Positive\n",
              "64294  Positive\n",
              "\n",
              "[64295 rows x 1 columns]"
            ]
          },
          "metadata": {
            "tags": []
          },
          "execution_count": 264
        }
      ]
    },
    {
      "cell_type": "markdown",
      "metadata": {
        "id": "m8oi9PbY84pF",
        "colab_type": "text"
      },
      "source": [
        "## Кодирование категорий целочисленными значениями "
      ]
    },
    {
      "cell_type": "code",
      "metadata": {
        "id": "AGsrOdwD84pF",
        "colab_type": "code",
        "colab": {}
      },
      "source": [
        "from sklearn.preprocessing import LabelEncoder, OneHotEncoder"
      ],
      "execution_count": 0,
      "outputs": []
    },
    {
      "cell_type": "code",
      "metadata": {
        "id": "WBHPQPGD84pG",
        "colab_type": "code",
        "colab": {}
      },
      "source": [
        "le = LabelEncoder()\n",
        "cat_enc_le = le.fit_transform(cat_enc['c1'])"
      ],
      "execution_count": 0,
      "outputs": []
    },
    {
      "cell_type": "code",
      "metadata": {
        "id": "PiohPa_M84pH",
        "colab_type": "code",
        "colab": {}
      },
      "source": [
        "le1 = LabelEncoder()\n",
        "cat_enc_le1 = le1.fit_transform(cat_enc1['c1'])"
      ],
      "execution_count": 0,
      "outputs": []
    },
    {
      "cell_type": "code",
      "metadata": {
        "id": "h9Z2Iw9w84pI",
        "colab_type": "code",
        "colab": {}
      },
      "source": [
        "le11 = LabelEncoder()\n",
        "cat_enc_le11 = le11.fit_transform(cat_enc11['c1'])"
      ],
      "execution_count": 0,
      "outputs": []
    },
    {
      "cell_type": "code",
      "metadata": {
        "id": "NjgWrbdQ84pJ",
        "colab_type": "code",
        "colab": {},
        "outputId": "85e93f1b-2775-4e0b-a2b9-af3e8ae80035"
      },
      "source": [
        "cat_enc['c1'].unique()"
      ],
      "execution_count": 0,
      "outputs": [
        {
          "output_type": "execute_result",
          "data": {
            "text/plain": [
              "array(['Anhui', 'Beijing', 'Chongqing', 'Fujian', 'Gansu', 'Guangdong',\n",
              "       'Guangxi', 'Guizhou', 'Hainan', 'Hebei', 'Heilongjiang', 'Henan',\n",
              "       'Hong Kong', 'Hubei', 'Hunan', 'Inner Mongolia', 'Jiangsu',\n",
              "       'Jiangxi', 'Jilin', 'Liaoning', 'Macau', 'Ningxia', 'Qinghai',\n",
              "       'Shaanxi', 'Shandong', 'Shanghai', 'Shanxi', 'Sichuan', 'Taiwan',\n",
              "       'Tianjin', 'Tibet', 'Washington', 'Xinjiang', 'Yunnan', 'Zhejiang',\n",
              "       'Chicago', 'Illinois', 'California', 'Arizona', 'Ontario',\n",
              "       'New South Wales', 'Victoria', 'British Columbia', 'Bavaria',\n",
              "       'Queensland', 'Chicago, IL', 'South Australia', 'Boston, MA',\n",
              "       'Los Angeles, CA', 'Orange, CA', 'Santa Clara, CA', 'Seattle, WA',\n",
              "       'Tempe, AZ', 'San Benito, CA', 'Toronto, ON', 'London, ON',\n",
              "       'Madison, WI', 'Cruise Ship', 'Diamond Princess cruise ship',\n",
              "       'San Diego County, CA', 'San Antonio, TX', 'Ashland, NE',\n",
              "       'Travis, CA', 'From Diamond Princess', 'Lackland, TX', 'None',\n",
              "       'Humboldt County, CA', 'Sacramento County, CA',\n",
              "       'Omaha, NE (From Diamond Princess)',\n",
              "       'Travis, CA (From Diamond Princess)',\n",
              "       'Lackland, TX (From Diamond Princess)',\n",
              "       'Unassigned Location (From Diamond Princess)', ' Montreal, QC',\n",
              "       'Western Australia', 'Portland, OR', 'Snohomish County, WA',\n",
              "       'Providence, RI', 'King County, WA', 'Cook County, IL', 'Tasmania',\n",
              "       'Grafton County, NH', 'Hillsborough, FL', 'New York City, NY',\n",
              "       'Placer County, CA', 'San Mateo, CA', 'Sarasota, FL',\n",
              "       'Sonoma County, CA', 'Umatilla, OR', 'Fulton County, GA',\n",
              "       'Washington County, OR', ' Norfolk County, MA', 'Berkeley, CA',\n",
              "       'Maricopa County, AZ', 'Wake County, NC', 'Westchester County, NY',\n",
              "       'Orange County, CA', 'Northern Territory',\n",
              "       'Contra Costa County, CA', 'Bergen County, NJ',\n",
              "       'Harris County, TX', 'San Francisco County, CA',\n",
              "       'Clark County, NV', 'Fort Bend County, TX', 'Grant County, WA',\n",
              "       'Queens County, NY', 'Santa Rosa County, FL',\n",
              "       'Williamson County, TN', 'New York County, NY',\n",
              "       'Unassigned Location, WA', 'Montgomery County, MD',\n",
              "       'Suffolk County, MA', 'Denver County, CO', 'Summit County, CO',\n",
              "       'Calgary, Alberta', 'Chatham County, NC', 'Delaware County, PA',\n",
              "       'Douglas County, NE', 'Fayette County, KY', 'Floyd County, GA',\n",
              "       'Marion County, IN', 'Middlesex County, MA', 'Nassau County, NY',\n",
              "       'Norwell County, MA', 'Ramsey County, MN', 'Washoe County, NV',\n",
              "       'Wayne County, PA', 'Yolo County, CA', 'Santa Clara County, CA',\n",
              "       'Grand Princess Cruise Ship', 'Douglas County, CO',\n",
              "       'Providence County, RI', 'Alameda County, CA',\n",
              "       'Broward County, FL', 'Fairfield County, CT', 'Lee County, FL',\n",
              "       'Pinal County, AZ', 'Rockland County, NY', 'Saratoga County, NY',\n",
              "       'Edmonton, Alberta', 'Charleston County, SC', 'Clark County, WA',\n",
              "       'Cobb County, GA', 'Davis County, UT', 'El Paso County, CO',\n",
              "       'Honolulu County, HI', 'Jackson County, OR ',\n",
              "       'Jefferson County, WA', 'Kershaw County, SC', 'Klamath County, OR',\n",
              "       'Madera County, CA', 'Pierce County, WA', 'Plymouth County, MA',\n",
              "       'Santa Cruz County, CA', 'Tulsa County, OK',\n",
              "       'Montgomery County, TX', 'Norfolk County, MA',\n",
              "       'Montgomery County, PA', 'Fairfax County, VA',\n",
              "       'Rockingham County, NH', 'Washington, D.C.',\n",
              "       'Berkshire County, MA', 'Davidson County, TN',\n",
              "       'Douglas County, OR', 'Fresno County, CA', 'Harford County, MD',\n",
              "       'Hendricks County, IN', 'Hudson County, NJ', 'Johnson County, KS',\n",
              "       'Kittitas County, WA', 'Manatee County, FL', 'Marion County, OR',\n",
              "       'Okaloosa County, FL', 'Polk County, GA', 'Riverside County, CA',\n",
              "       'Shelby County, TN', 'Spokane County, WA', 'St. Louis County, MO',\n",
              "       'Suffolk County, NY', 'Ulster County, NY',\n",
              "       'Unassigned Location, VT', 'Unknown Location, MA',\n",
              "       'Volusia County, FL', 'Alberta', 'Quebec', 'Johnson County, IA',\n",
              "       'Harrison County, KY', 'Bennington County, VT',\n",
              "       'Carver County, MN', 'Charlotte County, FL', 'Cherokee County, GA',\n",
              "       'Collin County, TX', 'Jefferson County, KY',\n",
              "       'Jefferson Parish, LA', 'Shasta County, CA',\n",
              "       'Spartanburg County, SC', 'New York', 'Massachusetts',\n",
              "       'Grand Princess', 'Georgia', 'Colorado', 'Florida', 'New Jersey',\n",
              "       'Oregon', 'Texas', 'Pennsylvania', 'Iowa', 'Maryland',\n",
              "       'North Carolina', 'South Carolina', 'Tennessee', 'Virginia',\n",
              "       'Indiana', 'Kentucky', 'District of Columbia', 'Nevada',\n",
              "       'New Hampshire', 'Minnesota', 'Nebraska', 'Ohio', 'Rhode Island',\n",
              "       'Wisconsin', 'Connecticut', 'Hawaii', 'Oklahoma', 'Utah', 'Kansas',\n",
              "       'Louisiana', 'Missouri', 'Vermont', 'Alaska', 'Arkansas',\n",
              "       'Delaware', 'Idaho', 'Maine', 'Michigan', 'Mississippi', 'Montana',\n",
              "       'New Mexico', 'North Dakota', 'South Dakota', 'West Virginia',\n",
              "       'Wyoming', 'France', 'UK', 'Denmark', 'Faroe Islands', 'St Martin',\n",
              "       'Channel Islands', 'New Brunswick', 'Saint Barthelemy',\n",
              "       'Gibraltar'], dtype=object)"
            ]
          },
          "metadata": {
            "tags": []
          },
          "execution_count": 269
        }
      ]
    },
    {
      "cell_type": "code",
      "metadata": {
        "id": "bz21Jr_z84pK",
        "colab_type": "code",
        "colab": {},
        "outputId": "209c2152-351a-4571-fbf4-6c7fd773bdc9"
      },
      "source": [
        "cat_enc1['c1'].unique()"
      ],
      "execution_count": 0,
      "outputs": [
        {
          "output_type": "execute_result",
          "data": {
            "text/plain": [
              "array(['I like eat delicious food. That\\'s I\\'m cooking food myself, case \"10 Best Foods\" helps lot, also \"Best Before (Shelf Life)\"',\n",
              "       'This help eating healthy exercise regular basis', 'Good', ...,\n",
              "       'Dumb app, I wanted post property rent give option. Website work. Waste time space phone.',\n",
              "       'I property business got link SMS happy performance still guys need raise bar guys Cheers',\n",
              "       'Useless app, I searched flats kondapur, Hyderabad . None number reachable I know flats unavailable would keep posts active'],\n",
              "      dtype=object)"
            ]
          },
          "metadata": {
            "tags": []
          },
          "execution_count": 270
        }
      ]
    },
    {
      "cell_type": "code",
      "metadata": {
        "id": "cVs3QgpG84pL",
        "colab_type": "code",
        "colab": {},
        "outputId": "21824f20-296f-4f21-8a0f-1e495127e315"
      },
      "source": [
        "cat_enc11['c1'].unique()"
      ],
      "execution_count": 0,
      "outputs": [
        {
          "output_type": "execute_result",
          "data": {
            "text/plain": [
              "array(['Positive', 'Neutral', 'Negative'], dtype=object)"
            ]
          },
          "metadata": {
            "tags": []
          },
          "execution_count": 271
        }
      ]
    },
    {
      "cell_type": "code",
      "metadata": {
        "id": "rOZC6Xnr84pN",
        "colab_type": "code",
        "colab": {},
        "outputId": "3ded7fd2-5e87-47e8-9b83-7a816fb24f4f"
      },
      "source": [
        "np.unique(cat_enc_le)"
      ],
      "execution_count": 0,
      "outputs": [
        {
          "output_type": "execute_result",
          "data": {
            "text/plain": [
              "array([  0,   1,   2,   3,   4,   5,   6,   7,   8,   9,  10,  11,  12,\n",
              "        13,  14,  15,  16,  17,  18,  19,  20,  21,  22,  23,  24,  25,\n",
              "        26,  27,  28,  29,  30,  31,  32,  33,  34,  35,  36,  37,  38,\n",
              "        39,  40,  41,  42,  43,  44,  45,  46,  47,  48,  49,  50,  51,\n",
              "        52,  53,  54,  55,  56,  57,  58,  59,  60,  61,  62,  63,  64,\n",
              "        65,  66,  67,  68,  69,  70,  71,  72,  73,  74,  75,  76,  77,\n",
              "        78,  79,  80,  81,  82,  83,  84,  85,  86,  87,  88,  89,  90,\n",
              "        91,  92,  93,  94,  95,  96,  97,  98,  99, 100, 101, 102, 103,\n",
              "       104, 105, 106, 107, 108, 109, 110, 111, 112, 113, 114, 115, 116,\n",
              "       117, 118, 119, 120, 121, 122, 123, 124, 125, 126, 127, 128, 129,\n",
              "       130, 131, 132, 133, 134, 135, 136, 137, 138, 139, 140, 141, 142,\n",
              "       143, 144, 145, 146, 147, 148, 149, 150, 151, 152, 153, 154, 155,\n",
              "       156, 157, 158, 159, 160, 161, 162, 163, 164, 165, 166, 167, 168,\n",
              "       169, 170, 171, 172, 173, 174, 175, 176, 177, 178, 179, 180, 181,\n",
              "       182, 183, 184, 185, 186, 187, 188, 189, 190, 191, 192, 193, 194,\n",
              "       195, 196, 197, 198, 199, 200, 201, 202, 203, 204, 205, 206, 207,\n",
              "       208, 209, 210, 211, 212, 213, 214, 215, 216, 217, 218, 219, 220,\n",
              "       221, 222, 223, 224, 225, 226, 227, 228, 229, 230, 231, 232, 233,\n",
              "       234, 235, 236, 237, 238, 239, 240, 241, 242, 243, 244, 245, 246,\n",
              "       247, 248, 249, 250])"
            ]
          },
          "metadata": {
            "tags": []
          },
          "execution_count": 272
        }
      ]
    },
    {
      "cell_type": "code",
      "metadata": {
        "id": "DSDeb0S884pO",
        "colab_type": "code",
        "colab": {},
        "outputId": "391bb8e6-4d80-43bd-fdcf-bd5f3684d12c"
      },
      "source": [
        "np.unique(cat_enc_le1)"
      ],
      "execution_count": 0,
      "outputs": [
        {
          "output_type": "execute_result",
          "data": {
            "text/plain": [
              "array([    0,     1,     2, ..., 27991, 27992, 27993])"
            ]
          },
          "metadata": {
            "tags": []
          },
          "execution_count": 273
        }
      ]
    },
    {
      "cell_type": "code",
      "metadata": {
        "id": "0N-nu3q184pP",
        "colab_type": "code",
        "colab": {},
        "outputId": "9df05d0e-69e2-483f-d7ce-3a82abfdea36"
      },
      "source": [
        "np.unique(cat_enc_le11)"
      ],
      "execution_count": 0,
      "outputs": [
        {
          "output_type": "execute_result",
          "data": {
            "text/plain": [
              "array([0, 1, 2])"
            ]
          },
          "metadata": {
            "tags": []
          },
          "execution_count": 274
        }
      ]
    },
    {
      "cell_type": "code",
      "metadata": {
        "id": "AfgM2qUD84pQ",
        "colab_type": "code",
        "colab": {},
        "outputId": "3af0a037-9d70-44b2-c090-d6c4f28d651c"
      },
      "source": [
        "le.inverse_transform([0, 1, 2])"
      ],
      "execution_count": 0,
      "outputs": [
        {
          "output_type": "execute_result",
          "data": {
            "text/plain": [
              "array([' Montreal, QC', ' Norfolk County, MA', 'Alameda County, CA'],\n",
              "      dtype=object)"
            ]
          },
          "metadata": {
            "tags": []
          },
          "execution_count": 275
        }
      ]
    },
    {
      "cell_type": "code",
      "metadata": {
        "id": "xgTDEaw584pR",
        "colab_type": "code",
        "colab": {},
        "outputId": "ec84e4e2-b04c-46f0-ebb8-d935a49599d7"
      },
      "source": [
        "le1.inverse_transform([0, 1, 2])"
      ],
      "execution_count": 0,
      "outputs": [
        {
          "output_type": "execute_result",
          "data": {
            "text/plain": [
              "array(['!!!Dont waste time! Failed Samsung flagship phone galaxy s8, Installed ,shows rotating circle internet download, keeps rotates forever proper progress indication; finally shows failed download. Stupid game developers. Go NFS working good.',\n",
              "       '\"...Future Follow updated follow\"...',\n",
              "       '\"An error occurred while loading the search results. Please try again.\" And so it\\'s already 2 days. The reinstallation did not help'],\n",
              "      dtype=object)"
            ]
          },
          "metadata": {
            "tags": []
          },
          "execution_count": 276
        }
      ]
    },
    {
      "cell_type": "code",
      "metadata": {
        "id": "ISM_FPjT84pS",
        "colab_type": "code",
        "colab": {},
        "outputId": "752a1071-3778-4589-87de-5ef0ee632e3e"
      },
      "source": [
        "le11.inverse_transform([0, 1, 2])"
      ],
      "execution_count": 0,
      "outputs": [
        {
          "output_type": "execute_result",
          "data": {
            "text/plain": [
              "array(['Negative', 'Neutral', 'Positive'], dtype=object)"
            ]
          },
          "metadata": {
            "tags": []
          },
          "execution_count": 277
        }
      ]
    },
    {
      "cell_type": "markdown",
      "metadata": {
        "id": "xiHIElQM84pT",
        "colab_type": "text"
      },
      "source": [
        "## Кодирование категорий наборами бинарных значений"
      ]
    },
    {
      "cell_type": "code",
      "metadata": {
        "id": "ntVOoUdR84pT",
        "colab_type": "code",
        "colab": {}
      },
      "source": [
        "ohe = OneHotEncoder()\n",
        "cat_enc_ohe = ohe.fit_transform(cat_enc[['c1']])"
      ],
      "execution_count": 0,
      "outputs": []
    },
    {
      "cell_type": "code",
      "metadata": {
        "id": "wMQ22FlG84pU",
        "colab_type": "code",
        "colab": {}
      },
      "source": [
        "ohe1 = OneHotEncoder()\n",
        "cat_enc_ohe1 = ohe1.fit_transform(cat_enc1[['c1']])"
      ],
      "execution_count": 0,
      "outputs": []
    },
    {
      "cell_type": "code",
      "metadata": {
        "id": "r43RKase84pY",
        "colab_type": "code",
        "colab": {}
      },
      "source": [
        "ohe11 = OneHotEncoder()\n",
        "cat_enc_ohe11 = ohe11.fit_transform(cat_enc11[['c1']])"
      ],
      "execution_count": 0,
      "outputs": []
    },
    {
      "cell_type": "code",
      "metadata": {
        "id": "-spS1N7l84pZ",
        "colab_type": "code",
        "colab": {},
        "outputId": "f6d0ff53-718b-4400-c9b7-c94ccb34661d"
      },
      "source": [
        "cat_enc.shape"
      ],
      "execution_count": 0,
      "outputs": [
        {
          "output_type": "execute_result",
          "data": {
            "text/plain": [
              "(4935, 1)"
            ]
          },
          "metadata": {
            "tags": []
          },
          "execution_count": 281
        }
      ]
    },
    {
      "cell_type": "code",
      "metadata": {
        "id": "EUAjn4Fw84pb",
        "colab_type": "code",
        "colab": {},
        "outputId": "4fa63412-8f48-4a13-c9b5-1a698f7d433e"
      },
      "source": [
        "cat_enc1.shape"
      ],
      "execution_count": 0,
      "outputs": [
        {
          "output_type": "execute_result",
          "data": {
            "text/plain": [
              "(64295, 1)"
            ]
          },
          "metadata": {
            "tags": []
          },
          "execution_count": 282
        }
      ]
    },
    {
      "cell_type": "code",
      "metadata": {
        "id": "fDImKZO984pc",
        "colab_type": "code",
        "colab": {},
        "outputId": "10080fb6-9891-4c32-fe0f-faa9456bc4f8"
      },
      "source": [
        "cat_enc11.shape"
      ],
      "execution_count": 0,
      "outputs": [
        {
          "output_type": "execute_result",
          "data": {
            "text/plain": [
              "(64295, 1)"
            ]
          },
          "metadata": {
            "tags": []
          },
          "execution_count": 283
        }
      ]
    },
    {
      "cell_type": "code",
      "metadata": {
        "id": "DLW1Uem884pd",
        "colab_type": "code",
        "colab": {},
        "outputId": "d4e98ed8-2bed-4b2b-8f0d-19fe1217ea35"
      },
      "source": [
        "cat_enc_ohe.shape"
      ],
      "execution_count": 0,
      "outputs": [
        {
          "output_type": "execute_result",
          "data": {
            "text/plain": [
              "(4935, 251)"
            ]
          },
          "metadata": {
            "tags": []
          },
          "execution_count": 284
        }
      ]
    },
    {
      "cell_type": "code",
      "metadata": {
        "id": "r4vcMSEY84pf",
        "colab_type": "code",
        "colab": {},
        "outputId": "8cbc402c-8576-487b-c165-0062a9215f0f"
      },
      "source": [
        "cat_enc_ohe1.shape"
      ],
      "execution_count": 0,
      "outputs": [
        {
          "output_type": "execute_result",
          "data": {
            "text/plain": [
              "(64295, 27994)"
            ]
          },
          "metadata": {
            "tags": []
          },
          "execution_count": 285
        }
      ]
    },
    {
      "cell_type": "code",
      "metadata": {
        "id": "n-mtHbiR84pg",
        "colab_type": "code",
        "colab": {},
        "outputId": "a03a0795-b563-4d5d-8bf9-c76aa85b3c38"
      },
      "source": [
        "cat_enc_ohe11.shape"
      ],
      "execution_count": 0,
      "outputs": [
        {
          "output_type": "execute_result",
          "data": {
            "text/plain": [
              "(64295, 3)"
            ]
          },
          "metadata": {
            "tags": []
          },
          "execution_count": 286
        }
      ]
    },
    {
      "cell_type": "code",
      "metadata": {
        "id": "GhaphcdU84ph",
        "colab_type": "code",
        "colab": {},
        "outputId": "9006389c-dde0-4698-d2f1-52a34c05620a"
      },
      "source": [
        "cat_enc_ohe"
      ],
      "execution_count": 0,
      "outputs": [
        {
          "output_type": "execute_result",
          "data": {
            "text/plain": [
              "<4935x251 sparse matrix of type '<class 'numpy.float64'>'\n",
              "\twith 4935 stored elements in Compressed Sparse Row format>"
            ]
          },
          "metadata": {
            "tags": []
          },
          "execution_count": 287
        }
      ]
    },
    {
      "cell_type": "code",
      "metadata": {
        "id": "pMmVwqrg84pj",
        "colab_type": "code",
        "colab": {},
        "outputId": "f0c82856-5ec9-41a0-a23d-0a427fcccc5f"
      },
      "source": [
        "cat_enc_ohe1"
      ],
      "execution_count": 0,
      "outputs": [
        {
          "output_type": "execute_result",
          "data": {
            "text/plain": [
              "<64295x27994 sparse matrix of type '<class 'numpy.float64'>'\n",
              "\twith 64295 stored elements in Compressed Sparse Row format>"
            ]
          },
          "metadata": {
            "tags": []
          },
          "execution_count": 288
        }
      ]
    },
    {
      "cell_type": "code",
      "metadata": {
        "id": "eVjAtTPf84pm",
        "colab_type": "code",
        "colab": {},
        "outputId": "26f48c4d-d308-4bc3-c802-dd9d75921be9"
      },
      "source": [
        "cat_enc_ohe1\n"
      ],
      "execution_count": 0,
      "outputs": [
        {
          "output_type": "execute_result",
          "data": {
            "text/plain": [
              "<64295x27994 sparse matrix of type '<class 'numpy.float64'>'\n",
              "\twith 64295 stored elements in Compressed Sparse Row format>"
            ]
          },
          "metadata": {
            "tags": []
          },
          "execution_count": 289
        }
      ]
    },
    {
      "cell_type": "code",
      "metadata": {
        "id": "95CAM4dw84pn",
        "colab_type": "code",
        "colab": {},
        "outputId": "311828d3-9079-4db0-fb5d-c8187e827079"
      },
      "source": [
        "cat_enc_ohe.todense()[0:10]"
      ],
      "execution_count": 0,
      "outputs": [
        {
          "output_type": "execute_result",
          "data": {
            "text/plain": [
              "matrix([[0., 0., 0., ..., 0., 0., 0.],\n",
              "        [0., 0., 0., ..., 0., 0., 0.],\n",
              "        [0., 0., 0., ..., 0., 0., 0.],\n",
              "        ...,\n",
              "        [0., 0., 0., ..., 0., 0., 0.],\n",
              "        [0., 0., 0., ..., 0., 0., 0.],\n",
              "        [0., 0., 0., ..., 0., 0., 0.]])"
            ]
          },
          "metadata": {
            "tags": []
          },
          "execution_count": 290
        }
      ]
    },
    {
      "cell_type": "code",
      "metadata": {
        "id": "0hLJozSe84po",
        "colab_type": "code",
        "colab": {},
        "outputId": "923c72d8-a354-4590-a168-1b2398a448e5"
      },
      "source": [
        "cat_enc_ohe1[:45000].todense()[0:10]"
      ],
      "execution_count": 0,
      "outputs": [
        {
          "output_type": "execute_result",
          "data": {
            "text/plain": [
              "matrix([[0., 0., 0., ..., 0., 0., 0.],\n",
              "        [0., 0., 0., ..., 0., 0., 0.],\n",
              "        [0., 0., 0., ..., 0., 0., 0.],\n",
              "        ...,\n",
              "        [0., 0., 0., ..., 0., 0., 0.],\n",
              "        [0., 0., 0., ..., 0., 0., 0.],\n",
              "        [0., 0., 0., ..., 0., 0., 0.]])"
            ]
          },
          "metadata": {
            "tags": []
          },
          "execution_count": 291
        }
      ]
    },
    {
      "cell_type": "code",
      "metadata": {
        "id": "H76Lff4k84pp",
        "colab_type": "code",
        "colab": {},
        "outputId": "1011abdd-f787-486f-c5e6-2bf26aca4333"
      },
      "source": [
        "cat_enc_ohe11[:45000].todense()[0:10]"
      ],
      "execution_count": 0,
      "outputs": [
        {
          "output_type": "execute_result",
          "data": {
            "text/plain": [
              "matrix([[0., 0., 1.],\n",
              "        [0., 0., 1.],\n",
              "        [0., 0., 1.],\n",
              "        [0., 0., 1.],\n",
              "        [0., 0., 1.],\n",
              "        [0., 0., 1.],\n",
              "        [0., 0., 1.],\n",
              "        [0., 0., 1.],\n",
              "        [0., 1., 0.],\n",
              "        [0., 1., 0.]])"
            ]
          },
          "metadata": {
            "tags": []
          },
          "execution_count": 292
        }
      ]
    },
    {
      "cell_type": "code",
      "metadata": {
        "id": "woPS4f9284pq",
        "colab_type": "code",
        "colab": {},
        "outputId": "64db8e2f-e5de-4c76-c8a0-d153b33eb798"
      },
      "source": [
        "cat_enc.head(10)"
      ],
      "execution_count": 0,
      "outputs": [
        {
          "output_type": "execute_result",
          "data": {
            "text/html": [
              "<div>\n",
              "<style scoped>\n",
              "    .dataframe tbody tr th:only-of-type {\n",
              "        vertical-align: middle;\n",
              "    }\n",
              "\n",
              "    .dataframe tbody tr th {\n",
              "        vertical-align: top;\n",
              "    }\n",
              "\n",
              "    .dataframe thead th {\n",
              "        text-align: right;\n",
              "    }\n",
              "</style>\n",
              "<table border=\"1\" class=\"dataframe\">\n",
              "  <thead>\n",
              "    <tr style=\"text-align: right;\">\n",
              "      <th></th>\n",
              "      <th>c1</th>\n",
              "    </tr>\n",
              "  </thead>\n",
              "  <tbody>\n",
              "    <tr>\n",
              "      <th>0</th>\n",
              "      <td>Anhui</td>\n",
              "    </tr>\n",
              "    <tr>\n",
              "      <th>1</th>\n",
              "      <td>Beijing</td>\n",
              "    </tr>\n",
              "    <tr>\n",
              "      <th>2</th>\n",
              "      <td>Chongqing</td>\n",
              "    </tr>\n",
              "    <tr>\n",
              "      <th>3</th>\n",
              "      <td>Fujian</td>\n",
              "    </tr>\n",
              "    <tr>\n",
              "      <th>4</th>\n",
              "      <td>Gansu</td>\n",
              "    </tr>\n",
              "    <tr>\n",
              "      <th>5</th>\n",
              "      <td>Guangdong</td>\n",
              "    </tr>\n",
              "    <tr>\n",
              "      <th>6</th>\n",
              "      <td>Guangxi</td>\n",
              "    </tr>\n",
              "    <tr>\n",
              "      <th>7</th>\n",
              "      <td>Guizhou</td>\n",
              "    </tr>\n",
              "    <tr>\n",
              "      <th>8</th>\n",
              "      <td>Hainan</td>\n",
              "    </tr>\n",
              "    <tr>\n",
              "      <th>9</th>\n",
              "      <td>Hebei</td>\n",
              "    </tr>\n",
              "  </tbody>\n",
              "</table>\n",
              "</div>"
            ],
            "text/plain": [
              "          c1\n",
              "0      Anhui\n",
              "1    Beijing\n",
              "2  Chongqing\n",
              "3     Fujian\n",
              "4      Gansu\n",
              "5  Guangdong\n",
              "6    Guangxi\n",
              "7    Guizhou\n",
              "8     Hainan\n",
              "9      Hebei"
            ]
          },
          "metadata": {
            "tags": []
          },
          "execution_count": 293
        }
      ]
    },
    {
      "cell_type": "code",
      "metadata": {
        "id": "CYjjjDPD84pr",
        "colab_type": "code",
        "colab": {},
        "outputId": "9bb52113-5ef4-4350-8be3-df97ed0035db"
      },
      "source": [
        "cat_enc1.head(10)"
      ],
      "execution_count": 0,
      "outputs": [
        {
          "output_type": "execute_result",
          "data": {
            "text/html": [
              "<div>\n",
              "<style scoped>\n",
              "    .dataframe tbody tr th:only-of-type {\n",
              "        vertical-align: middle;\n",
              "    }\n",
              "\n",
              "    .dataframe tbody tr th {\n",
              "        vertical-align: top;\n",
              "    }\n",
              "\n",
              "    .dataframe thead th {\n",
              "        text-align: right;\n",
              "    }\n",
              "</style>\n",
              "<table border=\"1\" class=\"dataframe\">\n",
              "  <thead>\n",
              "    <tr style=\"text-align: right;\">\n",
              "      <th></th>\n",
              "      <th>c1</th>\n",
              "    </tr>\n",
              "  </thead>\n",
              "  <tbody>\n",
              "    <tr>\n",
              "      <th>0</th>\n",
              "      <td>I like eat delicious food. That's I'm cooking ...</td>\n",
              "    </tr>\n",
              "    <tr>\n",
              "      <th>1</th>\n",
              "      <td>This help eating healthy exercise regular basis</td>\n",
              "    </tr>\n",
              "    <tr>\n",
              "      <th>2</th>\n",
              "      <td>Good</td>\n",
              "    </tr>\n",
              "    <tr>\n",
              "      <th>3</th>\n",
              "      <td>Works great especially going grocery store</td>\n",
              "    </tr>\n",
              "    <tr>\n",
              "      <th>4</th>\n",
              "      <td>Best idea us</td>\n",
              "    </tr>\n",
              "    <tr>\n",
              "      <th>5</th>\n",
              "      <td>Best way</td>\n",
              "    </tr>\n",
              "    <tr>\n",
              "      <th>6</th>\n",
              "      <td>Amazing</td>\n",
              "    </tr>\n",
              "    <tr>\n",
              "      <th>7</th>\n",
              "      <td>Good</td>\n",
              "    </tr>\n",
              "    <tr>\n",
              "      <th>8</th>\n",
              "      <td>Looking forward app,</td>\n",
              "    </tr>\n",
              "    <tr>\n",
              "      <th>9</th>\n",
              "      <td>It helpful site ! It help foods get !</td>\n",
              "    </tr>\n",
              "  </tbody>\n",
              "</table>\n",
              "</div>"
            ],
            "text/plain": [
              "                                                  c1\n",
              "0  I like eat delicious food. That's I'm cooking ...\n",
              "1    This help eating healthy exercise regular basis\n",
              "2                                               Good\n",
              "3         Works great especially going grocery store\n",
              "4                                       Best idea us\n",
              "5                                           Best way\n",
              "6                                            Amazing\n",
              "7                                               Good\n",
              "8                               Looking forward app,\n",
              "9              It helpful site ! It help foods get !"
            ]
          },
          "metadata": {
            "tags": []
          },
          "execution_count": 294
        }
      ]
    },
    {
      "cell_type": "code",
      "metadata": {
        "id": "dalvvPgm84pr",
        "colab_type": "code",
        "colab": {},
        "outputId": "f4941b33-33d7-4170-a251-4bf41254698e"
      },
      "source": [
        "cat_enc11.head(10)"
      ],
      "execution_count": 0,
      "outputs": [
        {
          "output_type": "execute_result",
          "data": {
            "text/html": [
              "<div>\n",
              "<style scoped>\n",
              "    .dataframe tbody tr th:only-of-type {\n",
              "        vertical-align: middle;\n",
              "    }\n",
              "\n",
              "    .dataframe tbody tr th {\n",
              "        vertical-align: top;\n",
              "    }\n",
              "\n",
              "    .dataframe thead th {\n",
              "        text-align: right;\n",
              "    }\n",
              "</style>\n",
              "<table border=\"1\" class=\"dataframe\">\n",
              "  <thead>\n",
              "    <tr style=\"text-align: right;\">\n",
              "      <th></th>\n",
              "      <th>c1</th>\n",
              "    </tr>\n",
              "  </thead>\n",
              "  <tbody>\n",
              "    <tr>\n",
              "      <th>0</th>\n",
              "      <td>Positive</td>\n",
              "    </tr>\n",
              "    <tr>\n",
              "      <th>1</th>\n",
              "      <td>Positive</td>\n",
              "    </tr>\n",
              "    <tr>\n",
              "      <th>2</th>\n",
              "      <td>Positive</td>\n",
              "    </tr>\n",
              "    <tr>\n",
              "      <th>3</th>\n",
              "      <td>Positive</td>\n",
              "    </tr>\n",
              "    <tr>\n",
              "      <th>4</th>\n",
              "      <td>Positive</td>\n",
              "    </tr>\n",
              "    <tr>\n",
              "      <th>5</th>\n",
              "      <td>Positive</td>\n",
              "    </tr>\n",
              "    <tr>\n",
              "      <th>6</th>\n",
              "      <td>Positive</td>\n",
              "    </tr>\n",
              "    <tr>\n",
              "      <th>7</th>\n",
              "      <td>Positive</td>\n",
              "    </tr>\n",
              "    <tr>\n",
              "      <th>8</th>\n",
              "      <td>Neutral</td>\n",
              "    </tr>\n",
              "    <tr>\n",
              "      <th>9</th>\n",
              "      <td>Neutral</td>\n",
              "    </tr>\n",
              "  </tbody>\n",
              "</table>\n",
              "</div>"
            ],
            "text/plain": [
              "         c1\n",
              "0  Positive\n",
              "1  Positive\n",
              "2  Positive\n",
              "3  Positive\n",
              "4  Positive\n",
              "5  Positive\n",
              "6  Positive\n",
              "7  Positive\n",
              "8   Neutral\n",
              "9   Neutral"
            ]
          },
          "metadata": {
            "tags": []
          },
          "execution_count": 295
        }
      ]
    },
    {
      "cell_type": "markdown",
      "metadata": {
        "id": "cWt6_ImQ84ps",
        "colab_type": "text"
      },
      "source": [
        "## Масштабирование данных"
      ]
    },
    {
      "cell_type": "code",
      "metadata": {
        "id": "w7nm-nuN84ps",
        "colab_type": "code",
        "colab": {}
      },
      "source": [
        "from sklearn.preprocessing import MinMaxScaler, StandardScaler, Normalizer"
      ],
      "execution_count": 0,
      "outputs": []
    },
    {
      "cell_type": "markdown",
      "metadata": {
        "id": "yzxPewz084pt",
        "colab_type": "text"
      },
      "source": [
        "### MinMax"
      ]
    },
    {
      "cell_type": "code",
      "metadata": {
        "id": "V5-KSH-D84pu",
        "colab_type": "code",
        "colab": {}
      },
      "source": [
        "# data = pd.read_csv('googleplaystore.csv', sep=\",\")\n",
        "strategies[0], test_num_impute(strategies[0])\n",
        "sc1 = MinMaxScaler()\n",
        "sc1_data = sc1.fit_transform(data[['Rating']])"
      ],
      "execution_count": 0,
      "outputs": []
    },
    {
      "cell_type": "code",
      "metadata": {
        "id": "WN93O-RN84pu",
        "colab_type": "code",
        "colab": {}
      },
      "source": [
        "strategies[0], test_num_impute1(strategies[0])\n",
        "sc11 = MinMaxScaler()\n",
        "sc1_data1 = sc11.fit_transform(data1[['Sentiment_Polarity']])"
      ],
      "execution_count": 0,
      "outputs": []
    },
    {
      "cell_type": "code",
      "metadata": {
        "id": "uDwbkfVT84pz",
        "colab_type": "code",
        "colab": {}
      },
      "source": [
        "strategies[0], test_num_impute1(strategies[0])\n",
        "sc111 = MinMaxScaler()\n",
        "sc1_data11 = sc111.fit_transform(data1[['Sentiment_Subjectivity']])"
      ],
      "execution_count": 0,
      "outputs": []
    },
    {
      "cell_type": "code",
      "metadata": {
        "id": "-q_TuqId84p3",
        "colab_type": "code",
        "colab": {},
        "outputId": "266e3cb9-d6bf-49a7-a3fe-8d3b96ced181"
      },
      "source": [
        "plt.hist(data['Rating'], 50)\n",
        "plt.show()"
      ],
      "execution_count": 0,
      "outputs": [
        {
          "output_type": "stream",
          "text": [
            "/home/lisobol/tensorflow_env/my_tensorflow/lib/python3.7/site-packages/numpy/lib/histograms.py:839: RuntimeWarning: invalid value encountered in greater_equal\n",
            "  keep = (tmp_a >= first_edge)\n",
            "/home/lisobol/tensorflow_env/my_tensorflow/lib/python3.7/site-packages/numpy/lib/histograms.py:840: RuntimeWarning: invalid value encountered in less_equal\n",
            "  keep &= (tmp_a <= last_edge)\n"
          ],
          "name": "stderr"
        },
        {
          "output_type": "display_data",
          "data": {
            "image/png": "[encoded data removed]",
            "text/plain": [
              "<Figure size 432x288 with 1 Axes>"
            ]
          },
          "metadata": {
            "tags": []
          }
        }
      ]
    },
    {
      "cell_type": "code",
      "metadata": {
        "id": "lpXQAG5C84p4",
        "colab_type": "code",
        "colab": {},
        "outputId": "27c21d24-3ad0-4d8d-c58a-21d7dc15568c"
      },
      "source": [
        "plt.hist(sc1_data, 50)\n",
        "plt.show()"
      ],
      "execution_count": 0,
      "outputs": [
        {
          "output_type": "display_data",
          "data": {
            "image/png": "[encoded data removed]",
            "text/plain": [
              "<Figure size 432x288 with 1 Axes>"
            ]
          },
          "metadata": {
            "tags": []
          }
        }
      ]
    },
    {
      "cell_type": "code",
      "metadata": {
        "id": "8uVXhEl-84p8",
        "colab_type": "code",
        "colab": {},
        "outputId": "811ca306-cfab-4c27-d896-c29db9a1a89f"
      },
      "source": [
        "plt.hist(data1['Sentiment_Polarity'], 50)\n",
        "plt.show()"
      ],
      "execution_count": 0,
      "outputs": [
        {
          "output_type": "display_data",
          "data": {
            "image/png": "[encoded data removed]",
            "text/plain": [
              "<Figure size 432x288 with 1 Axes>"
            ]
          },
          "metadata": {
            "tags": []
          }
        }
      ]
    },
    {
      "cell_type": "code",
      "metadata": {
        "id": "FWilkgoK84p9",
        "colab_type": "code",
        "colab": {},
        "outputId": "bca1a8fe-03eb-4d0a-cc5f-0b4720d793e1"
      },
      "source": [
        "plt.hist(sc1_data1, 50)\n",
        "plt.show()"
      ],
      "execution_count": 0,
      "outputs": [
        {
          "output_type": "display_data",
          "data": {
            "image/png": "[encoded data removed]",
            "text/plain": [
              "<Figure size 432x288 with 1 Axes>"
            ]
          },
          "metadata": {
            "tags": []
          }
        }
      ]
    },
    {
      "cell_type": "code",
      "metadata": {
        "id": "SGs2aqxr84p-",
        "colab_type": "code",
        "colab": {},
        "outputId": "97828fd1-3cb7-4103-84d9-34e9ec4ac7ab"
      },
      "source": [
        "plt.hist(data1['Sentiment_Subjectivity'], 50)\n",
        "plt.show()"
      ],
      "execution_count": 0,
      "outputs": [
        {
          "output_type": "display_data",
          "data": {
            "image/png": "[encoded data removed]",
            "text/plain": [
              "<Figure size 432x288 with 1 Axes>"
            ]
          },
          "metadata": {
            "tags": []
          }
        }
      ]
    },
    {
      "cell_type": "code",
      "metadata": {
        "id": "sNBW7M-884qA",
        "colab_type": "code",
        "colab": {},
        "outputId": "403046f4-f87b-4b92-9b0b-4dc914175535"
      },
      "source": [
        "plt.hist(sc1_data11, 50)\n",
        "plt.show()"
      ],
      "execution_count": 0,
      "outputs": [
        {
          "output_type": "display_data",
          "data": {
            "image/png": "[encoded data removed]",
            "text/plain": [
              "<Figure size 432x288 with 1 Axes>"
            ]
          },
          "metadata": {
            "tags": []
          }
        }
      ]
    },
    {
      "cell_type": "markdown",
      "metadata": {
        "id": "ey94yf2P84qB",
        "colab_type": "text"
      },
      "source": [
        "### Z-оценка"
      ]
    },
    {
      "cell_type": "code",
      "metadata": {
        "id": "FkjtpRQ684qC",
        "colab_type": "code",
        "colab": {}
      },
      "source": [
        "sc2 = StandardScaler()\n",
        "sc2_data = sc2.fit_transform(data[['Rating']])"
      ],
      "execution_count": 0,
      "outputs": []
    },
    {
      "cell_type": "code",
      "metadata": {
        "id": "6rHOpQPI84qD",
        "colab_type": "code",
        "colab": {}
      },
      "source": [
        "sc21 = StandardScaler()\n",
        "sc2_data1 = sc21.fit_transform(data1[['Sentiment_Polarity']])"
      ],
      "execution_count": 0,
      "outputs": []
    },
    {
      "cell_type": "code",
      "metadata": {
        "id": "9ZNjbYNz84qD",
        "colab_type": "code",
        "colab": {}
      },
      "source": [
        "sc211 = StandardScaler()\n",
        "sc2_data11 = sc211.fit_transform(data1[['Sentiment_Subjectivity']])"
      ],
      "execution_count": 0,
      "outputs": []
    },
    {
      "cell_type": "code",
      "metadata": {
        "id": "hwHklHko84qE",
        "colab_type": "code",
        "colab": {},
        "outputId": "2da8a8de-0357-4605-865b-2005d39e6d9f"
      },
      "source": [
        "plt.hist(sc2_data, 50)\n",
        "plt.show()"
      ],
      "execution_count": 0,
      "outputs": [
        {
          "output_type": "stream",
          "text": [
            "/home/lisobol/tensorflow_env/my_tensorflow/lib/python3.7/site-packages/numpy/lib/histograms.py:839: RuntimeWarning: invalid value encountered in greater_equal\n",
            "  keep = (tmp_a >= first_edge)\n",
            "/home/lisobol/tensorflow_env/my_tensorflow/lib/python3.7/site-packages/numpy/lib/histograms.py:840: RuntimeWarning: invalid value encountered in less_equal\n",
            "  keep &= (tmp_a <= last_edge)\n"
          ],
          "name": "stderr"
        },
        {
          "output_type": "display_data",
          "data": {
            "image/png": "[encoded data removed]",
            "text/plain": [
              "<Figure size 432x288 with 1 Axes>"
            ]
          },
          "metadata": {
            "tags": []
          }
        }
      ]
    },
    {
      "cell_type": "code",
      "metadata": {
        "id": "MNeJXauA84qF",
        "colab_type": "code",
        "colab": {},
        "outputId": "a42a07ce-1b60-4dff-ad2c-d011a028bcb2"
      },
      "source": [
        "plt.hist(sc2_data1, 50)\n",
        "plt.show()"
      ],
      "execution_count": 0,
      "outputs": [
        {
          "output_type": "display_data",
          "data": {
            "image/png": "[encoded data removed]",
            "text/plain": [
              "<Figure size 432x288 with 1 Axes>"
            ]
          },
          "metadata": {
            "tags": []
          }
        }
      ]
    },
    {
      "cell_type": "code",
      "metadata": {
        "id": "xtRdt5FH84qG",
        "colab_type": "code",
        "colab": {},
        "outputId": "96389053-e6cf-4063-8ce4-29783708702f"
      },
      "source": [
        "plt.hist(sc2_data, 50)\n",
        "plt.show()"
      ],
      "execution_count": 0,
      "outputs": [
        {
          "output_type": "display_data",
          "data": {
            "image/png": "[encoded data removed]",
            "text/plain": [
              "<Figure size 432x288 with 1 Axes>"
            ]
          },
          "metadata": {
            "tags": []
          }
        }
      ]
    },
    {
      "cell_type": "markdown",
      "metadata": {
        "id": "0S0g4wMF84qH",
        "colab_type": "text"
      },
      "source": [
        "### Нормализация"
      ]
    },
    {
      "cell_type": "code",
      "metadata": {
        "id": "3-_kkJ1r84qH",
        "colab_type": "code",
        "colab": {}
      },
      "source": [
        "sc3 = Normalizer()\n",
        "sc3_data = sc3.fit_transform(data_new_2[['Rating']])"
      ],
      "execution_count": 0,
      "outputs": []
    },
    {
      "cell_type": "code",
      "metadata": {
        "id": "XjAQmrzP84qI",
        "colab_type": "code",
        "colab": {}
      },
      "source": [
        "sc31 = StandardScaler()\n",
        "sc3_data1 = sc31.fit_transform(data1[['Sentiment_Polarity']])"
      ],
      "execution_count": 0,
      "outputs": []
    },
    {
      "cell_type": "code",
      "metadata": {
        "id": "RULprcLN84qI",
        "colab_type": "code",
        "colab": {}
      },
      "source": [
        "sc311 = StandardScaler()\n",
        "sc3_data11 = sc311.fit_transform(data1[['Sentiment_Subjectivity']])"
      ],
      "execution_count": 0,
      "outputs": []
    },
    {
      "cell_type": "code",
      "metadata": {
        "id": "KTpeq-Ef84qL",
        "colab_type": "code",
        "colab": {},
        "outputId": "90292d2b-27b6-417b-9eca-7ec81a6f3a6e"
      },
      "source": [
        "plt.hist(sc3_data, 50)\n",
        "plt.show()"
      ],
      "execution_count": 0,
      "outputs": [
        {
          "output_type": "display_data",
          "data": {
            "image/png": "[encoded data removed]",
            "text/plain": [
              "<Figure size 432x288 with 1 Axes>"
            ]
          },
          "metadata": {
            "tags": []
          }
        }
      ]
    },
    {
      "cell_type": "code",
      "metadata": {
        "id": "87QuHZbV84qL",
        "colab_type": "code",
        "colab": {},
        "outputId": "8b59f5b8-1ee8-4196-b3e1-c5c4b70f06c7"
      },
      "source": [
        "plt.hist(sc3_data1, 50)\n",
        "plt.show()"
      ],
      "execution_count": 0,
      "outputs": [
        {
          "output_type": "stream",
          "text": [
            "/home/lisobol/tensorflow_env/my_tensorflow/lib/python3.7/site-packages/numpy/lib/histograms.py:839: RuntimeWarning: invalid value encountered in greater_equal\n",
            "  keep = (tmp_a >= first_edge)\n",
            "/home/lisobol/tensorflow_env/my_tensorflow/lib/python3.7/site-packages/numpy/lib/histograms.py:840: RuntimeWarning: invalid value encountered in less_equal\n",
            "  keep &= (tmp_a <= last_edge)\n"
          ],
          "name": "stderr"
        },
        {
          "output_type": "display_data",
          "data": {
            "image/png": "[encoded data removed]",
            "text/plain": [
              "<Figure size 432x288 with 1 Axes>"
            ]
          },
          "metadata": {
            "tags": []
          }
        }
      ]
    },
    {
      "cell_type": "code",
      "metadata": {
        "id": "PpHO8kdT84qM",
        "colab_type": "code",
        "colab": {},
        "outputId": "2fbe1561-6e5a-49e3-d686-dc9f2ee71aa7"
      },
      "source": [
        "plt.hist(sc3_data11, 50)\n",
        "plt.show()"
      ],
      "execution_count": 0,
      "outputs": [
        {
          "output_type": "display_data",
          "data": {
            "image/png": "[encoded data removed]",
            "text/plain": [
              "<Figure size 432x288 with 1 Axes>"
            ]
          },
          "metadata": {
            "tags": []
          }
        }
      ]
    },
    {
      "cell_type": "markdown",
      "metadata": {
        "id": "GWU08HjW84qN",
        "colab_type": "text"
      },
      "source": [
        "## Вывод:\n",
        "    В процессе выполнения данной работы были изучены методы обработки пропусков в данных, кодирования категориальных признаков и масштабирования данных."
      ]
    }
  ]
}