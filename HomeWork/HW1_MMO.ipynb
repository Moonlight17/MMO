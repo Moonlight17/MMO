{
  "nbformat": 4,
  "nbformat_minor": 0,
  "metadata": {
    "colab": {
      "name": "dz1.ipynb",
      "provenance": [],
      "collapsed_sections": []
    },
    "authors": [
      {
        "name": "Аладин Дмитрий Владимирович"
      }
    ],
    "kernelspec": {
      "name": "python3",
      "display_name": "Python 3"
    }
  },
  "cells": [
    {
      "cell_type": "markdown",
      "metadata": {
        "id": "XECQnU675sS5",
        "colab_type": "text"
      },
      "source": [
        "# Домашнее задание\n",
        "\n",
        "Домашнее задание по дисциплине направлено на решение комплексной задачи машинного обучения. Домашнее задание включает выполнение следующих шагов:\n",
        "\n",
        "1. Поиск и выбор набора данных для построения моделей машинного обучения. На основе выбранного набора данных студент должен построить модели машинного обучения для решения или задачи классификации, или задачи регрессии.\n",
        "1. Проведение разведочного анализа данных. Построение графиков, необходимых для понимания структуры данных. Анализ и заполнение пропусков в данных.\n",
        "1. Выбор признаков, подходящих для построения моделей. Кодирование категориальных признаков Масштабирование данных. Формирование вспомогательных признаков, улучшающих качество моделей.\n",
        "1. Проведение корреляционного анализа данных. Формирование промежуточных выводов о возможности построения моделей машинного обучения. В зависимости от набора данных, порядок выполнения пунктов 2, 3, 4 может быть изменен.\n",
        "1. Выбор метрик для последующей оценки качества моделей. Необходимо выбрать не менее двух метрик и обосновать выбор.\n",
        "1. Выбор наиболее подходящих моделей для решения задачи классификации или регрессии. Необходимо использовать не менее трех моделей, хотя бы одна из которых должна быть ансамблевой.\n",
        "1. Формирование обучающей и тестовой выборок на основе исходного набора данных.\n",
        "1. Построение базового решения (baseline) для выбранных моделей без подбора гиперпараметров. Производится обучение моделей на основе обучающей выборки и оценка качества моделей на основе тестовой выборки.\n",
        "1. Подбор гиперпараметров для выбранных моделей. Рекомендуется подбирать не более 1-2 гиперпараметров. Рекомендуется использовать методы кросс-валидации. В зависимости от используемой библиотеки можно применять функцию GridSearchCV, использовать перебор параметров в цикле, или использовать другие методы.\n",
        "1. Повторение пункта 8 для найденных оптимальных значений гиперпараметров. Сравнение качества полученных моделей с качеством baseline-моделей.\n",
        "1. Формирование выводов о качестве построенных моделей на основе выбранных метрик.\n",
        "\n",
        "## Выбор датасета\n",
        "\n",
        "Выбранный датасет: [Glass Classification\n",
        "](https://www.kaggle.com/uciml/glass)\n",
        "\n",
        "Атрибуты означают следующее:\n",
        "\n",
        "1. Id number: 1 to 214 (removed from CSV file)\n",
        "1. RI: refractive index\n",
        "1. Na: Sodium (unit measurement: weight percent in corresponding oxide, as are attributes 4-10)\n",
        "1. Mg: Magnesium\n",
        "1. Al: Aluminum\n",
        "1. Si: Silicon\n",
        "1. K: Potassium\n",
        "1. Ca: Calcium\n",
        "1. Ba: Barium\n",
        "1. Fe: Iron\n",
        "1. Type of glass: (class attribute) \n",
        "   - 1 building_windows_float_processed \n",
        "   - 2 building_windows_non_float_processed\n",
        "   - 3 vehicle_windows_float_processed \n",
        "   - 4 vehicle_windows_non_float_processed (none in this database)\n",
        "   - 5 containers \n",
        "   - 6 tableware \n",
        "   - 7 headlamps\n",
        "   \n",
        "## Загрузка датасета"
      ]
    },
    {
      "cell_type": "code",
      "metadata": {
        "id": "m4RUx9Ft5pCW",
        "colab_type": "code",
        "outputId": "4ab3e9cb-312a-4c93-cc63-286522bb0fbe",
        "colab": {
          "base_uri": "https://localhost:8080/",
          "height": 68
        }
      },
      "source": [
        "# Подключение Google диска для загрузки датасета\n",
        "from google.colab import drive\n",
        "drive.mount('/gdrive')\n",
        "%load_ext tensorboard.notebook"
      ],
      "execution_count": 0,
      "outputs": [
        {
          "output_type": "stream",
          "text": [
            "Drive already mounted at /gdrive; to attempt to forcibly remount, call drive.mount(\"/gdrive\", force_remount=True).\n",
            "The tensorboard.notebook extension is already loaded. To reload it, use:\n",
            "  %reload_ext tensorboard.notebook\n"
          ],
          "name": "stdout"
        }
      ]
    },
    {
      "cell_type": "markdown",
      "metadata": {
        "id": "ja_4dBVV6Uyx",
        "colab_type": "text"
      },
      "source": [
        "## Проверка и удаление пропусков"
      ]
    },
    {
      "cell_type": "code",
      "metadata": {
        "id": "N8TY12Cu6WM2",
        "colab_type": "code",
        "colab": {}
      },
      "source": [
        "import warnings\n",
        "warnings.filterwarnings('ignore')"
      ],
      "execution_count": 0,
      "outputs": []
    },
    {
      "cell_type": "code",
      "metadata": {
        "id": "pmj-pY546XNd",
        "colab_type": "code",
        "outputId": "72ae85db-85c0-43fa-a295-0760da6fbc5a",
        "colab": {
          "base_uri": "https://localhost:8080/",
          "height": 204
        }
      },
      "source": [
        "import os\n",
        "import numpy as np\n",
        "import pandas as pd\n",
        "import seaborn as sns\n",
        "import matplotlib.pyplot as plt\n",
        "%matplotlib inline \n",
        "os.listdir()\n",
        "data = pd.read_csv('/gdrive/My Drive/Colab Notebooks/ММО/lab5/glass.csv',\n",
        "                   sep=\",\")\n",
        "data.head()"
      ],
      "execution_count": 0,
      "outputs": [
        {
          "output_type": "execute_result",
          "data": {
            "text/html": [
              "<div>\n",
              "<style scoped>\n",
              "    .dataframe tbody tr th:only-of-type {\n",
              "        vertical-align: middle;\n",
              "    }\n",
              "\n",
              "    .dataframe tbody tr th {\n",
              "        vertical-align: top;\n",
              "    }\n",
              "\n",
              "    .dataframe thead th {\n",
              "        text-align: right;\n",
              "    }\n",
              "</style>\n",
              "<table border=\"1\" class=\"dataframe\">\n",
              "  <thead>\n",
              "    <tr style=\"text-align: right;\">\n",
              "      <th></th>\n",
              "      <th>RI</th>\n",
              "      <th>Na</th>\n",
              "      <th>Mg</th>\n",
              "      <th>Al</th>\n",
              "      <th>Si</th>\n",
              "      <th>K</th>\n",
              "      <th>Ca</th>\n",
              "      <th>Ba</th>\n",
              "      <th>Fe</th>\n",
              "      <th>Type</th>\n",
              "    </tr>\n",
              "  </thead>\n",
              "  <tbody>\n",
              "    <tr>\n",
              "      <th>0</th>\n",
              "      <td>1.52101</td>\n",
              "      <td>13.64</td>\n",
              "      <td>4.49</td>\n",
              "      <td>1.10</td>\n",
              "      <td>71.78</td>\n",
              "      <td>0.06</td>\n",
              "      <td>8.75</td>\n",
              "      <td>0.0</td>\n",
              "      <td>0.0</td>\n",
              "      <td>1</td>\n",
              "    </tr>\n",
              "    <tr>\n",
              "      <th>1</th>\n",
              "      <td>1.51761</td>\n",
              "      <td>13.89</td>\n",
              "      <td>3.60</td>\n",
              "      <td>1.36</td>\n",
              "      <td>72.73</td>\n",
              "      <td>0.48</td>\n",
              "      <td>7.83</td>\n",
              "      <td>0.0</td>\n",
              "      <td>0.0</td>\n",
              "      <td>1</td>\n",
              "    </tr>\n",
              "    <tr>\n",
              "      <th>2</th>\n",
              "      <td>1.51618</td>\n",
              "      <td>13.53</td>\n",
              "      <td>3.55</td>\n",
              "      <td>1.54</td>\n",
              "      <td>72.99</td>\n",
              "      <td>0.39</td>\n",
              "      <td>7.78</td>\n",
              "      <td>0.0</td>\n",
              "      <td>0.0</td>\n",
              "      <td>1</td>\n",
              "    </tr>\n",
              "    <tr>\n",
              "      <th>3</th>\n",
              "      <td>1.51766</td>\n",
              "      <td>13.21</td>\n",
              "      <td>3.69</td>\n",
              "      <td>1.29</td>\n",
              "      <td>72.61</td>\n",
              "      <td>0.57</td>\n",
              "      <td>8.22</td>\n",
              "      <td>0.0</td>\n",
              "      <td>0.0</td>\n",
              "      <td>1</td>\n",
              "    </tr>\n",
              "    <tr>\n",
              "      <th>4</th>\n",
              "      <td>1.51742</td>\n",
              "      <td>13.27</td>\n",
              "      <td>3.62</td>\n",
              "      <td>1.24</td>\n",
              "      <td>73.08</td>\n",
              "      <td>0.55</td>\n",
              "      <td>8.07</td>\n",
              "      <td>0.0</td>\n",
              "      <td>0.0</td>\n",
              "      <td>1</td>\n",
              "    </tr>\n",
              "  </tbody>\n",
              "</table>\n",
              "</div>"
            ],
            "text/plain": [
              "        RI     Na    Mg    Al     Si     K    Ca   Ba   Fe  Type\n",
              "0  1.52101  13.64  4.49  1.10  71.78  0.06  8.75  0.0  0.0     1\n",
              "1  1.51761  13.89  3.60  1.36  72.73  0.48  7.83  0.0  0.0     1\n",
              "2  1.51618  13.53  3.55  1.54  72.99  0.39  7.78  0.0  0.0     1\n",
              "3  1.51766  13.21  3.69  1.29  72.61  0.57  8.22  0.0  0.0     1\n",
              "4  1.51742  13.27  3.62  1.24  73.08  0.55  8.07  0.0  0.0     1"
            ]
          },
          "metadata": {
            "tags": []
          },
          "execution_count": 32
        }
      ]
    },
    {
      "cell_type": "code",
      "metadata": {
        "id": "nIG0a-Zt6Y5V",
        "colab_type": "code",
        "outputId": "8c52dfac-69d2-4ef0-dcc3-f1ba03aa4949",
        "colab": {
          "base_uri": "https://localhost:8080/",
          "height": 204
        }
      },
      "source": [
        "data.dtypes"
      ],
      "execution_count": 0,
      "outputs": [
        {
          "output_type": "execute_result",
          "data": {
            "text/plain": [
              "RI      float64\n",
              "Na      float64\n",
              "Mg      float64\n",
              "Al      float64\n",
              "Si      float64\n",
              "K       float64\n",
              "Ca      float64\n",
              "Ba      float64\n",
              "Fe      float64\n",
              "Type      int64\n",
              "dtype: object"
            ]
          },
          "metadata": {
            "tags": []
          },
          "execution_count": 33
        }
      ]
    },
    {
      "cell_type": "code",
      "metadata": {
        "id": "qeA5vxrZ6aQx",
        "colab_type": "code",
        "outputId": "75f502f3-91a8-48d7-de56-97dfc071d78f",
        "colab": {
          "base_uri": "https://localhost:8080/",
          "height": 204
        }
      },
      "source": [
        "data.isnull().sum()"
      ],
      "execution_count": 0,
      "outputs": [
        {
          "output_type": "execute_result",
          "data": {
            "text/plain": [
              "RI      0\n",
              "Na      0\n",
              "Mg      0\n",
              "Al      0\n",
              "Si      0\n",
              "K       0\n",
              "Ca      0\n",
              "Ba      0\n",
              "Fe      0\n",
              "Type    0\n",
              "dtype: int64"
            ]
          },
          "metadata": {
            "tags": []
          },
          "execution_count": 34
        }
      ]
    },
    {
      "cell_type": "code",
      "metadata": {
        "id": "IdLhEzAC6c5s",
        "colab_type": "code",
        "outputId": "47683519-06f9-4580-c40b-7f1297199b59",
        "colab": {
          "base_uri": "https://localhost:8080/",
          "height": 34
        }
      },
      "source": [
        "data.shape"
      ],
      "execution_count": 0,
      "outputs": [
        {
          "output_type": "execute_result",
          "data": {
            "text/plain": [
              "(214, 10)"
            ]
          },
          "metadata": {
            "tags": []
          },
          "execution_count": 35
        }
      ]
    },
    {
      "cell_type": "markdown",
      "metadata": {
        "id": "kqx1RZK56fsp",
        "colab_type": "text"
      },
      "source": [
        "## Разведочный анализ и предварительная обработка данных"
      ]
    },
    {
      "cell_type": "code",
      "metadata": {
        "id": "sZ-VU0jB6dTx",
        "colab_type": "code",
        "outputId": "94537920-1dd6-4d5a-9297-1ae039df8961",
        "colab": {
          "base_uri": "https://localhost:8080/",
          "height": 204
        }
      },
      "source": [
        "data.head()"
      ],
      "execution_count": 0,
      "outputs": [
        {
          "output_type": "execute_result",
          "data": {
            "text/html": [
              "<div>\n",
              "<style scoped>\n",
              "    .dataframe tbody tr th:only-of-type {\n",
              "        vertical-align: middle;\n",
              "    }\n",
              "\n",
              "    .dataframe tbody tr th {\n",
              "        vertical-align: top;\n",
              "    }\n",
              "\n",
              "    .dataframe thead th {\n",
              "        text-align: right;\n",
              "    }\n",
              "</style>\n",
              "<table border=\"1\" class=\"dataframe\">\n",
              "  <thead>\n",
              "    <tr style=\"text-align: right;\">\n",
              "      <th></th>\n",
              "      <th>RI</th>\n",
              "      <th>Na</th>\n",
              "      <th>Mg</th>\n",
              "      <th>Al</th>\n",
              "      <th>Si</th>\n",
              "      <th>K</th>\n",
              "      <th>Ca</th>\n",
              "      <th>Ba</th>\n",
              "      <th>Fe</th>\n",
              "      <th>Type</th>\n",
              "    </tr>\n",
              "  </thead>\n",
              "  <tbody>\n",
              "    <tr>\n",
              "      <th>0</th>\n",
              "      <td>1.52101</td>\n",
              "      <td>13.64</td>\n",
              "      <td>4.49</td>\n",
              "      <td>1.10</td>\n",
              "      <td>71.78</td>\n",
              "      <td>0.06</td>\n",
              "      <td>8.75</td>\n",
              "      <td>0.0</td>\n",
              "      <td>0.0</td>\n",
              "      <td>1</td>\n",
              "    </tr>\n",
              "    <tr>\n",
              "      <th>1</th>\n",
              "      <td>1.51761</td>\n",
              "      <td>13.89</td>\n",
              "      <td>3.60</td>\n",
              "      <td>1.36</td>\n",
              "      <td>72.73</td>\n",
              "      <td>0.48</td>\n",
              "      <td>7.83</td>\n",
              "      <td>0.0</td>\n",
              "      <td>0.0</td>\n",
              "      <td>1</td>\n",
              "    </tr>\n",
              "    <tr>\n",
              "      <th>2</th>\n",
              "      <td>1.51618</td>\n",
              "      <td>13.53</td>\n",
              "      <td>3.55</td>\n",
              "      <td>1.54</td>\n",
              "      <td>72.99</td>\n",
              "      <td>0.39</td>\n",
              "      <td>7.78</td>\n",
              "      <td>0.0</td>\n",
              "      <td>0.0</td>\n",
              "      <td>1</td>\n",
              "    </tr>\n",
              "    <tr>\n",
              "      <th>3</th>\n",
              "      <td>1.51766</td>\n",
              "      <td>13.21</td>\n",
              "      <td>3.69</td>\n",
              "      <td>1.29</td>\n",
              "      <td>72.61</td>\n",
              "      <td>0.57</td>\n",
              "      <td>8.22</td>\n",
              "      <td>0.0</td>\n",
              "      <td>0.0</td>\n",
              "      <td>1</td>\n",
              "    </tr>\n",
              "    <tr>\n",
              "      <th>4</th>\n",
              "      <td>1.51742</td>\n",
              "      <td>13.27</td>\n",
              "      <td>3.62</td>\n",
              "      <td>1.24</td>\n",
              "      <td>73.08</td>\n",
              "      <td>0.55</td>\n",
              "      <td>8.07</td>\n",
              "      <td>0.0</td>\n",
              "      <td>0.0</td>\n",
              "      <td>1</td>\n",
              "    </tr>\n",
              "  </tbody>\n",
              "</table>\n",
              "</div>"
            ],
            "text/plain": [
              "        RI     Na    Mg    Al     Si     K    Ca   Ba   Fe  Type\n",
              "0  1.52101  13.64  4.49  1.10  71.78  0.06  8.75  0.0  0.0     1\n",
              "1  1.51761  13.89  3.60  1.36  72.73  0.48  7.83  0.0  0.0     1\n",
              "2  1.51618  13.53  3.55  1.54  72.99  0.39  7.78  0.0  0.0     1\n",
              "3  1.51766  13.21  3.69  1.29  72.61  0.57  8.22  0.0  0.0     1\n",
              "4  1.51742  13.27  3.62  1.24  73.08  0.55  8.07  0.0  0.0     1"
            ]
          },
          "metadata": {
            "tags": []
          },
          "execution_count": 36
        }
      ]
    },
    {
      "cell_type": "code",
      "metadata": {
        "id": "8-cU3Lsk6pox",
        "colab_type": "code",
        "outputId": "2e688184-5ef1-4958-adc1-f4882adf5886",
        "colab": {
          "base_uri": "https://localhost:8080/",
          "height": 272
        }
      },
      "source": [
        "data.info()"
      ],
      "execution_count": 0,
      "outputs": [
        {
          "output_type": "stream",
          "text": [
            "<class 'pandas.core.frame.DataFrame'>\n",
            "RangeIndex: 214 entries, 0 to 213\n",
            "Data columns (total 10 columns):\n",
            "RI      214 non-null float64\n",
            "Na      214 non-null float64\n",
            "Mg      214 non-null float64\n",
            "Al      214 non-null float64\n",
            "Si      214 non-null float64\n",
            "K       214 non-null float64\n",
            "Ca      214 non-null float64\n",
            "Ba      214 non-null float64\n",
            "Fe      214 non-null float64\n",
            "Type    214 non-null int64\n",
            "dtypes: float64(9), int64(1)\n",
            "memory usage: 16.8 KB\n"
          ],
          "name": "stdout"
        }
      ]
    },
    {
      "cell_type": "code",
      "metadata": {
        "id": "zEPvCkRs62jO",
        "colab_type": "code",
        "outputId": "ad0a2f44-e777-413a-838f-e0492fa6dcee",
        "colab": {
          "base_uri": "https://localhost:8080/",
          "height": 286
        }
      },
      "source": [
        "sns.heatmap(data.corr(method='pearson'), annot=True, fmt='.2f')"
      ],
      "execution_count": 0,
      "outputs": [
        {
          "output_type": "execute_result",
          "data": {
            "text/plain": [
              "<matplotlib.axes._subplots.AxesSubplot at 0x7f74320eb198>"
            ]
          },
          "metadata": {
            "tags": []
          },
          "execution_count": 38
        },
        {
          "output_type": "display_data",
          "data": {
            "image/png": "[encoded data removed]",
            "text/plain": [
              "<Figure size 432x288 with 2 Axes>"
            ]
          },
          "metadata": {
            "tags": []
          }
        }
      ]
    },
    {
      "cell_type": "code",
      "metadata": {
        "id": "pT-knpNA7bPR",
        "colab_type": "code",
        "outputId": "05b4334b-131e-4f26-d8e4-9e880293e8f1",
        "colab": {
          "base_uri": "https://localhost:8080/",
          "height": 286
        }
      },
      "source": [
        "corr = data.corr()\n",
        "m = (corr.mask(np.eye(len(corr), dtype=bool)).abs() > 0.5).any()\n",
        "raw = corr.loc[m, m]\n",
        "# Треугольный вариант матрицы\n",
        "mask = np.zeros_like(raw, dtype=np.bool)\n",
        "# чтобы оставить нижнюю часть матрицы\n",
        "# mask[np.triu_indices_from(mask)] = True\n",
        "# чтобы оставить верхнюю часть матрицы\n",
        "mask[np.tril_indices_from(mask)] = True\n",
        "sns.heatmap(raw, mask=mask, annot=True, fmt='.3f')"
      ],
      "execution_count": 0,
      "outputs": [
        {
          "output_type": "execute_result",
          "data": {
            "text/plain": [
              "<matplotlib.axes._subplots.AxesSubplot at 0x7f7431f73c18>"
            ]
          },
          "metadata": {
            "tags": []
          },
          "execution_count": 39
        },
        {
          "output_type": "display_data",
          "data": {
            "image/png": "[encoded data removed]",
            "text/plain": [
              "<Figure size 432x288 with 2 Axes>"
            ]
          },
          "metadata": {
            "tags": []
          }
        }
      ]
    },
    {
      "cell_type": "markdown",
      "metadata": {
        "id": "vHhn7E_P666O",
        "colab_type": "text"
      },
      "source": [
        "Заметим следующее:\n",
        "\n",
        "Тип стекла имеет коррелирует  с показателями Na, Mg, Al, Ba\n"
      ]
    },
    {
      "cell_type": "code",
      "metadata": {
        "id": "VlltHM6B8WZc",
        "colab_type": "code",
        "outputId": "d0d2e709-34a7-4b63-984d-4a84b96fabd6",
        "colab": {
          "base_uri": "https://localhost:8080/",
          "height": 354
        }
      },
      "source": [
        "data.set_index('Type')['Na'].plot(figsize=(15, 5))"
      ],
      "execution_count": 0,
      "outputs": [
        {
          "output_type": "execute_result",
          "data": {
            "text/plain": [
              "<matplotlib.axes._subplots.AxesSubplot at 0x7f7431efd160>"
            ]
          },
          "metadata": {
            "tags": []
          },
          "execution_count": 40
        },
        {
          "output_type": "display_data",
          "data": {
            "image/png": "[encoded data removed]",
            "text/plain": [
              "<Figure size 1080x360 with 1 Axes>"
            ]
          },
          "metadata": {
            "tags": []
          }
        }
      ]
    },
    {
      "cell_type": "code",
      "metadata": {
        "id": "hrgZpnQ58wOP",
        "colab_type": "code",
        "colab": {}
      },
      "source": [
        "data = data.drop(['RI', 'Si', 'K', 'Ca', 'Fe'], axis=1)"
      ],
      "execution_count": 0,
      "outputs": []
    },
    {
      "cell_type": "code",
      "metadata": {
        "id": "PYMMEY8084AX",
        "colab_type": "code",
        "outputId": "fa86126d-fcea-409e-a043-b94537e087b7",
        "colab": {
          "base_uri": "https://localhost:8080/",
          "height": 286
        }
      },
      "source": [
        "sns.heatmap(data.corr(method='pearson'), annot=True, fmt='.2f')"
      ],
      "execution_count": 0,
      "outputs": [
        {
          "output_type": "execute_result",
          "data": {
            "text/plain": [
              "<matplotlib.axes._subplots.AxesSubplot at 0x7f7431e45940>"
            ]
          },
          "metadata": {
            "tags": []
          },
          "execution_count": 42
        },
        {
          "output_type": "display_data",
          "data": {
            "image/png": "[encoded data removed]",
            "text/plain": [
              "<Figure size 432x288 with 2 Axes>"
            ]
          },
          "metadata": {
            "tags": []
          }
        }
      ]
    },
    {
      "cell_type": "markdown",
      "metadata": {
        "id": "EHmveqKC-TQ6",
        "colab_type": "text"
      },
      "source": [
        "Будем обучать выявление типа стекла по параметрам Na, Mg, Al, Ba."
      ]
    },
    {
      "cell_type": "code",
      "metadata": {
        "id": "K1Ns2DSS_LjK",
        "colab_type": "code",
        "colab": {}
      },
      "source": [
        "type_ohe = pd.get_dummies(data['Type'], prefix='type', \n",
        "                             drop_first=True)"
      ],
      "execution_count": 0,
      "outputs": []
    },
    {
      "cell_type": "markdown",
      "metadata": {
        "id": "umexsi4aAJBH",
        "colab_type": "text"
      },
      "source": [
        "## Выбор метрик\n",
        "\n",
        "Для оценки качества моделей будем использовать следующие метрики:\n",
        "\n",
        "* **Средняя абсолютная ошибка** - по ней легко судить о средней оценке ошибки;\n",
        "* **Медиана абсолютной ошибки** - другая средняя оценка ошибки, для дополнительной оценки средней абсолютной;\n",
        "* **Объяснимая вариация** - вариация изучаемого признака, зависящая от значений признака, положенного в основу."
      ]
    },
    {
      "cell_type": "code",
      "metadata": {
        "id": "TljAiFieAR4O",
        "colab_type": "code",
        "colab": {}
      },
      "source": [
        "from sklearn.metrics import explained_variance_score, \\\n",
        "mean_absolute_error, median_absolute_error"
      ],
      "execution_count": 0,
      "outputs": []
    },
    {
      "cell_type": "markdown",
      "metadata": {
        "id": "TeHuKeThAXEm",
        "colab_type": "text"
      },
      "source": [
        "## Выбор моделей\n",
        "\n",
        "В качестве простой модели используем линейную модель стохастического градиентного спуска, у которого будем менять функцию потерь ($loss$) и скорость обучения ($learning rate$)"
      ]
    },
    {
      "cell_type": "code",
      "metadata": {
        "id": "8NwBbJM1Aape",
        "colab_type": "code",
        "colab": {}
      },
      "source": [
        "from sklearn.linear_model import SGDRegressor"
      ],
      "execution_count": 0,
      "outputs": []
    },
    {
      "cell_type": "markdown",
      "metadata": {
        "id": "PGEZscyGAd1v",
        "colab_type": "text"
      },
      "source": [
        "В качестве более сложной модели используем дерево решений, у которого изначально поставим $max depth = 3$."
      ]
    },
    {
      "cell_type": "code",
      "metadata": {
        "id": "eXOvQOEhAcgJ",
        "colab_type": "code",
        "colab": {}
      },
      "source": [
        "from sklearn.tree import DecisionTreeRegressor"
      ],
      "execution_count": 0,
      "outputs": []
    },
    {
      "cell_type": "markdown",
      "metadata": {
        "id": "tXh6RGuZAhwe",
        "colab_type": "text"
      },
      "source": [
        "Из ансамблевых моделей воспользуемся случайным лесом с исходными $n estimators = 10$ и $max depth = 3$."
      ]
    },
    {
      "cell_type": "code",
      "metadata": {
        "id": "afryF2gFAgyA",
        "colab_type": "code",
        "colab": {}
      },
      "source": [
        "from sklearn.ensemble import RandomForestRegressor"
      ],
      "execution_count": 0,
      "outputs": []
    },
    {
      "cell_type": "markdown",
      "metadata": {
        "id": "eFp3tkcrAkpo",
        "colab_type": "text"
      },
      "source": [
        "## Разделение выборки на обучающую и тестовую"
      ]
    },
    {
      "cell_type": "code",
      "metadata": {
        "id": "VQHjIPA0AofT",
        "colab_type": "code",
        "colab": {}
      },
      "source": [
        "from sklearn.model_selection import train_test_split\n",
        "temperature = data['Type']\n",
        "input_data = data.drop(['Type'], axis=1)\n",
        "data_X_train, data_X_test, data_y_train, data_y_test = train_test_split(\n",
        "    input_data, temperature, test_size=0.2, random_state=1)"
      ],
      "execution_count": 0,
      "outputs": []
    },
    {
      "cell_type": "markdown",
      "metadata": {
        "id": "5uUIqwuBAwI0",
        "colab_type": "text"
      },
      "source": [
        "## Базовое решение (baseline)\n",
        "\n",
        "Для начала предварительно подготовим класс Regressor, который будет собирать необходимые параметры для обучения:"
      ]
    },
    {
      "cell_type": "code",
      "metadata": {
        "id": "NnaoIlCIAzJV",
        "colab_type": "code",
        "colab": {}
      },
      "source": [
        "template_header = \"Модель {}\"\n",
        "template = \"Значение по метрике {}:  {:.2%}\"\n",
        "\n",
        "class Regressor():\n",
        "  def __init__(self, method, metrics, x_train, y_train, x_test, y_test):\n",
        "    self._method = method\n",
        "    self.x_train = x_train\n",
        "    self.y_train = y_train\n",
        "    self.x_test = x_test\n",
        "    self.y_test = y_test\n",
        "    self._metrics = metrics\n",
        "    self.target_1 = []\n",
        "    \n",
        "  def training(self):\n",
        "    self._method.fit(self.x_train, self.y_train)\n",
        "    self.target_1 = self._method.predict(self.x_test)\n",
        "    \n",
        "  def result(self):\n",
        "    print(template_header.format(self._method))\n",
        "    for metric in self._metrics:\n",
        "      print(template.format(metric.__name__, \n",
        "                            metric(self.y_test, self.target_1)))"
      ],
      "execution_count": 0,
      "outputs": []
    },
    {
      "cell_type": "code",
      "metadata": {
        "id": "OVR9ZxYzA5r6",
        "colab_type": "code",
        "colab": {}
      },
      "source": [
        "choosed_metrics = [explained_variance_score, \n",
        "                   mean_absolute_error, \n",
        "                   median_absolute_error]\n",
        "choosed_models = [SGDRegressor(), \n",
        "                  DecisionTreeRegressor(max_depth=3), \n",
        "                  RandomForestRegressor(n_estimators=10, max_depth=3)]"
      ],
      "execution_count": 0,
      "outputs": []
    },
    {
      "cell_type": "markdown",
      "metadata": {
        "id": "Kc2o6CkEA7eJ",
        "colab_type": "text"
      },
      "source": [
        "Обучим выбранные модели и проверим выбранными метриками."
      ]
    },
    {
      "cell_type": "code",
      "metadata": {
        "id": "mZH-Qm66A86W",
        "colab_type": "code",
        "outputId": "e0f3fac2-6e3b-47dc-9672-fdbb90ba42b8",
        "colab": {
          "base_uri": "https://localhost:8080/",
          "height": 476
        }
      },
      "source": [
        "for model in choosed_models:\n",
        "  regressor = Regressor(model, choosed_metrics, data_X_train, \n",
        "                        data_y_train, data_X_test, data_y_test)\n",
        "  regressor.training()\n",
        "  regressor.result()"
      ],
      "execution_count": 0,
      "outputs": [
        {
          "output_type": "stream",
          "text": [
            "Модель SGDRegressor(alpha=0.0001, average=False, early_stopping=False, epsilon=0.1,\n",
            "             eta0=0.01, fit_intercept=True, l1_ratio=0.15,\n",
            "             learning_rate='invscaling', loss='squared_loss', max_iter=1000,\n",
            "             n_iter_no_change=5, penalty='l2', power_t=0.25, random_state=None,\n",
            "             shuffle=True, tol=0.001, validation_fraction=0.1, verbose=0,\n",
            "             warm_start=False)\n",
            "Значение по метрике explained_variance_score:  55.26%\n",
            "Значение по метрике mean_absolute_error:  84.88%\n",
            "Значение по метрике median_absolute_error:  54.02%\n",
            "Модель DecisionTreeRegressor(criterion='mse', max_depth=3, max_features=None,\n",
            "                      max_leaf_nodes=None, min_impurity_decrease=0.0,\n",
            "                      min_impurity_split=None, min_samples_leaf=1,\n",
            "                      min_samples_split=2, min_weight_fraction_leaf=0.0,\n",
            "                      presort=False, random_state=None, splitter='best')\n",
            "Значение по метрике explained_variance_score:  68.14%\n",
            "Значение по метрике mean_absolute_error:  78.09%\n",
            "Значение по метрике median_absolute_error:  62.24%\n",
            "Модель RandomForestRegressor(bootstrap=True, criterion='mse', max_depth=3,\n",
            "                      max_features='auto', max_leaf_nodes=None,\n",
            "                      min_impurity_decrease=0.0, min_impurity_split=None,\n",
            "                      min_samples_leaf=1, min_samples_split=2,\n",
            "                      min_weight_fraction_leaf=0.0, n_estimators=10,\n",
            "                      n_jobs=None, oob_score=False, random_state=None,\n",
            "                      verbose=0, warm_start=False)\n",
            "Значение по метрике explained_variance_score:  68.52%\n",
            "Значение по метрике mean_absolute_error:  80.37%\n",
            "Значение по метрике median_absolute_error:  60.88%\n"
          ],
          "name": "stdout"
        }
      ]
    },
    {
      "cell_type": "markdown",
      "metadata": {
        "id": "2AfOFcUqA_Ik",
        "colab_type": "text"
      },
      "source": [
        "## Подбор гиперпараметра K с использованием GridSearchCV и кросс-валидации"
      ]
    },
    {
      "cell_type": "code",
      "metadata": {
        "id": "6zwCQnmFBBv7",
        "colab_type": "code",
        "colab": {}
      },
      "source": [
        "from sklearn.model_selection import ShuffleSplit\n",
        "choosed_cv = ShuffleSplit(n_splits=5, test_size=0.25)\n",
        "\n",
        "tuned_parameters_1 = [{'loss': ['squared_loss', 'huber', 'epsilon_insensitive', \n",
        "                         'squared_epsilon_insensitive'], \n",
        "                        'learning_rate':['constant', 'optimal', 'invscaling']}]\n",
        "n_range = np.array(range(2,11,1))\n",
        "tuned_parameters_2 = [{'max_depth': n_range}]\n",
        "n_range2 = np.array(range(5, 45, 5))\n",
        "tuned_parameters_3 = [{'n_estimators': n_range2, 'max_depth': n_range}]"
      ],
      "execution_count": 0,
      "outputs": []
    },
    {
      "cell_type": "code",
      "metadata": {
        "id": "6f6RdBlZBEcG",
        "colab_type": "code",
        "outputId": "05a23532-9dd8-4154-8e63-2d518e2e74b2",
        "colab": {
          "base_uri": "https://localhost:8080/",
          "height": 34
        }
      },
      "source": [
        "from sklearn.model_selection import GridSearchCV\n",
        "\n",
        "rg_sgd_gs = GridSearchCV(SGDRegressor(), tuned_parameters_1, \n",
        "                         cv=choosed_cv, scoring='explained_variance')\n",
        "rg_sgd_gs.fit(data_X_train, data_y_train)\n",
        "rg_sgd_gs.best_params_"
      ],
      "execution_count": 0,
      "outputs": [
        {
          "output_type": "execute_result",
          "data": {
            "text/plain": [
              "{'learning_rate': 'invscaling', 'loss': 'squared_loss'}"
            ]
          },
          "metadata": {
            "tags": []
          },
          "execution_count": 53
        }
      ]
    },
    {
      "cell_type": "code",
      "metadata": {
        "id": "5rrjzGJxBGUr",
        "colab_type": "code",
        "outputId": "8ad7dd20-92b4-438c-fc9c-9b45d63163f8",
        "colab": {
          "base_uri": "https://localhost:8080/",
          "height": 34
        }
      },
      "source": [
        "rg_dtr_gs = GridSearchCV(DecisionTreeRegressor(), tuned_parameters_2, \n",
        "                         cv=choosed_cv, scoring='explained_variance')\n",
        "rg_dtr_gs.fit(data_X_train, data_y_train)\n",
        "rg_dtr_gs.best_params_"
      ],
      "execution_count": 0,
      "outputs": [
        {
          "output_type": "execute_result",
          "data": {
            "text/plain": [
              "{'max_depth': 2}"
            ]
          },
          "metadata": {
            "tags": []
          },
          "execution_count": 54
        }
      ]
    },
    {
      "cell_type": "code",
      "metadata": {
        "id": "9IqB_gJZBI8l",
        "colab_type": "code",
        "outputId": "6d0cff9a-892b-4627-a33e-ba7733708cd8",
        "colab": {
          "base_uri": "https://localhost:8080/",
          "height": 34
        }
      },
      "source": [
        "rg_rfr_gs = GridSearchCV(RandomForestRegressor(), tuned_parameters_3, \n",
        "                         cv=choosed_cv, scoring='explained_variance')\n",
        "rg_rfr_gs.fit(data_X_train, data_y_train)\n",
        "rg_rfr_gs.best_params_"
      ],
      "execution_count": 0,
      "outputs": [
        {
          "output_type": "execute_result",
          "data": {
            "text/plain": [
              "{'max_depth': 6, 'n_estimators': 15}"
            ]
          },
          "metadata": {
            "tags": []
          },
          "execution_count": 55
        }
      ]
    },
    {
      "cell_type": "markdown",
      "metadata": {
        "id": "kiRqDg9zBcfC",
        "colab_type": "text"
      },
      "source": [
        "## Сравнение модели с произвольным и лучшим параметром K\n",
        "\n",
        "Обучим модели на исходных гиперпараметрах и оптимизированных гиперпараметрах."
      ]
    },
    {
      "cell_type": "code",
      "metadata": {
        "id": "dSKrAJUPBfBM",
        "colab_type": "code",
        "colab": {}
      },
      "source": [
        "choosed_and_optimized_models = [SGDRegressor(),\n",
        "                                SGDRegressor(learning_rate='invscaling',\n",
        "                                            loss='squared_loss'),\n",
        "                                DecisionTreeRegressor(max_depth=3),\n",
        "                                DecisionTreeRegressor(max_depth=2),\n",
        "                                RandomForestRegressor(n_estimators=10, \n",
        "                                                      max_depth=3),\n",
        "                                RandomForestRegressor(n_estimators=15, \n",
        "                                                      max_depth=6)\n",
        "                               ]"
      ],
      "execution_count": 0,
      "outputs": []
    },
    {
      "cell_type": "code",
      "metadata": {
        "id": "VHd-2dKbBhYn",
        "colab_type": "code",
        "outputId": "fc8c4582-e4b1-447c-b4b2-34392425744f",
        "colab": {
          "base_uri": "https://localhost:8080/",
          "height": 1037
        }
      },
      "source": [
        "for model in choosed_and_optimized_models:\n",
        "  regressor = Regressor(model, choosed_metrics, data_X_train, \n",
        "                        data_y_train, data_X_test, data_y_test)\n",
        "  regressor.training()\n",
        "  regressor.result()\n",
        "  print('-'*50)"
      ],
      "execution_count": 0,
      "outputs": [
        {
          "output_type": "stream",
          "text": [
            "Модель SGDRegressor(alpha=0.0001, average=False, early_stopping=False, epsilon=0.1,\n",
            "             eta0=0.01, fit_intercept=True, l1_ratio=0.15,\n",
            "             learning_rate='invscaling', loss='squared_loss', max_iter=1000,\n",
            "             n_iter_no_change=5, penalty='l2', power_t=0.25, random_state=None,\n",
            "             shuffle=True, tol=0.001, validation_fraction=0.1, verbose=0,\n",
            "             warm_start=False)\n",
            "Значение по метрике explained_variance_score:  55.96%\n",
            "Значение по метрике mean_absolute_error:  97.82%\n",
            "Значение по метрике median_absolute_error:  83.87%\n",
            "--------------------------------------------------\n",
            "Модель SGDRegressor(alpha=0.0001, average=False, early_stopping=False, epsilon=0.1,\n",
            "             eta0=0.01, fit_intercept=True, l1_ratio=0.15,\n",
            "             learning_rate='invscaling', loss='squared_loss', max_iter=1000,\n",
            "             n_iter_no_change=5, penalty='l2', power_t=0.25, random_state=None,\n",
            "             shuffle=True, tol=0.001, validation_fraction=0.1, verbose=0,\n",
            "             warm_start=False)\n",
            "Значение по метрике explained_variance_score:  56.23%\n",
            "Значение по метрике mean_absolute_error:  86.87%\n",
            "Значение по метрике median_absolute_error:  59.03%\n",
            "--------------------------------------------------\n",
            "Модель DecisionTreeRegressor(criterion='mse', max_depth=3, max_features=None,\n",
            "                      max_leaf_nodes=None, min_impurity_decrease=0.0,\n",
            "                      min_impurity_split=None, min_samples_leaf=1,\n",
            "                      min_samples_split=2, min_weight_fraction_leaf=0.0,\n",
            "                      presort=False, random_state=None, splitter='best')\n",
            "Значение по метрике explained_variance_score:  68.14%\n",
            "Значение по метрике mean_absolute_error:  78.09%\n",
            "Значение по метрике median_absolute_error:  62.24%\n",
            "--------------------------------------------------\n",
            "Модель DecisionTreeRegressor(criterion='mse', max_depth=2, max_features=None,\n",
            "                      max_leaf_nodes=None, min_impurity_decrease=0.0,\n",
            "                      min_impurity_split=None, min_samples_leaf=1,\n",
            "                      min_samples_split=2, min_weight_fraction_leaf=0.0,\n",
            "                      presort=False, random_state=None, splitter='best')\n",
            "Значение по метрике explained_variance_score:  62.62%\n",
            "Значение по метрике mean_absolute_error:  91.17%\n",
            "Значение по метрике median_absolute_error:  70.59%\n",
            "--------------------------------------------------\n",
            "Модель RandomForestRegressor(bootstrap=True, criterion='mse', max_depth=3,\n",
            "                      max_features='auto', max_leaf_nodes=None,\n",
            "                      min_impurity_decrease=0.0, min_impurity_split=None,\n",
            "                      min_samples_leaf=1, min_samples_split=2,\n",
            "                      min_weight_fraction_leaf=0.0, n_estimators=10,\n",
            "                      n_jobs=None, oob_score=False, random_state=None,\n",
            "                      verbose=0, warm_start=False)\n",
            "Значение по метрике explained_variance_score:  71.52%\n",
            "Значение по метрике mean_absolute_error:  75.53%\n",
            "Значение по метрике median_absolute_error:  56.88%\n",
            "--------------------------------------------------\n",
            "Модель RandomForestRegressor(bootstrap=True, criterion='mse', max_depth=6,\n",
            "                      max_features='auto', max_leaf_nodes=None,\n",
            "                      min_impurity_decrease=0.0, min_impurity_split=None,\n",
            "                      min_samples_leaf=1, min_samples_split=2,\n",
            "                      min_weight_fraction_leaf=0.0, n_estimators=15,\n",
            "                      n_jobs=None, oob_score=False, random_state=None,\n",
            "                      verbose=0, warm_start=False)\n",
            "Значение по метрике explained_variance_score:  62.88%\n",
            "Значение по метрике mean_absolute_error:  80.92%\n",
            "Значение по метрике median_absolute_error:  50.27%\n",
            "--------------------------------------------------\n"
          ],
          "name": "stdout"
        }
      ]
    },
    {
      "cell_type": "markdown",
      "metadata": {
        "id": "OEdhpfqUC1QZ",
        "colab_type": "text"
      },
      "source": [
        "## Выводы\n",
        "\n",
        "По полученным моделям и значениям можно сделать следующие выводы:\n",
        "\n",
        "* Регрессор градиентного спуска имел наилучшую конфигурацию при стандартных настройках;\n",
        "* Регрессор показал себя хуже всего в обучении;\n",
        "* Для DecisionTreeRegressor и RandomForestRegressor критично задавать оптимальные гиперпараметры, это улучшает точность на порядок;\n",
        "* Наилучшим образом себя показала модель на RandomForestRegressor без ансамблевого метода. Она объясняет 69.17% всей вариации признака температуры, что является хорошим показателем."
      ]
    }
  ]
}